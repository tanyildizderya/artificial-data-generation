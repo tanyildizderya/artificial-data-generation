{
  "nbformat": 4,
  "nbformat_minor": 0,
  "metadata": {
    "colab": {
      "provenance": [],
      "machine_shape": "hm"
    },
    "kernelspec": {
      "name": "python3",
      "display_name": "Python 3"
    },
    "language_info": {
      "name": "python"
    },
    "accelerator": "GPU",
    "gpuClass": "standard"
  },
  "cells": [
    {
      "cell_type": "code",
      "execution_count": 1,
      "metadata": {
        "id": "ydn-nBdN9T5m"
      },
      "outputs": [],
      "source": [
        "import numpy as np\n",
        "import pandas as pd\n",
        "from nltk.stem import WordNetLemmatizer\n",
        "from nltk.tokenize import word_tokenize\n",
        "from nltk.corpus import stopwords\n",
        "from tensorflow.keras.preprocessing.text import Tokenizer\n",
        "from tensorflow.keras.preprocessing.sequence import pad_sequences\n",
        "import re\n",
        "import string\n",
        "import tensorflow\n",
        "from tensorflow.keras import layers\n",
        "from keras.callbacks import EarlyStopping\n",
        "from sklearn.model_selection import train_test_split\n",
        "from sklearn.metrics import classification_report\n",
        "from sklearn.metrics import confusion_matrix\n",
        "import matplotlib.pyplot as plt\n",
        "from sklearn import metrics\n",
        "import os\n",
        "import pickle"
      ]
    },
    {
      "cell_type": "code",
      "source": [
        "import nltk\n",
        "nltk.download(\"wordnet\")\n",
        "nltk.download(\"stopwords\")\n",
        "nltk.download(\"punkt\")\n",
        "nltk.download(\"omw-1.4\")"
      ],
      "metadata": {
        "colab": {
          "base_uri": "https://localhost:8080/"
        },
        "id": "Cz39Y5MD9VTO",
        "outputId": "1245d1e4-149c-4b59-afad-3b4ccc7f8558"
      },
      "execution_count": 2,
      "outputs": [
        {
          "output_type": "stream",
          "name": "stderr",
          "text": [
            "[nltk_data] Downloading package wordnet to /root/nltk_data...\n",
            "[nltk_data] Downloading package stopwords to /root/nltk_data...\n",
            "[nltk_data]   Unzipping corpora/stopwords.zip.\n",
            "[nltk_data] Downloading package punkt to /root/nltk_data...\n",
            "[nltk_data]   Unzipping tokenizers/punkt.zip.\n",
            "[nltk_data] Downloading package omw-1.4 to /root/nltk_data...\n"
          ]
        },
        {
          "output_type": "execute_result",
          "data": {
            "text/plain": [
              "True"
            ]
          },
          "metadata": {},
          "execution_count": 2
        }
      ]
    },
    {
      "cell_type": "code",
      "source": [
        "from google.colab import drive\n",
        "drive.mount('/content/drive')"
      ],
      "metadata": {
        "colab": {
          "base_uri": "https://localhost:8080/"
        },
        "id": "J3aOB25Q9XIv",
        "outputId": "46e378fa-1b65-4dd7-f797-5ba53cdec660"
      },
      "execution_count": 3,
      "outputs": [
        {
          "output_type": "stream",
          "name": "stdout",
          "text": [
            "Mounted at /content/drive\n"
          ]
        }
      ]
    },
    {
      "cell_type": "markdown",
      "source": [
        " # T5"
      ],
      "metadata": {
        "id": "A836KFvcSRo5"
      }
    },
    {
      "cell_type": "markdown",
      "source": [
        "## SMS Spam Data"
      ],
      "metadata": {
        "id": "hnGevFfeI4or"
      }
    },
    {
      "cell_type": "code",
      "source": [
        "df = pd.read_csv(\"/content/drive/MyDrive/sms_v2.csv\")"
      ],
      "metadata": {
        "id": "CLXSwRzSIqvB"
      },
      "execution_count": 37,
      "outputs": []
    },
    {
      "cell_type": "code",
      "source": [
        "augmented_dataset = pd.read_csv(\"/content/drive/MyDrive/EnsembleLearningProject/t5/sms_aug_t5.csv\")"
      ],
      "metadata": {
        "id": "_5ho7pjDJFWR"
      },
      "execution_count": 38,
      "outputs": []
    },
    {
      "cell_type": "code",
      "source": [
        "df.columns\n",
        "df.rename(columns={'Rofl. Its true to its name': 'Message', 'Non-Spam': 'Category'}, inplace=True)"
      ],
      "metadata": {
        "id": "cPlrpt4yzvtd"
      },
      "execution_count": 39,
      "outputs": []
    },
    {
      "cell_type": "code",
      "source": [
        "augmented_dataset.columns\n",
        "augmented_dataset.rename(columns={'Its true to its name is Rofl.': 'Message', 'Non-Spam': 'Category'}, inplace=True)"
      ],
      "metadata": {
        "id": "HPO_vzsEz21H"
      },
      "execution_count": 40,
      "outputs": []
    },
    {
      "cell_type": "code",
      "source": [
        "#BAŞTA\n",
        "df_top=pd.concat([augmented_dataset,df],ignore_index=True)\n",
        "df_top.count()\n",
        "\n",
        "#ORTADA\n",
        "df_mid = pd.concat([df.iloc[:250], augmented_dataset, df.iloc[250:]]).reset_index(drop=True)\n",
        "\n",
        "#SONDA\n",
        "df_tail =pd.concat([df,augmented_dataset],ignore_index=True)\n",
        "df_tail.count()\n"
      ],
      "metadata": {
        "colab": {
          "base_uri": "https://localhost:8080/"
        },
        "id": "hhgUFJbq9eC2",
        "outputId": "dac5d373-5880-467d-9444-16509b62e9be"
      },
      "execution_count": 41,
      "outputs": [
        {
          "output_type": "execute_result",
          "data": {
            "text/plain": [
              "Message     997\n",
              "Category    997\n",
              "dtype: int64"
            ]
          },
          "metadata": {},
          "execution_count": 41
        }
      ]
    },
    {
      "cell_type": "code",
      "source": [
        "df_top.drop_duplicates(inplace = True)\n",
        "df_mid.drop_duplicates(inplace = True)\n",
        "df_tail.drop_duplicates(inplace = True)"
      ],
      "metadata": {
        "id": "RU0UqDLGKP-A"
      },
      "execution_count": 42,
      "outputs": []
    },
    {
      "cell_type": "code",
      "source": [
        "df_top.rename(columns={'Text': 'Message', 'Non-Spam': 'Category'}, inplace=True)\n",
        "df_mid.rename(columns={'Text': 'Message', 'Non-Spam': 'Category'}, inplace=True)\n",
        "df_tail.rename(columns={'Text': 'Message', 'Non-Spam': 'Category'}, inplace=True)"
      ],
      "metadata": {
        "id": "Lgmfxky5L2b3"
      },
      "execution_count": 43,
      "outputs": []
    },
    {
      "cell_type": "code",
      "source": [
        "def preprocess(text):\n",
        "    text = text.lower()\n",
        "    text = re.sub(r'https?://\\S+|www.\\S+', '', text)\n",
        "    text = re.sub(r'<.*?>', '', text)\n",
        "    text = re.sub(r'[^a-zA-Z]+', ' ', text)\n",
        "    text = re.sub(r'[0-9]', '', text)\n",
        "    translator = str.maketrans(\"\", \"\", string.punctuation)\n",
        "    text = text.translate(translator)\n",
        "    words = word_tokenize(text)\n",
        "    words = [word for word in words if word not in stopwords.words(\"english\")]\n",
        "    lemmatizer = WordNetLemmatizer()\n",
        "    words = [lemmatizer.lemmatize(word) for word in words]\n",
        "    text = \" \".join(words)\n",
        "    return text"
      ],
      "metadata": {
        "id": "uLME7H2EKk85"
      },
      "execution_count": 44,
      "outputs": []
    },
    {
      "cell_type": "markdown",
      "source": [
        "### BAŞTA"
      ],
      "metadata": {
        "id": "WSp8NCBCO_D_"
      }
    },
    {
      "cell_type": "code",
      "source": [
        "df_top[\"Message\"] = df_top.Message.map(preprocess) "
      ],
      "metadata": {
        "id": "R7CTZEdmN-qW"
      },
      "execution_count": 45,
      "outputs": []
    },
    {
      "cell_type": "code",
      "source": [
        "maxSeq = len(df_top[\"Message\"][0])\n",
        "for i in range (0,len(df_top[\"Message\"])):\n",
        "  try:\n",
        "      cur = len(df_top[\"Message\"][i])\n",
        "      if (cur > maxSeq):\n",
        "          maxSeq = cur\n",
        "  except:\n",
        "      pass"
      ],
      "metadata": {
        "id": "4vHjc8QSOCyj"
      },
      "execution_count": 46,
      "outputs": []
    },
    {
      "cell_type": "code",
      "source": [
        "from collections import Counter\n",
        "\n",
        "def counter_word(text_col):\n",
        "    count = Counter()\n",
        "    for text in text_col.values:\n",
        "        for word in text.split():\n",
        "            count[word] += 1\n",
        "    return count\n",
        "\n",
        "counter = counter_word(df_top.Message)\n",
        "\n",
        "MAX_NB_WORDS = len(counter)\n",
        "MAX_SEQUENCE_LENGTH = maxSeq"
      ],
      "metadata": {
        "id": "UFLU6AnULnsm"
      },
      "execution_count": 47,
      "outputs": []
    },
    {
      "cell_type": "code",
      "source": [
        "EMBEDDING_DIM = 100\n",
        "tokenizer = Tokenizer(num_words=MAX_NB_WORDS)\n",
        "tokenizer.fit_on_texts(df_top['Message'].values)\n",
        "with open(\"tokenizer.pickle\", \"wb\") as handle:\n",
        "    pickle.dump(tokenizer, handle, protocol=pickle.HIGHEST_PROTOCOL)\n",
        "    "
      ],
      "metadata": {
        "id": "yS268JnlLpv1"
      },
      "execution_count": 48,
      "outputs": []
    },
    {
      "cell_type": "code",
      "source": [
        "X = tokenizer.texts_to_sequences(df_top['Message'].values)\n",
        "X = pad_sequences(X, maxlen=MAX_SEQUENCE_LENGTH)\n",
        "print('Shape of data tensor:', X.shape)"
      ],
      "metadata": {
        "colab": {
          "base_uri": "https://localhost:8080/"
        },
        "id": "ZR3WFtggLr-P",
        "outputId": "89061140-f35f-4527-ce3f-fce1d5516a8e"
      },
      "execution_count": 49,
      "outputs": [
        {
          "output_type": "stream",
          "name": "stdout",
          "text": [
            "Shape of data tensor: (977, 590)\n"
          ]
        }
      ]
    },
    {
      "cell_type": "code",
      "source": [
        "from sklearn import preprocessing\n",
        "labelencoder = preprocessing.LabelEncoder()\n",
        "df_top['Category'] = labelencoder.fit_transform(df_top['Category'])\n",
        "Y = df_top['Category'].values\n",
        "print('Shape of label tensor:', Y.shape)"
      ],
      "metadata": {
        "colab": {
          "base_uri": "https://localhost:8080/"
        },
        "id": "zfiWvFVhLt3n",
        "outputId": "d45d6af1-b675-4f3a-a1ac-4828b843620d"
      },
      "execution_count": 50,
      "outputs": [
        {
          "output_type": "stream",
          "name": "stdout",
          "text": [
            "Shape of label tensor: (977,)\n"
          ]
        }
      ]
    },
    {
      "cell_type": "code",
      "source": [
        "from sklearn.model_selection import train_test_split\n",
        "X_train, X_test, Y_train, Y_test = train_test_split(X,Y, test_size = 0.25, random_state = 42)\n",
        "print(X_train.shape,Y_train.shape)\n",
        "print(X_test.shape,Y_test.shape)"
      ],
      "metadata": {
        "colab": {
          "base_uri": "https://localhost:8080/"
        },
        "id": "fFqzLOwJLwE_",
        "outputId": "d0c0a711-13c4-4eec-bb72-c7456d9039ac"
      },
      "execution_count": 51,
      "outputs": [
        {
          "output_type": "stream",
          "name": "stdout",
          "text": [
            "(732, 590) (732,)\n",
            "(245, 590) (245,)\n"
          ]
        }
      ]
    },
    {
      "cell_type": "code",
      "source": [
        "import tensorflow \n",
        "from tensorflow.keras import layers\n",
        "from keras.callbacks import ModelCheckpoint, EarlyStopping"
      ],
      "metadata": {
        "id": "2o7mxiqeMFGJ"
      },
      "execution_count": 52,
      "outputs": []
    },
    {
      "cell_type": "code",
      "source": [
        "model = tensorflow.keras.models.Sequential()\n",
        "model.add(layers.Embedding(MAX_NB_WORDS, EMBEDDING_DIM, input_length=X.shape[1]))\n",
        "model.add(layers.LSTM(16))\n",
        "model.add(layers.Dense(1, activation='sigmoid'))\n",
        "model.compile(loss='binary_crossentropy', optimizer='adam', metrics=['accuracy'])\n",
        "\n",
        "epochs = 10\n",
        "batch_size = 128\n",
        "\n",
        "history = model.fit(X_train, Y_train, epochs=epochs, batch_size=batch_size,validation_split=0.2,callbacks=[EarlyStopping(monitor='val_loss', patience=3, min_delta=0.0001)])\n",
        "\n",
        "print(history.model.summary())"
      ],
      "metadata": {
        "colab": {
          "base_uri": "https://localhost:8080/"
        },
        "id": "c3tPBiLOMYP7",
        "outputId": "7ea2d37a-26bb-4108-e5d8-e7ff9187e21a"
      },
      "execution_count": 53,
      "outputs": [
        {
          "output_type": "stream",
          "name": "stdout",
          "text": [
            "Epoch 1/10\n",
            "5/5 [==============================] - 2s 146ms/step - loss: 0.6780 - accuracy: 0.8222 - val_loss: 0.6556 - val_accuracy: 0.8844\n",
            "Epoch 2/10\n",
            "5/5 [==============================] - 0s 37ms/step - loss: 0.6364 - accuracy: 0.8974 - val_loss: 0.6136 - val_accuracy: 0.8776\n",
            "Epoch 3/10\n",
            "5/5 [==============================] - 0s 28ms/step - loss: 0.5863 - accuracy: 0.8923 - val_loss: 0.5603 - val_accuracy: 0.8707\n",
            "Epoch 4/10\n",
            "5/5 [==============================] - 0s 27ms/step - loss: 0.5234 - accuracy: 0.8957 - val_loss: 0.4936 - val_accuracy: 0.8707\n",
            "Epoch 5/10\n",
            "5/5 [==============================] - 0s 28ms/step - loss: 0.4470 - accuracy: 0.8940 - val_loss: 0.4197 - val_accuracy: 0.8707\n",
            "Epoch 6/10\n",
            "5/5 [==============================] - 0s 28ms/step - loss: 0.3694 - accuracy: 0.8940 - val_loss: 0.3502 - val_accuracy: 0.8707\n",
            "Epoch 7/10\n",
            "5/5 [==============================] - 0s 28ms/step - loss: 0.3018 - accuracy: 0.8940 - val_loss: 0.2940 - val_accuracy: 0.8707\n",
            "Epoch 8/10\n",
            "5/5 [==============================] - 0s 27ms/step - loss: 0.2498 - accuracy: 0.9009 - val_loss: 0.2523 - val_accuracy: 0.8776\n",
            "Epoch 9/10\n",
            "5/5 [==============================] - 0s 28ms/step - loss: 0.2097 - accuracy: 0.9162 - val_loss: 0.2169 - val_accuracy: 0.9048\n",
            "Epoch 10/10\n",
            "5/5 [==============================] - 0s 28ms/step - loss: 0.1775 - accuracy: 0.9385 - val_loss: 0.1855 - val_accuracy: 0.9388\n",
            "Model: \"sequential_3\"\n",
            "_________________________________________________________________\n",
            " Layer (type)                Output Shape              Param #   \n",
            "=================================================================\n",
            " embedding_3 (Embedding)     (None, 590, 100)          190600    \n",
            "                                                                 \n",
            " lstm_3 (LSTM)               (None, 16)                7488      \n",
            "                                                                 \n",
            " dense_3 (Dense)             (None, 1)                 17        \n",
            "                                                                 \n",
            "=================================================================\n",
            "Total params: 198,105\n",
            "Trainable params: 198,105\n",
            "Non-trainable params: 0\n",
            "_________________________________________________________________\n",
            "None\n"
          ]
        }
      ]
    },
    {
      "cell_type": "code",
      "source": [
        "plt.title('Loss')\n",
        "plt.plot(history.history['loss'], label='train')\n",
        "plt.plot(history.history['val_loss'], label='test')\n",
        "plt.legend()\n",
        "plt.show()\n"
      ],
      "metadata": {
        "colab": {
          "base_uri": "https://localhost:8080/",
          "height": 281
        },
        "id": "srZEjrtYMeYu",
        "outputId": "84ad3268-0908-4cec-9969-7743fa1a5020"
      },
      "execution_count": 54,
      "outputs": [
        {
          "output_type": "display_data",
          "data": {
            "text/plain": [
              "<Figure size 432x288 with 1 Axes>"
            ],
            "image/png": "[encoded data removed]"
          },
          "metadata": {
            "needs_background": "light"
          }
        }
      ]
    },
    {
      "cell_type": "code",
      "source": [
        "plt.title('Accuracy')\n",
        "plt.plot(history.history['accuracy'], label='train')\n",
        "plt.plot(history.history['val_accuracy'], label='test')\n",
        "plt.legend()\n",
        "plt.show()\n"
      ],
      "metadata": {
        "colab": {
          "base_uri": "https://localhost:8080/",
          "height": 281
        },
        "id": "qCz4Fc8GMoZj",
        "outputId": "13188c35-d7c4-44e3-ef57-35a6a52a367c"
      },
      "execution_count": 55,
      "outputs": [
        {
          "output_type": "display_data",
          "data": {
            "text/plain": [
              "<Figure size 432x288 with 1 Axes>"
            ],
            "image/png": "[encoded data removed]"
          },
          "metadata": {
            "needs_background": "light"
          }
        }
      ]
    },
    {
      "cell_type": "code",
      "source": [
        "threshold = 0.5\n",
        "\n",
        "result = model.predict(X_test, verbose=2)\n",
        "result = result > threshold\n",
        "result = result.astype(int)\n"
      ],
      "metadata": {
        "colab": {
          "base_uri": "https://localhost:8080/"
        },
        "id": "v52GVOpJMqot",
        "outputId": "4f3f9df7-1fbc-4776-9f9a-df1cff461806"
      },
      "execution_count": 56,
      "outputs": [
        {
          "output_type": "stream",
          "name": "stdout",
          "text": [
            "8/8 - 0s - 434ms/epoch - 54ms/step\n"
          ]
        }
      ]
    },
    {
      "cell_type": "code",
      "source": [
        "from sklearn.metrics import classification_report\n",
        "target_names = ['not spam','spam']\n",
        "print(classification_report(Y_test, result, target_names=target_names))"
      ],
      "metadata": {
        "colab": {
          "base_uri": "https://localhost:8080/"
        },
        "id": "90kGEIWzMsL3",
        "outputId": "dd057c74-4511-4a96-ecba-8084cd1b75e5"
      },
      "execution_count": 57,
      "outputs": [
        {
          "output_type": "stream",
          "name": "stdout",
          "text": [
            "              precision    recall  f1-score   support\n",
            "\n",
            "    not spam       0.93      1.00      0.96       210\n",
            "        spam       1.00      0.51      0.68        35\n",
            "\n",
            "    accuracy                           0.93       245\n",
            "   macro avg       0.96      0.76      0.82       245\n",
            "weighted avg       0.94      0.93      0.92       245\n",
            "\n"
          ]
        }
      ]
    },
    {
      "cell_type": "code",
      "source": [
        "from sklearn.metrics import confusion_matrix\n",
        "cm = confusion_matrix(Y_test, result)\n",
        "cm_df = pd.DataFrame(cm,\n",
        "                     index = target_names, \n",
        "                     columns = target_names)\n",
        "cm_df"
      ],
      "metadata": {
        "colab": {
          "base_uri": "https://localhost:8080/",
          "height": 112
        },
        "id": "ff76BfdMMxZ2",
        "outputId": "290e65c3-9879-4976-dc7e-fb5e8e2828be"
      },
      "execution_count": 58,
      "outputs": [
        {
          "output_type": "execute_result",
          "data": {
            "text/plain": [
              "          not spam  spam\n",
              "not spam       210     0\n",
              "spam            17    18"
            ],
            "text/html": [
              "\n",
              "  <div id=\"df-81c458e8-09cc-4ff3-ab46-e195ffa579a3\">\n",
              "    <div class=\"colab-df-container\">\n",
              "      <div>\n",
              "<style scoped>\n",
              "    .dataframe tbody tr th:only-of-type {\n",
              "        vertical-align: middle;\n",
              "    }\n",
              "\n",
              "    .dataframe tbody tr th {\n",
              "        vertical-align: top;\n",
              "    }\n",
              "\n",
              "    .dataframe thead th {\n",
              "        text-align: right;\n",
              "    }\n",
              "</style>\n",
              "<table border=\"1\" class=\"dataframe\">\n",
              "  <thead>\n",
              "    <tr style=\"text-align: right;\">\n",
              "      <th></th>\n",
              "      <th>not spam</th>\n",
              "      <th>spam</th>\n",
              "    </tr>\n",
              "  </thead>\n",
              "  <tbody>\n",
              "    <tr>\n",
              "      <th>not spam</th>\n",
              "      <td>210</td>\n",
              "      <td>0</td>\n",
              "    </tr>\n",
              "    <tr>\n",
              "      <th>spam</th>\n",
              "      <td>17</td>\n",
              "      <td>18</td>\n",
              "    </tr>\n",
              "  </tbody>\n",
              "</table>\n",
              "</div>\n",
              "      <button class=\"colab-df-convert\" onclick=\"convertToInteractive('df-81c458e8-09cc-4ff3-ab46-e195ffa579a3')\"\n",
              "              title=\"Convert this dataframe to an interactive table.\"\n",
              "              style=\"display:none;\">\n",
              "        \n",
              "  <svg xmlns=\"http://www.w3.org/2000/svg\" height=\"24px\"viewBox=\"0 0 24 24\"\n",
              "       width=\"24px\">\n",
              "    <path d=\"M0 0h24v24H0V0z\" fill=\"none\"/>\n",
              "    <path d=\"M18.56 5.44l.94 2.06.94-2.06 2.06-.94-2.06-.94-.94-2.06-.94 2.06-2.06.94zm-11 1L8.5 8.5l.94-2.06 2.06-.94-2.06-.94L8.5 2.5l-.94 2.06-2.06.94zm10 10l.94 2.06.94-2.06 2.06-.94-2.06-.94-.94-2.06-.94 2.06-2.06.94z\"/><path d=\"M17.41 7.96l-1.37-1.37c-.4-.4-.92-.59-1.43-.59-.52 0-1.04.2-1.43.59L10.3 9.45l-7.72 7.72c-.78.78-.78 2.05 0 2.83L4 21.41c.39.39.9.59 1.41.59.51 0 1.02-.2 1.41-.59l7.78-7.78 2.81-2.81c.8-.78.8-2.07 0-2.86zM5.41 20L4 18.59l7.72-7.72 1.47 1.35L5.41 20z\"/>\n",
              "  </svg>\n",
              "      </button>\n",
              "      \n",
              "  <style>\n",
              "    .colab-df-container {\n",
              "      display:flex;\n",
              "      flex-wrap:wrap;\n",
              "      gap: 12px;\n",
              "    }\n",
              "\n",
              "    .colab-df-convert {\n",
              "      background-color: #E8F0FE;\n",
              "      border: none;\n",
              "      border-radius: 50%;\n",
              "      cursor: pointer;\n",
              "      display: none;\n",
              "      fill: #1967D2;\n",
              "      height: 32px;\n",
              "      padding: 0 0 0 0;\n",
              "      width: 32px;\n",
              "    }\n",
              "\n",
              "    .colab-df-convert:hover {\n",
              "      background-color: #E2EBFA;\n",
              "      box-shadow: 0px 1px 2px rgba(60, 64, 67, 0.3), 0px 1px 3px 1px rgba(60, 64, 67, 0.15);\n",
              "      fill: #174EA6;\n",
              "    }\n",
              "\n",
              "    [theme=dark] .colab-df-convert {\n",
              "      background-color: #3B4455;\n",
              "      fill: #D2E3FC;\n",
              "    }\n",
              "\n",
              "    [theme=dark] .colab-df-convert:hover {\n",
              "      background-color: #434B5C;\n",
              "      box-shadow: 0px 1px 3px 1px rgba(0, 0, 0, 0.15);\n",
              "      filter: drop-shadow(0px 1px 2px rgba(0, 0, 0, 0.3));\n",
              "      fill: #FFFFFF;\n",
              "    }\n",
              "  </style>\n",
              "\n",
              "      <script>\n",
              "        const buttonEl =\n",
              "          document.querySelector('#df-81c458e8-09cc-4ff3-ab46-e195ffa579a3 button.colab-df-convert');\n",
              "        buttonEl.style.display =\n",
              "          google.colab.kernel.accessAllowed ? 'block' : 'none';\n",
              "\n",
              "        async function convertToInteractive(key) {\n",
              "          const element = document.querySelector('#df-81c458e8-09cc-4ff3-ab46-e195ffa579a3');\n",
              "          const dataTable =\n",
              "            await google.colab.kernel.invokeFunction('convertToInteractive',\n",
              "                                                     [key], {});\n",
              "          if (!dataTable) return;\n",
              "\n",
              "          const docLinkHtml = 'Like what you see? Visit the ' +\n",
              "            '<a target=\"_blank\" href=https://colab.research.google.com/notebooks/data_table.ipynb>data table notebook</a>'\n",
              "            + ' to learn more about interactive tables.';\n",
              "          element.innerHTML = '';\n",
              "          dataTable['output_type'] = 'display_data';\n",
              "          await google.colab.output.renderOutput(dataTable, element);\n",
              "          const docLink = document.createElement('div');\n",
              "          docLink.innerHTML = docLinkHtml;\n",
              "          element.appendChild(docLink);\n",
              "        }\n",
              "      </script>\n",
              "    </div>\n",
              "  </div>\n",
              "  "
            ]
          },
          "metadata": {},
          "execution_count": 58
        }
      ]
    },
    {
      "cell_type": "markdown",
      "source": [
        "### ORTADA"
      ],
      "metadata": {
        "id": "Ej-yxcpFPBX9"
      }
    },
    {
      "cell_type": "code",
      "source": [
        "df_mid[\"Message\"] = df_mid.Message.map(preprocess) \n",
        "maxSeq = len(df_mid[\"Message\"][0])\n",
        "for i in range (0,len(df_mid[\"Message\"])):\n",
        "  try:\n",
        "      cur = len(df_mid[\"Message\"][i])\n",
        "      if (cur > maxSeq):\n",
        "          maxSeq = cur\n",
        "  except:\n",
        "      pass"
      ],
      "metadata": {
        "id": "pFuyrGcBM1vy"
      },
      "execution_count": 59,
      "outputs": []
    },
    {
      "cell_type": "code",
      "source": [
        "from collections import Counter\n",
        "\n",
        "def counter_word(text_col):\n",
        "    count = Counter()\n",
        "    for text in text_col.values:\n",
        "        for word in text.split():\n",
        "            count[word] += 1\n",
        "    return count\n",
        "\n",
        "counter = counter_word(df_mid.Message)\n",
        "\n",
        "MAX_NB_WORDS = len(counter)\n",
        "MAX_SEQUENCE_LENGTH = maxSeq\n",
        "\n",
        "EMBEDDING_DIM = 100\n",
        "tokenizer = Tokenizer(num_words=MAX_NB_WORDS)\n",
        "tokenizer.fit_on_texts(df_mid['Message'].values)\n",
        "with open(\"tokenizer.pickle\", \"wb\") as handle:\n",
        "    pickle.dump(tokenizer, handle, protocol=pickle.HIGHEST_PROTOCOL)\n",
        "\n",
        "X = tokenizer.texts_to_sequences(df_mid['Message'].values)\n",
        "X = pad_sequences(X, maxlen=MAX_SEQUENCE_LENGTH)\n",
        "print('Shape of data tensor:', X.shape)"
      ],
      "metadata": {
        "colab": {
          "base_uri": "https://localhost:8080/"
        },
        "id": "FM6mMuRBPIOM",
        "outputId": "c1bb28f1-e271-4adf-d78f-333039b8b60d"
      },
      "execution_count": 60,
      "outputs": [
        {
          "output_type": "stream",
          "name": "stdout",
          "text": [
            "Shape of data tensor: (977, 590)\n"
          ]
        }
      ]
    },
    {
      "cell_type": "code",
      "source": [
        "from sklearn import preprocessing\n",
        "labelencoder = preprocessing.LabelEncoder()\n",
        "df_mid['Category'] = labelencoder.fit_transform(df_mid['Category'])\n",
        "Y = df_mid['Category'].values\n",
        "print('Shape of label tensor:', Y.shape)\n"
      ],
      "metadata": {
        "colab": {
          "base_uri": "https://localhost:8080/"
        },
        "id": "uzJ4IZPvPWBz",
        "outputId": "5dc1a076-df59-4397-ac20-529a6910370d"
      },
      "execution_count": 61,
      "outputs": [
        {
          "output_type": "stream",
          "name": "stdout",
          "text": [
            "Shape of label tensor: (977,)\n"
          ]
        }
      ]
    },
    {
      "cell_type": "code",
      "source": [
        "from sklearn.model_selection import train_test_split\n",
        "X_train, X_test, Y_train, Y_test = train_test_split(X,Y, test_size = 0.25, random_state = 42)\n",
        "print(X_train.shape,Y_train.shape)\n",
        "print(X_test.shape,Y_test.shape)"
      ],
      "metadata": {
        "colab": {
          "base_uri": "https://localhost:8080/"
        },
        "id": "J8AViAszPaPa",
        "outputId": "f3d0932f-1e67-48dc-cc29-df7133edc3db"
      },
      "execution_count": 62,
      "outputs": [
        {
          "output_type": "stream",
          "name": "stdout",
          "text": [
            "(732, 590) (732,)\n",
            "(245, 590) (245,)\n"
          ]
        }
      ]
    },
    {
      "cell_type": "code",
      "source": [
        "import tensorflow \n",
        "from tensorflow.keras import layers\n",
        "from keras.callbacks import ModelCheckpoint, EarlyStopping\n",
        "\n",
        "\n",
        "model = tensorflow.keras.models.Sequential()\n",
        "model.add(layers.Embedding(MAX_NB_WORDS, EMBEDDING_DIM, input_length=X.shape[1]))\n",
        "model.add(layers.LSTM(32))\n",
        "model.add(layers.Dense(1, activation='sigmoid'))\n",
        "model.compile(loss='binary_crossentropy', optimizer='adam', metrics=['accuracy'])\n",
        "\n",
        "epochs = 10\n",
        "batch_size = 128\n",
        "\n",
        "history = model.fit(X_train, Y_train, epochs=epochs, batch_size=batch_size,validation_split=0.2,callbacks=[EarlyStopping(monitor='val_loss', patience=3, min_delta=0.0001)])\n",
        "\n",
        "print(history.model.summary())\n"
      ],
      "metadata": {
        "colab": {
          "base_uri": "https://localhost:8080/"
        },
        "id": "nRVDq7GmPdx5",
        "outputId": "5680bdf6-4623-4c27-89d4-8ca408f73804"
      },
      "execution_count": 63,
      "outputs": [
        {
          "output_type": "stream",
          "name": "stdout",
          "text": [
            "Epoch 1/10\n",
            "5/5 [==============================] - 2s 158ms/step - loss: 0.6795 - accuracy: 0.7333 - val_loss: 0.6433 - val_accuracy: 0.8639\n",
            "Epoch 2/10\n",
            "5/5 [==============================] - 0s 37ms/step - loss: 0.6161 - accuracy: 0.8872 - val_loss: 0.5706 - val_accuracy: 0.8571\n",
            "Epoch 3/10\n",
            "5/5 [==============================] - 0s 35ms/step - loss: 0.5218 - accuracy: 0.8821 - val_loss: 0.4526 - val_accuracy: 0.8571\n",
            "Epoch 4/10\n",
            "5/5 [==============================] - 0s 37ms/step - loss: 0.3733 - accuracy: 0.8821 - val_loss: 0.3445 - val_accuracy: 0.8571\n",
            "Epoch 5/10\n",
            "5/5 [==============================] - 0s 33ms/step - loss: 0.2894 - accuracy: 0.8821 - val_loss: 0.3575 - val_accuracy: 0.8571\n",
            "Epoch 6/10\n",
            "5/5 [==============================] - 0s 33ms/step - loss: 0.2771 - accuracy: 0.8821 - val_loss: 0.3164 - val_accuracy: 0.8571\n",
            "Epoch 7/10\n",
            "5/5 [==============================] - 0s 34ms/step - loss: 0.2177 - accuracy: 0.8906 - val_loss: 0.2435 - val_accuracy: 0.8776\n",
            "Epoch 8/10\n",
            "5/5 [==============================] - 0s 33ms/step - loss: 0.1792 - accuracy: 0.9436 - val_loss: 0.2121 - val_accuracy: 0.9388\n",
            "Epoch 9/10\n",
            "5/5 [==============================] - 0s 32ms/step - loss: 0.1505 - accuracy: 0.9675 - val_loss: 0.1813 - val_accuracy: 0.9456\n",
            "Epoch 10/10\n",
            "5/5 [==============================] - 0s 31ms/step - loss: 0.1210 - accuracy: 0.9709 - val_loss: 0.1672 - val_accuracy: 0.9456\n",
            "Model: \"sequential_4\"\n",
            "_________________________________________________________________\n",
            " Layer (type)                Output Shape              Param #   \n",
            "=================================================================\n",
            " embedding_4 (Embedding)     (None, 590, 100)          190600    \n",
            "                                                                 \n",
            " lstm_4 (LSTM)               (None, 32)                17024     \n",
            "                                                                 \n",
            " dense_4 (Dense)             (None, 1)                 33        \n",
            "                                                                 \n",
            "=================================================================\n",
            "Total params: 207,657\n",
            "Trainable params: 207,657\n",
            "Non-trainable params: 0\n",
            "_________________________________________________________________\n",
            "None\n"
          ]
        }
      ]
    },
    {
      "cell_type": "code",
      "source": [
        "plt.title('Loss')\n",
        "plt.plot(history.history['loss'], label='train')\n",
        "plt.plot(history.history['val_loss'], label='test')\n",
        "plt.legend()\n",
        "plt.show()"
      ],
      "metadata": {
        "colab": {
          "base_uri": "https://localhost:8080/",
          "height": 281
        },
        "id": "6n2HVPElPh3O",
        "outputId": "f8e2ef2f-6d9d-4335-a7eb-acc89f61f637"
      },
      "execution_count": 64,
      "outputs": [
        {
          "output_type": "display_data",
          "data": {
            "text/plain": [
              "<Figure size 432x288 with 1 Axes>"
            ],
            "image/png": "[encoded data removed]"
          },
          "metadata": {
            "needs_background": "light"
          }
        }
      ]
    },
    {
      "cell_type": "code",
      "source": [
        "plt.title('Accuracy')\n",
        "plt.plot(history.history['accuracy'], label='train')\n",
        "plt.plot(history.history['val_accuracy'], label='test')\n",
        "plt.legend()\n",
        "plt.show()"
      ],
      "metadata": {
        "colab": {
          "base_uri": "https://localhost:8080/",
          "height": 281
        },
        "id": "IBEC195sPoNf",
        "outputId": "d3a4c402-70d1-4c04-c954-4d558f23a91d"
      },
      "execution_count": 65,
      "outputs": [
        {
          "output_type": "display_data",
          "data": {
            "text/plain": [
              "<Figure size 432x288 with 1 Axes>"
            ],
            "image/png": "[encoded data removed]"
          },
          "metadata": {
            "needs_background": "light"
          }
        }
      ]
    },
    {
      "cell_type": "code",
      "source": [
        "threshold = 0.5\n",
        "\n",
        "result = model.predict(X_test, verbose=2)\n",
        "result = result > threshold\n",
        "result = result.astype(int)"
      ],
      "metadata": {
        "colab": {
          "base_uri": "https://localhost:8080/"
        },
        "id": "NuqhiyqtPq6m",
        "outputId": "62aec06d-8914-4604-d3e8-1795f121ff9f"
      },
      "execution_count": 66,
      "outputs": [
        {
          "output_type": "stream",
          "name": "stdout",
          "text": [
            "8/8 - 0s - 385ms/epoch - 48ms/step\n"
          ]
        }
      ]
    },
    {
      "cell_type": "code",
      "source": [
        "from sklearn.metrics import classification_report\n",
        "target_names = ['not spam','spam']\n",
        "print(classification_report(Y_test, result, target_names=target_names))\n",
        "\n",
        "from sklearn.metrics import confusion_matrix\n",
        "cm = confusion_matrix(Y_test, result)\n",
        "cm_df = pd.DataFrame(cm,\n",
        "                     index = target_names, \n",
        "                     columns = target_names)\n",
        "cm_df\n"
      ],
      "metadata": {
        "colab": {
          "base_uri": "https://localhost:8080/",
          "height": 268
        },
        "id": "aGqWCJnoPs0_",
        "outputId": "acfb2812-5406-4d61-81e9-4bc620b4a7b0"
      },
      "execution_count": 67,
      "outputs": [
        {
          "output_type": "stream",
          "name": "stdout",
          "text": [
            "              precision    recall  f1-score   support\n",
            "\n",
            "    not spam       0.95      1.00      0.98       217\n",
            "        spam       1.00      0.61      0.76        28\n",
            "\n",
            "    accuracy                           0.96       245\n",
            "   macro avg       0.98      0.80      0.87       245\n",
            "weighted avg       0.96      0.96      0.95       245\n",
            "\n"
          ]
        },
        {
          "output_type": "execute_result",
          "data": {
            "text/plain": [
              "          not spam  spam\n",
              "not spam       217     0\n",
              "spam            11    17"
            ],
            "text/html": [
              "\n",
              "  <div id=\"df-42d6b4ce-d5fc-4b17-9da9-2ebcb47f8de7\">\n",
              "    <div class=\"colab-df-container\">\n",
              "      <div>\n",
              "<style scoped>\n",
              "    .dataframe tbody tr th:only-of-type {\n",
              "        vertical-align: middle;\n",
              "    }\n",
              "\n",
              "    .dataframe tbody tr th {\n",
              "        vertical-align: top;\n",
              "    }\n",
              "\n",
              "    .dataframe thead th {\n",
              "        text-align: right;\n",
              "    }\n",
              "</style>\n",
              "<table border=\"1\" class=\"dataframe\">\n",
              "  <thead>\n",
              "    <tr style=\"text-align: right;\">\n",
              "      <th></th>\n",
              "      <th>not spam</th>\n",
              "      <th>spam</th>\n",
              "    </tr>\n",
              "  </thead>\n",
              "  <tbody>\n",
              "    <tr>\n",
              "      <th>not spam</th>\n",
              "      <td>217</td>\n",
              "      <td>0</td>\n",
              "    </tr>\n",
              "    <tr>\n",
              "      <th>spam</th>\n",
              "      <td>11</td>\n",
              "      <td>17</td>\n",
              "    </tr>\n",
              "  </tbody>\n",
              "</table>\n",
              "</div>\n",
              "      <button class=\"colab-df-convert\" onclick=\"convertToInteractive('df-42d6b4ce-d5fc-4b17-9da9-2ebcb47f8de7')\"\n",
              "              title=\"Convert this dataframe to an interactive table.\"\n",
              "              style=\"display:none;\">\n",
              "        \n",
              "  <svg xmlns=\"http://www.w3.org/2000/svg\" height=\"24px\"viewBox=\"0 0 24 24\"\n",
              "       width=\"24px\">\n",
              "    <path d=\"M0 0h24v24H0V0z\" fill=\"none\"/>\n",
              "    <path d=\"M18.56 5.44l.94 2.06.94-2.06 2.06-.94-2.06-.94-.94-2.06-.94 2.06-2.06.94zm-11 1L8.5 8.5l.94-2.06 2.06-.94-2.06-.94L8.5 2.5l-.94 2.06-2.06.94zm10 10l.94 2.06.94-2.06 2.06-.94-2.06-.94-.94-2.06-.94 2.06-2.06.94z\"/><path d=\"M17.41 7.96l-1.37-1.37c-.4-.4-.92-.59-1.43-.59-.52 0-1.04.2-1.43.59L10.3 9.45l-7.72 7.72c-.78.78-.78 2.05 0 2.83L4 21.41c.39.39.9.59 1.41.59.51 0 1.02-.2 1.41-.59l7.78-7.78 2.81-2.81c.8-.78.8-2.07 0-2.86zM5.41 20L4 18.59l7.72-7.72 1.47 1.35L5.41 20z\"/>\n",
              "  </svg>\n",
              "      </button>\n",
              "      \n",
              "  <style>\n",
              "    .colab-df-container {\n",
              "      display:flex;\n",
              "      flex-wrap:wrap;\n",
              "      gap: 12px;\n",
              "    }\n",
              "\n",
              "    .colab-df-convert {\n",
              "      background-color: #E8F0FE;\n",
              "      border: none;\n",
              "      border-radius: 50%;\n",
              "      cursor: pointer;\n",
              "      display: none;\n",
              "      fill: #1967D2;\n",
              "      height: 32px;\n",
              "      padding: 0 0 0 0;\n",
              "      width: 32px;\n",
              "    }\n",
              "\n",
              "    .colab-df-convert:hover {\n",
              "      background-color: #E2EBFA;\n",
              "      box-shadow: 0px 1px 2px rgba(60, 64, 67, 0.3), 0px 1px 3px 1px rgba(60, 64, 67, 0.15);\n",
              "      fill: #174EA6;\n",
              "    }\n",
              "\n",
              "    [theme=dark] .colab-df-convert {\n",
              "      background-color: #3B4455;\n",
              "      fill: #D2E3FC;\n",
              "    }\n",
              "\n",
              "    [theme=dark] .colab-df-convert:hover {\n",
              "      background-color: #434B5C;\n",
              "      box-shadow: 0px 1px 3px 1px rgba(0, 0, 0, 0.15);\n",
              "      filter: drop-shadow(0px 1px 2px rgba(0, 0, 0, 0.3));\n",
              "      fill: #FFFFFF;\n",
              "    }\n",
              "  </style>\n",
              "\n",
              "      <script>\n",
              "        const buttonEl =\n",
              "          document.querySelector('#df-42d6b4ce-d5fc-4b17-9da9-2ebcb47f8de7 button.colab-df-convert');\n",
              "        buttonEl.style.display =\n",
              "          google.colab.kernel.accessAllowed ? 'block' : 'none';\n",
              "\n",
              "        async function convertToInteractive(key) {\n",
              "          const element = document.querySelector('#df-42d6b4ce-d5fc-4b17-9da9-2ebcb47f8de7');\n",
              "          const dataTable =\n",
              "            await google.colab.kernel.invokeFunction('convertToInteractive',\n",
              "                                                     [key], {});\n",
              "          if (!dataTable) return;\n",
              "\n",
              "          const docLinkHtml = 'Like what you see? Visit the ' +\n",
              "            '<a target=\"_blank\" href=https://colab.research.google.com/notebooks/data_table.ipynb>data table notebook</a>'\n",
              "            + ' to learn more about interactive tables.';\n",
              "          element.innerHTML = '';\n",
              "          dataTable['output_type'] = 'display_data';\n",
              "          await google.colab.output.renderOutput(dataTable, element);\n",
              "          const docLink = document.createElement('div');\n",
              "          docLink.innerHTML = docLinkHtml;\n",
              "          element.appendChild(docLink);\n",
              "        }\n",
              "      </script>\n",
              "    </div>\n",
              "  </div>\n",
              "  "
            ]
          },
          "metadata": {},
          "execution_count": 67
        }
      ]
    },
    {
      "cell_type": "markdown",
      "source": [
        "### SONDA"
      ],
      "metadata": {
        "id": "kbyNDym5QvAq"
      }
    },
    {
      "cell_type": "code",
      "source": [
        "df_tail[\"Message\"] = df_tail.Message.map(preprocess) \n",
        "\n",
        "maxSeq = len(df_tail[\"Message\"][0])\n",
        "for i in range (0,len(df_tail[\"Message\"])):\n",
        "    try:\n",
        "        cur = len(df_tail[\"Message\"][i])\n",
        "        if (cur > maxSeq):\n",
        "            maxSeq = cur\n",
        "    except:\n",
        "        pass\n",
        "      \n",
        "from collections import Counter\n",
        "\n",
        "def counter_word(text_col):\n",
        "    count = Counter()\n",
        "    for text in text_col.values:\n",
        "        for word in text.split():\n",
        "            count[word] += 1\n",
        "    return count\n",
        "\n",
        "counter = counter_word(df_tail.Message)\n",
        "\n",
        "MAX_NB_WORDS = len(counter)\n",
        "MAX_SEQUENCE_LENGTH = maxSeq\n",
        "\n",
        "#ÖN İŞLEME-5\n",
        "EMBEDDING_DIM = 100\n",
        "tokenizer = Tokenizer(num_words=MAX_NB_WORDS)\n",
        "tokenizer.fit_on_texts(df_tail['Message'].values)\n",
        "with open(\"tokenizer.pickle\", \"wb\") as handle:\n",
        "    pickle.dump(tokenizer, handle, protocol=pickle.HIGHEST_PROTOCOL)\n",
        "    \n",
        "#ÖN İŞLEME-6    \n",
        "X = tokenizer.texts_to_sequences(df_tail['Message'].values)\n",
        "X = pad_sequences(X, maxlen=MAX_SEQUENCE_LENGTH)\n",
        "print('Shape of data tensor:', X.shape)\n",
        "\n",
        "#ÖN İŞLEME-7\n",
        "from sklearn import preprocessing\n",
        "labelencoder = preprocessing.LabelEncoder()\n",
        "df_tail['Category'] = labelencoder.fit_transform(df_tail['Category'])\n",
        "Y = df_tail['Category'].values\n",
        "print('Shape of label tensor:', Y.shape)\n"
      ],
      "metadata": {
        "colab": {
          "base_uri": "https://localhost:8080/"
        },
        "id": "XJlQsuOWPt24",
        "outputId": "2234c441-dd7b-402a-cc4b-2ed6ca085c75"
      },
      "execution_count": 68,
      "outputs": [
        {
          "output_type": "stream",
          "name": "stdout",
          "text": [
            "Shape of data tensor: (977, 590)\n",
            "Shape of label tensor: (977,)\n"
          ]
        }
      ]
    },
    {
      "cell_type": "code",
      "source": [
        "from sklearn.model_selection import train_test_split\n",
        "X_train, X_test, Y_train, Y_test = train_test_split(X,Y, test_size = 0.25, random_state = 42)\n",
        "print(X_train.shape,Y_train.shape)\n",
        "print(X_test.shape,Y_test.shape)"
      ],
      "metadata": {
        "colab": {
          "base_uri": "https://localhost:8080/"
        },
        "id": "4UEj-wjDRCZV",
        "outputId": "d038ad21-66de-413a-99f0-b70cc3399bb2"
      },
      "execution_count": 69,
      "outputs": [
        {
          "output_type": "stream",
          "name": "stdout",
          "text": [
            "(732, 590) (732,)\n",
            "(245, 590) (245,)\n"
          ]
        }
      ]
    },
    {
      "cell_type": "code",
      "source": [
        "import tensorflow \n",
        "from tensorflow.keras import layers\n",
        "from keras.callbacks import ModelCheckpoint, EarlyStopping\n"
      ],
      "metadata": {
        "id": "flRFKLdlREcJ"
      },
      "execution_count": 70,
      "outputs": []
    },
    {
      "cell_type": "code",
      "source": [
        "model = tensorflow.keras.models.Sequential()\n",
        "model.add(layers.Embedding(MAX_NB_WORDS, EMBEDDING_DIM, input_length=X.shape[1]))\n",
        "model.add(layers.LSTM(32))\n",
        "model.add(layers.Dense(1, activation='sigmoid'))\n",
        "model.compile(loss='binary_crossentropy', optimizer='adam', metrics=['accuracy'])\n",
        "\n",
        "epochs = 10\n",
        "batch_size = 128\n",
        "\n",
        "history = model.fit(X_train, Y_train, epochs=epochs, batch_size=batch_size,validation_split=0.2,callbacks=[EarlyStopping(monitor='val_loss', patience=3, min_delta=0.0001)])\n",
        "\n",
        "print(history.model.summary())"
      ],
      "metadata": {
        "colab": {
          "base_uri": "https://localhost:8080/"
        },
        "id": "7oxNWtgdRFVQ",
        "outputId": "498d92c8-6ff4-4e4a-ca35-d1768c91987a"
      },
      "execution_count": 71,
      "outputs": [
        {
          "output_type": "stream",
          "name": "stdout",
          "text": [
            "Epoch 1/10\n",
            "5/5 [==============================] - 3s 150ms/step - loss: 0.6794 - accuracy: 0.7778 - val_loss: 0.6530 - val_accuracy: 0.8707\n",
            "Epoch 2/10\n",
            "5/5 [==============================] - 0s 45ms/step - loss: 0.6302 - accuracy: 0.8923 - val_loss: 0.5928 - val_accuracy: 0.8707\n",
            "Epoch 3/10\n",
            "5/5 [==============================] - 0s 32ms/step - loss: 0.5488 - accuracy: 0.8906 - val_loss: 0.4903 - val_accuracy: 0.8707\n",
            "Epoch 4/10\n",
            "5/5 [==============================] - 0s 32ms/step - loss: 0.4291 - accuracy: 0.8906 - val_loss: 0.3903 - val_accuracy: 0.8707\n",
            "Epoch 5/10\n",
            "5/5 [==============================] - 0s 34ms/step - loss: 0.3399 - accuracy: 0.8906 - val_loss: 0.3575 - val_accuracy: 0.8707\n",
            "Epoch 6/10\n",
            "5/5 [==============================] - 0s 34ms/step - loss: 0.3112 - accuracy: 0.8906 - val_loss: 0.3506 - val_accuracy: 0.8707\n",
            "Epoch 7/10\n",
            "5/5 [==============================] - 0s 32ms/step - loss: 0.2860 - accuracy: 0.8906 - val_loss: 0.3153 - val_accuracy: 0.8707\n",
            "Epoch 8/10\n",
            "5/5 [==============================] - 0s 33ms/step - loss: 0.2317 - accuracy: 0.8974 - val_loss: 0.2546 - val_accuracy: 0.8707\n",
            "Epoch 9/10\n",
            "5/5 [==============================] - 0s 32ms/step - loss: 0.1924 - accuracy: 0.9368 - val_loss: 0.2234 - val_accuracy: 0.9048\n",
            "Epoch 10/10\n",
            "5/5 [==============================] - 0s 33ms/step - loss: 0.1634 - accuracy: 0.9573 - val_loss: 0.1903 - val_accuracy: 0.9252\n",
            "Model: \"sequential_5\"\n",
            "_________________________________________________________________\n",
            " Layer (type)                Output Shape              Param #   \n",
            "=================================================================\n",
            " embedding_5 (Embedding)     (None, 590, 100)          190600    \n",
            "                                                                 \n",
            " lstm_5 (LSTM)               (None, 32)                17024     \n",
            "                                                                 \n",
            " dense_5 (Dense)             (None, 1)                 33        \n",
            "                                                                 \n",
            "=================================================================\n",
            "Total params: 207,657\n",
            "Trainable params: 207,657\n",
            "Non-trainable params: 0\n",
            "_________________________________________________________________\n",
            "None\n"
          ]
        }
      ]
    },
    {
      "cell_type": "code",
      "source": [
        "plt.title('Loss')\n",
        "plt.plot(history.history['loss'], label='train')\n",
        "plt.plot(history.history['val_loss'], label='test')\n",
        "plt.legend()\n",
        "plt.show()"
      ],
      "metadata": {
        "colab": {
          "base_uri": "https://localhost:8080/",
          "height": 281
        },
        "id": "AJcb91RmRGqa",
        "outputId": "da749682-fea2-459c-e941-951c90ec050c"
      },
      "execution_count": 72,
      "outputs": [
        {
          "output_type": "display_data",
          "data": {
            "text/plain": [
              "<Figure size 432x288 with 1 Axes>"
            ],
            "image/png": "[encoded data removed]"
          },
          "metadata": {
            "needs_background": "light"
          }
        }
      ]
    },
    {
      "cell_type": "code",
      "source": [
        "plt.title('Accuracy')\n",
        "plt.plot(history.history['accuracy'], label='train')\n",
        "plt.plot(history.history['val_accuracy'], label='test')\n",
        "plt.legend()\n",
        "plt.show()\n"
      ],
      "metadata": {
        "colab": {
          "base_uri": "https://localhost:8080/",
          "height": 281
        },
        "id": "2OqqW0sGRqZI",
        "outputId": "ba6d1569-3d98-42f8-c26a-b8f21fe123da"
      },
      "execution_count": 73,
      "outputs": [
        {
          "output_type": "display_data",
          "data": {
            "text/plain": [
              "<Figure size 432x288 with 1 Axes>"
            ],
            "image/png": "[encoded data removed]"
          },
          "metadata": {
            "needs_background": "light"
          }
        }
      ]
    },
    {
      "cell_type": "code",
      "source": [
        "threshold = 0.5\n",
        "\n",
        "result = model.predict(X_test, verbose=2)\n",
        "result = result > threshold\n",
        "result = result.astype(int)\n"
      ],
      "metadata": {
        "colab": {
          "base_uri": "https://localhost:8080/"
        },
        "id": "xooJAOfmRryX",
        "outputId": "00bd7ac9-690c-4eb1-b403-67cb99197cf1"
      },
      "execution_count": 74,
      "outputs": [
        {
          "output_type": "stream",
          "name": "stdout",
          "text": [
            "8/8 - 0s - 437ms/epoch - 55ms/step\n"
          ]
        }
      ]
    },
    {
      "cell_type": "code",
      "source": [
        "from sklearn.metrics import classification_report\n",
        "target_names = ['not spam','spam']\n",
        "print(classification_report(Y_test, result, target_names=target_names))\n",
        "\n",
        "   \n",
        "from sklearn.metrics import confusion_matrix\n",
        "cm = confusion_matrix(Y_test, result)\n",
        "cm_df = pd.DataFrame(cm,\n",
        "                     index = target_names, \n",
        "                     columns = target_names)\n",
        "cm_df\n"
      ],
      "metadata": {
        "colab": {
          "base_uri": "https://localhost:8080/",
          "height": 268
        },
        "id": "cN1HAIwsRtl5",
        "outputId": "2f82d8d0-816f-4548-a8bf-8f9bf191e05f"
      },
      "execution_count": 76,
      "outputs": [
        {
          "output_type": "stream",
          "name": "stdout",
          "text": [
            "              precision    recall  f1-score   support\n",
            "\n",
            "    not spam       0.93      1.00      0.97       210\n",
            "        spam       1.00      0.57      0.73        35\n",
            "\n",
            "    accuracy                           0.94       245\n",
            "   macro avg       0.97      0.79      0.85       245\n",
            "weighted avg       0.94      0.94      0.93       245\n",
            "\n"
          ]
        },
        {
          "output_type": "execute_result",
          "data": {
            "text/plain": [
              "          not spam  spam\n",
              "not spam       210     0\n",
              "spam            15    20"
            ],
            "text/html": [
              "\n",
              "  <div id=\"df-25f4c1c5-bfbe-4d85-8793-4242d3127424\">\n",
              "    <div class=\"colab-df-container\">\n",
              "      <div>\n",
              "<style scoped>\n",
              "    .dataframe tbody tr th:only-of-type {\n",
              "        vertical-align: middle;\n",
              "    }\n",
              "\n",
              "    .dataframe tbody tr th {\n",
              "        vertical-align: top;\n",
              "    }\n",
              "\n",
              "    .dataframe thead th {\n",
              "        text-align: right;\n",
              "    }\n",
              "</style>\n",
              "<table border=\"1\" class=\"dataframe\">\n",
              "  <thead>\n",
              "    <tr style=\"text-align: right;\">\n",
              "      <th></th>\n",
              "      <th>not spam</th>\n",
              "      <th>spam</th>\n",
              "    </tr>\n",
              "  </thead>\n",
              "  <tbody>\n",
              "    <tr>\n",
              "      <th>not spam</th>\n",
              "      <td>210</td>\n",
              "      <td>0</td>\n",
              "    </tr>\n",
              "    <tr>\n",
              "      <th>spam</th>\n",
              "      <td>15</td>\n",
              "      <td>20</td>\n",
              "    </tr>\n",
              "  </tbody>\n",
              "</table>\n",
              "</div>\n",
              "      <button class=\"colab-df-convert\" onclick=\"convertToInteractive('df-25f4c1c5-bfbe-4d85-8793-4242d3127424')\"\n",
              "              title=\"Convert this dataframe to an interactive table.\"\n",
              "              style=\"display:none;\">\n",
              "        \n",
              "  <svg xmlns=\"http://www.w3.org/2000/svg\" height=\"24px\"viewBox=\"0 0 24 24\"\n",
              "       width=\"24px\">\n",
              "    <path d=\"M0 0h24v24H0V0z\" fill=\"none\"/>\n",
              "    <path d=\"M18.56 5.44l.94 2.06.94-2.06 2.06-.94-2.06-.94-.94-2.06-.94 2.06-2.06.94zm-11 1L8.5 8.5l.94-2.06 2.06-.94-2.06-.94L8.5 2.5l-.94 2.06-2.06.94zm10 10l.94 2.06.94-2.06 2.06-.94-2.06-.94-.94-2.06-.94 2.06-2.06.94z\"/><path d=\"M17.41 7.96l-1.37-1.37c-.4-.4-.92-.59-1.43-.59-.52 0-1.04.2-1.43.59L10.3 9.45l-7.72 7.72c-.78.78-.78 2.05 0 2.83L4 21.41c.39.39.9.59 1.41.59.51 0 1.02-.2 1.41-.59l7.78-7.78 2.81-2.81c.8-.78.8-2.07 0-2.86zM5.41 20L4 18.59l7.72-7.72 1.47 1.35L5.41 20z\"/>\n",
              "  </svg>\n",
              "      </button>\n",
              "      \n",
              "  <style>\n",
              "    .colab-df-container {\n",
              "      display:flex;\n",
              "      flex-wrap:wrap;\n",
              "      gap: 12px;\n",
              "    }\n",
              "\n",
              "    .colab-df-convert {\n",
              "      background-color: #E8F0FE;\n",
              "      border: none;\n",
              "      border-radius: 50%;\n",
              "      cursor: pointer;\n",
              "      display: none;\n",
              "      fill: #1967D2;\n",
              "      height: 32px;\n",
              "      padding: 0 0 0 0;\n",
              "      width: 32px;\n",
              "    }\n",
              "\n",
              "    .colab-df-convert:hover {\n",
              "      background-color: #E2EBFA;\n",
              "      box-shadow: 0px 1px 2px rgba(60, 64, 67, 0.3), 0px 1px 3px 1px rgba(60, 64, 67, 0.15);\n",
              "      fill: #174EA6;\n",
              "    }\n",
              "\n",
              "    [theme=dark] .colab-df-convert {\n",
              "      background-color: #3B4455;\n",
              "      fill: #D2E3FC;\n",
              "    }\n",
              "\n",
              "    [theme=dark] .colab-df-convert:hover {\n",
              "      background-color: #434B5C;\n",
              "      box-shadow: 0px 1px 3px 1px rgba(0, 0, 0, 0.15);\n",
              "      filter: drop-shadow(0px 1px 2px rgba(0, 0, 0, 0.3));\n",
              "      fill: #FFFFFF;\n",
              "    }\n",
              "  </style>\n",
              "\n",
              "      <script>\n",
              "        const buttonEl =\n",
              "          document.querySelector('#df-25f4c1c5-bfbe-4d85-8793-4242d3127424 button.colab-df-convert');\n",
              "        buttonEl.style.display =\n",
              "          google.colab.kernel.accessAllowed ? 'block' : 'none';\n",
              "\n",
              "        async function convertToInteractive(key) {\n",
              "          const element = document.querySelector('#df-25f4c1c5-bfbe-4d85-8793-4242d3127424');\n",
              "          const dataTable =\n",
              "            await google.colab.kernel.invokeFunction('convertToInteractive',\n",
              "                                                     [key], {});\n",
              "          if (!dataTable) return;\n",
              "\n",
              "          const docLinkHtml = 'Like what you see? Visit the ' +\n",
              "            '<a target=\"_blank\" href=https://colab.research.google.com/notebooks/data_table.ipynb>data table notebook</a>'\n",
              "            + ' to learn more about interactive tables.';\n",
              "          element.innerHTML = '';\n",
              "          dataTable['output_type'] = 'display_data';\n",
              "          await google.colab.output.renderOutput(dataTable, element);\n",
              "          const docLink = document.createElement('div');\n",
              "          docLink.innerHTML = docLinkHtml;\n",
              "          element.appendChild(docLink);\n",
              "        }\n",
              "      </script>\n",
              "    </div>\n",
              "  </div>\n",
              "  "
            ]
          },
          "metadata": {},
          "execution_count": 76
        }
      ]
    },
    {
      "cell_type": "markdown",
      "source": [
        "## Twitter Sentiment Analysis"
      ],
      "metadata": {
        "id": "HKIgPW_3SXa3"
      }
    },
    {
      "cell_type": "code",
      "source": [
        "df = pd.read_csv(\"/content/drive/MyDrive/sentiment_v2.csv\")\n",
        "augmented_dataset = pd.read_csv(\"/content/drive/MyDrive/EnsembleLearningProject/t5/sentiment_aug_t5.csv\")"
      ],
      "metadata": {
        "id": "5TbwLbVZSYre"
      },
      "execution_count": 77,
      "outputs": []
    },
    {
      "cell_type": "code",
      "source": [
        "df.rename(columns={'RT  NancyLeeGrahn  How did everyone feel about the Climate Change question last night  Exactly.  GOPDebate': 'Message', 'Neutral': 'Category'}, inplace=True)\n",
        "augmented_dataset.rename(columns={'RT NancyLeeGrahn How did everyone feel yesterday about the climate change question Exactly.': 'Message', 'Neutral': 'Category'}, inplace=True)"
      ],
      "metadata": {
        "id": "dYAp5UkRUcDf"
      },
      "execution_count": 78,
      "outputs": []
    },
    {
      "cell_type": "code",
      "source": [
        "#BAŞTA\n",
        "df_top=pd.concat([augmented_dataset,df],ignore_index=True)\n",
        "\n",
        "#ORTADA\n",
        "df_mid = pd.concat([df.iloc[:250], augmented_dataset, df.iloc[250:]]).reset_index(drop=True)\n",
        "\n",
        "#SONDA\n",
        "df_tail =pd.concat([df,augmented_dataset],ignore_index=True)"
      ],
      "metadata": {
        "id": "Okhj0rlfSe4c"
      },
      "execution_count": 79,
      "outputs": []
    },
    {
      "cell_type": "code",
      "source": [
        "df_top.drop_duplicates(inplace = True)\n",
        "df_mid.drop_duplicates(inplace = True)\n",
        "df_tail.drop_duplicates(inplace = True)"
      ],
      "metadata": {
        "id": "ST6v_hTXSgLg"
      },
      "execution_count": 80,
      "outputs": []
    },
    {
      "cell_type": "code",
      "source": [
        "\"\"\"df_top.rename(columns={'Text': 'Message', 'Non-Spam': 'Category'}, inplace=True)\n",
        "df_mid.rename(columns={'Text': 'Message', 'Non-Spam': 'Category'}, inplace=True)\n",
        "df_tail.rename(columns={'Text': 'Message', 'Non-Spam': 'Category'}, inplace=True)\"\"\""
      ],
      "metadata": {
        "colab": {
          "base_uri": "https://localhost:8080/",
          "height": 53
        },
        "id": "vrOAhKX2Sh34",
        "outputId": "4268382a-050e-4e6c-c2d5-019607198f02"
      },
      "execution_count": 81,
      "outputs": [
        {
          "output_type": "execute_result",
          "data": {
            "text/plain": [
              "\"df_top.rename(columns={'Text': 'Message', 'Non-Spam': 'Category'}, inplace=True)\\ndf_mid.rename(columns={'Text': 'Message', 'Non-Spam': 'Category'}, inplace=True)\\ndf_tail.rename(columns={'Text': 'Message', 'Non-Spam': 'Category'}, inplace=True)\""
            ],
            "application/vnd.google.colaboratory.intrinsic+json": {
              "type": "string"
            }
          },
          "metadata": {},
          "execution_count": 81
        }
      ]
    },
    {
      "cell_type": "code",
      "source": [
        "def preprocess(text):\n",
        "    text = text.lower()\n",
        "    text = re.sub(r'https?://\\S+|www.\\S+', '', text)\n",
        "    text = re.sub(r'<.*?>', '', text)\n",
        "    text = re.sub(r'[^a-zA-Z]+', ' ', text)\n",
        "    text = re.sub(r'[0-9]', '', text)\n",
        "    translator = str.maketrans(\"\", \"\", string.punctuation)\n",
        "    text = text.translate(translator)\n",
        "    words = word_tokenize(text)\n",
        "    words = [word for word in words if word not in stopwords.words(\"english\")]\n",
        "    lemmatizer = WordNetLemmatizer()\n",
        "    words = [lemmatizer.lemmatize(word) for word in words]\n",
        "    text = \" \".join(words)\n",
        "    return text"
      ],
      "metadata": {
        "id": "tlwciFpSSi-z"
      },
      "execution_count": 82,
      "outputs": []
    },
    {
      "cell_type": "markdown",
      "source": [
        "###BAŞTA"
      ],
      "metadata": {
        "id": "DA4XatZXUBKE"
      }
    },
    {
      "cell_type": "code",
      "source": [
        "df_top[\"Message\"] = df_top.Message.map(preprocess) \n",
        "\n",
        "maxSeq = len(df_top[\"Message\"][0])\n",
        "for i in range (0,len(df_top[\"Message\"])):\n",
        "    try:\n",
        "        cur = len(df_top[\"Message\"][i])\n",
        "        if (cur > maxSeq):\n",
        "            maxSeq = cur\n",
        "    except:\n",
        "        pass\n",
        "\n",
        "from collections import Counter\n",
        "\n",
        "def counter_word(text_col):\n",
        "    count = Counter()\n",
        "    for text in text_col.values:\n",
        "        for word in text.split():\n",
        "            count[word] += 1\n",
        "    return count\n",
        "\n",
        "counter = counter_word(df_top.Message)\n",
        "\n",
        "MAX_NB_WORDS = len(counter)\n",
        "MAX_SEQUENCE_LENGTH = maxSeq\n",
        "\n",
        "EMBEDDING_DIM = 100\n",
        "tokenizer = Tokenizer(num_words=MAX_NB_WORDS)\n",
        "tokenizer.fit_on_texts(df_top['Message'].values)\n",
        "with open(\"tokenizer.pickle\", \"wb\") as handle:\n",
        "    pickle.dump(tokenizer, handle, protocol=pickle.HIGHEST_PROTOCOL)\n",
        "\n",
        "X = tokenizer.texts_to_sequences(df_top['Message'].values)\n",
        "X = pad_sequences(X, maxlen=MAX_SEQUENCE_LENGTH)\n",
        "print('Shape of data tensor:', X.shape)\n",
        "\n",
        "from sklearn import preprocessing\n",
        "labelencoder = preprocessing.LabelEncoder()\n",
        "df_top['Category'] = labelencoder.fit_transform(df_top['Category'])\n",
        "Y = df_top['Category'].values\n",
        "print('Shape of label tensor:', Y.shape)"
      ],
      "metadata": {
        "colab": {
          "base_uri": "https://localhost:8080/"
        },
        "id": "xd3HE3G5T80B",
        "outputId": "8ee19525-55cc-4b12-f3df-1db3ca571eca"
      },
      "execution_count": 83,
      "outputs": [
        {
          "output_type": "stream",
          "name": "stdout",
          "text": [
            "Shape of data tensor: (998, 160)\n",
            "Shape of label tensor: (998,)\n"
          ]
        }
      ]
    },
    {
      "cell_type": "code",
      "source": [
        "from sklearn.model_selection import train_test_split\n",
        "X_train, X_test, Y_train, Y_test = train_test_split(X,Y, test_size = 0.25, random_state = 42)\n",
        "print(X_train.shape,Y_train.shape)\n",
        "print(X_test.shape,Y_test.shape)\n",
        "\n",
        "#MODEL KURULMASI\n",
        "import tensorflow \n",
        "from tensorflow.keras import layers\n",
        "from keras.callbacks import ModelCheckpoint, EarlyStopping\n",
        "\n",
        "\n",
        "model = tensorflow.keras.models.Sequential()\n",
        "model.add(layers.Embedding(MAX_NB_WORDS, EMBEDDING_DIM, input_length=X.shape[1]))\n",
        "model.add(layers.LSTM(32))\n",
        "model.add(layers.Dense(1, activation='sigmoid'))\n",
        "model.compile(loss='binary_crossentropy', optimizer='adam', metrics=['accuracy'])\n",
        "\n",
        "epochs = 10\n",
        "batch_size = 128\n",
        "\n",
        "history = model.fit(X_train, Y_train, epochs=epochs, batch_size=batch_size,validation_split=0.2,callbacks=[EarlyStopping(monitor='val_loss', patience=3, min_delta=0.0001)])\n",
        "\n",
        "print(history.model.summary())"
      ],
      "metadata": {
        "colab": {
          "base_uri": "https://localhost:8080/"
        },
        "id": "jEHRzSB8UD7d",
        "outputId": "a702fb45-2962-49d6-fdcf-deeb991f0287"
      },
      "execution_count": 84,
      "outputs": [
        {
          "output_type": "stream",
          "name": "stdout",
          "text": [
            "(748, 160) (748,)\n",
            "(250, 160) (250,)\n",
            "Epoch 1/10\n",
            "5/5 [==============================] - 2s 122ms/step - loss: 0.6875 - accuracy: 0.3110 - val_loss: 0.6793 - val_accuracy: 0.2400\n",
            "Epoch 2/10\n",
            "5/5 [==============================] - 0s 20ms/step - loss: 0.6614 - accuracy: 0.2308 - val_loss: 0.6583 - val_accuracy: 0.2400\n",
            "Epoch 3/10\n",
            "5/5 [==============================] - 0s 19ms/step - loss: 0.6239 - accuracy: 0.2274 - val_loss: 0.6265 - val_accuracy: 0.2400\n",
            "Epoch 4/10\n",
            "5/5 [==============================] - 0s 17ms/step - loss: 0.5656 - accuracy: 0.2274 - val_loss: 0.5835 - val_accuracy: 0.2400\n",
            "Epoch 5/10\n",
            "5/5 [==============================] - 0s 18ms/step - loss: 0.4887 - accuracy: 0.2274 - val_loss: 0.5388 - val_accuracy: 0.2400\n",
            "Epoch 6/10\n",
            "5/5 [==============================] - 0s 16ms/step - loss: 0.3638 - accuracy: 0.2625 - val_loss: 0.4553 - val_accuracy: 0.2867\n",
            "Epoch 7/10\n",
            "5/5 [==============================] - 0s 15ms/step - loss: 0.1770 - accuracy: 0.4716 - val_loss: 0.3430 - val_accuracy: 0.4000\n",
            "Epoch 8/10\n",
            "5/5 [==============================] - 0s 16ms/step - loss: -0.0971 - accuracy: 0.5602 - val_loss: 0.1796 - val_accuracy: 0.4133\n",
            "Epoch 9/10\n",
            "5/5 [==============================] - 0s 15ms/step - loss: -0.4035 - accuracy: 0.6990 - val_loss: 1.6850 - val_accuracy: 0.2400\n",
            "Epoch 10/10\n",
            "5/5 [==============================] - 0s 15ms/step - loss: -0.1242 - accuracy: 0.6003 - val_loss: -0.0820 - val_accuracy: 0.5733\n",
            "Model: \"sequential_6\"\n",
            "_________________________________________________________________\n",
            " Layer (type)                Output Shape              Param #   \n",
            "=================================================================\n",
            " embedding_6 (Embedding)     (None, 160, 100)          251300    \n",
            "                                                                 \n",
            " lstm_6 (LSTM)               (None, 32)                17024     \n",
            "                                                                 \n",
            " dense_6 (Dense)             (None, 1)                 33        \n",
            "                                                                 \n",
            "=================================================================\n",
            "Total params: 268,357\n",
            "Trainable params: 268,357\n",
            "Non-trainable params: 0\n",
            "_________________________________________________________________\n",
            "None\n"
          ]
        }
      ]
    },
    {
      "cell_type": "code",
      "source": [
        "plt.title('Loss')\n",
        "plt.plot(history.history['loss'], label='train')\n",
        "plt.plot(history.history['val_loss'], label='test')\n",
        "plt.legend()\n",
        "plt.show()"
      ],
      "metadata": {
        "colab": {
          "base_uri": "https://localhost:8080/",
          "height": 281
        },
        "id": "xVll8zjTUww4",
        "outputId": "e3a010da-956f-49bc-8fda-6db98e0bea95"
      },
      "execution_count": 85,
      "outputs": [
        {
          "output_type": "display_data",
          "data": {
            "text/plain": [
              "<Figure size 432x288 with 1 Axes>"
            ],
            "image/png": "[encoded data removed]"
          },
          "metadata": {
            "needs_background": "light"
          }
        }
      ]
    },
    {
      "cell_type": "code",
      "source": [
        "plt.title('Accuracy')\n",
        "plt.plot(history.history['accuracy'], label='train')\n",
        "plt.plot(history.history['val_accuracy'], label='test')\n",
        "plt.legend()\n",
        "plt.show()"
      ],
      "metadata": {
        "colab": {
          "base_uri": "https://localhost:8080/",
          "height": 281
        },
        "id": "eVfIqVoMU0ss",
        "outputId": "fb9b37b4-b7a9-4ce9-d71d-25b09a75002d"
      },
      "execution_count": 86,
      "outputs": [
        {
          "output_type": "display_data",
          "data": {
            "text/plain": [
              "<Figure size 432x288 with 1 Axes>"
            ],
            "image/png": "[encoded data removed]"
          },
          "metadata": {
            "needs_background": "light"
          }
        }
      ]
    },
    {
      "cell_type": "code",
      "source": [
        "threshold = 0.5\n",
        "\n",
        "result = model.predict(X_test, verbose=2)\n",
        "result = result > threshold\n",
        "result = result.astype(int)\n",
        "\n",
        "from sklearn.metrics import classification_report\n",
        "target_names = ['positive','negative','neutral']\n",
        "print(classification_report(Y_test, result, target_names=target_names))\n",
        "\n",
        "   \n",
        "from sklearn.metrics import confusion_matrix\n",
        "cm = confusion_matrix(Y_test, result)\n",
        "cm_df = pd.DataFrame(cm,\n",
        "                     index = target_names, \n",
        "                     columns = target_names)\n",
        "cm_df"
      ],
      "metadata": {
        "colab": {
          "base_uri": "https://localhost:8080/",
          "height": 458
        },
        "id": "3op4M-0qV2K7",
        "outputId": "28d1a7d6-b983-4686-9546-bdbc4e8daffe"
      },
      "execution_count": 87,
      "outputs": [
        {
          "output_type": "stream",
          "name": "stdout",
          "text": [
            "8/8 - 0s - 365ms/epoch - 46ms/step\n",
            "              precision    recall  f1-score   support\n",
            "\n",
            "    positive       0.97      0.62      0.76       146\n",
            "    negative       0.37      0.97      0.54        60\n",
            "     neutral       0.00      0.00      0.00        44\n",
            "\n",
            "    accuracy                           0.60       250\n",
            "   macro avg       0.45      0.53      0.43       250\n",
            "weighted avg       0.65      0.60      0.57       250\n",
            "\n"
          ]
        },
        {
          "output_type": "stream",
          "name": "stderr",
          "text": [
            "/usr/local/lib/python3.8/dist-packages/sklearn/metrics/_classification.py:1318: UndefinedMetricWarning: Precision and F-score are ill-defined and being set to 0.0 in labels with no predicted samples. Use `zero_division` parameter to control this behavior.\n",
            "  _warn_prf(average, modifier, msg_start, len(result))\n",
            "/usr/local/lib/python3.8/dist-packages/sklearn/metrics/_classification.py:1318: UndefinedMetricWarning: Precision and F-score are ill-defined and being set to 0.0 in labels with no predicted samples. Use `zero_division` parameter to control this behavior.\n",
            "  _warn_prf(average, modifier, msg_start, len(result))\n",
            "/usr/local/lib/python3.8/dist-packages/sklearn/metrics/_classification.py:1318: UndefinedMetricWarning: Precision and F-score are ill-defined and being set to 0.0 in labels with no predicted samples. Use `zero_division` parameter to control this behavior.\n",
            "  _warn_prf(average, modifier, msg_start, len(result))\n"
          ]
        },
        {
          "output_type": "execute_result",
          "data": {
            "text/plain": [
              "          positive  negative  neutral\n",
              "positive        91        55        0\n",
              "negative         2        58        0\n",
              "neutral          1        43        0"
            ],
            "text/html": [
              "\n",
              "  <div id=\"df-7397f542-7ebe-4ba0-8efc-e4a0f7996431\">\n",
              "    <div class=\"colab-df-container\">\n",
              "      <div>\n",
              "<style scoped>\n",
              "    .dataframe tbody tr th:only-of-type {\n",
              "        vertical-align: middle;\n",
              "    }\n",
              "\n",
              "    .dataframe tbody tr th {\n",
              "        vertical-align: top;\n",
              "    }\n",
              "\n",
              "    .dataframe thead th {\n",
              "        text-align: right;\n",
              "    }\n",
              "</style>\n",
              "<table border=\"1\" class=\"dataframe\">\n",
              "  <thead>\n",
              "    <tr style=\"text-align: right;\">\n",
              "      <th></th>\n",
              "      <th>positive</th>\n",
              "      <th>negative</th>\n",
              "      <th>neutral</th>\n",
              "    </tr>\n",
              "  </thead>\n",
              "  <tbody>\n",
              "    <tr>\n",
              "      <th>positive</th>\n",
              "      <td>91</td>\n",
              "      <td>55</td>\n",
              "      <td>0</td>\n",
              "    </tr>\n",
              "    <tr>\n",
              "      <th>negative</th>\n",
              "      <td>2</td>\n",
              "      <td>58</td>\n",
              "      <td>0</td>\n",
              "    </tr>\n",
              "    <tr>\n",
              "      <th>neutral</th>\n",
              "      <td>1</td>\n",
              "      <td>43</td>\n",
              "      <td>0</td>\n",
              "    </tr>\n",
              "  </tbody>\n",
              "</table>\n",
              "</div>\n",
              "      <button class=\"colab-df-convert\" onclick=\"convertToInteractive('df-7397f542-7ebe-4ba0-8efc-e4a0f7996431')\"\n",
              "              title=\"Convert this dataframe to an interactive table.\"\n",
              "              style=\"display:none;\">\n",
              "        \n",
              "  <svg xmlns=\"http://www.w3.org/2000/svg\" height=\"24px\"viewBox=\"0 0 24 24\"\n",
              "       width=\"24px\">\n",
              "    <path d=\"M0 0h24v24H0V0z\" fill=\"none\"/>\n",
              "    <path d=\"M18.56 5.44l.94 2.06.94-2.06 2.06-.94-2.06-.94-.94-2.06-.94 2.06-2.06.94zm-11 1L8.5 8.5l.94-2.06 2.06-.94-2.06-.94L8.5 2.5l-.94 2.06-2.06.94zm10 10l.94 2.06.94-2.06 2.06-.94-2.06-.94-.94-2.06-.94 2.06-2.06.94z\"/><path d=\"M17.41 7.96l-1.37-1.37c-.4-.4-.92-.59-1.43-.59-.52 0-1.04.2-1.43.59L10.3 9.45l-7.72 7.72c-.78.78-.78 2.05 0 2.83L4 21.41c.39.39.9.59 1.41.59.51 0 1.02-.2 1.41-.59l7.78-7.78 2.81-2.81c.8-.78.8-2.07 0-2.86zM5.41 20L4 18.59l7.72-7.72 1.47 1.35L5.41 20z\"/>\n",
              "  </svg>\n",
              "      </button>\n",
              "      \n",
              "  <style>\n",
              "    .colab-df-container {\n",
              "      display:flex;\n",
              "      flex-wrap:wrap;\n",
              "      gap: 12px;\n",
              "    }\n",
              "\n",
              "    .colab-df-convert {\n",
              "      background-color: #E8F0FE;\n",
              "      border: none;\n",
              "      border-radius: 50%;\n",
              "      cursor: pointer;\n",
              "      display: none;\n",
              "      fill: #1967D2;\n",
              "      height: 32px;\n",
              "      padding: 0 0 0 0;\n",
              "      width: 32px;\n",
              "    }\n",
              "\n",
              "    .colab-df-convert:hover {\n",
              "      background-color: #E2EBFA;\n",
              "      box-shadow: 0px 1px 2px rgba(60, 64, 67, 0.3), 0px 1px 3px 1px rgba(60, 64, 67, 0.15);\n",
              "      fill: #174EA6;\n",
              "    }\n",
              "\n",
              "    [theme=dark] .colab-df-convert {\n",
              "      background-color: #3B4455;\n",
              "      fill: #D2E3FC;\n",
              "    }\n",
              "\n",
              "    [theme=dark] .colab-df-convert:hover {\n",
              "      background-color: #434B5C;\n",
              "      box-shadow: 0px 1px 3px 1px rgba(0, 0, 0, 0.15);\n",
              "      filter: drop-shadow(0px 1px 2px rgba(0, 0, 0, 0.3));\n",
              "      fill: #FFFFFF;\n",
              "    }\n",
              "  </style>\n",
              "\n",
              "      <script>\n",
              "        const buttonEl =\n",
              "          document.querySelector('#df-7397f542-7ebe-4ba0-8efc-e4a0f7996431 button.colab-df-convert');\n",
              "        buttonEl.style.display =\n",
              "          google.colab.kernel.accessAllowed ? 'block' : 'none';\n",
              "\n",
              "        async function convertToInteractive(key) {\n",
              "          const element = document.querySelector('#df-7397f542-7ebe-4ba0-8efc-e4a0f7996431');\n",
              "          const dataTable =\n",
              "            await google.colab.kernel.invokeFunction('convertToInteractive',\n",
              "                                                     [key], {});\n",
              "          if (!dataTable) return;\n",
              "\n",
              "          const docLinkHtml = 'Like what you see? Visit the ' +\n",
              "            '<a target=\"_blank\" href=https://colab.research.google.com/notebooks/data_table.ipynb>data table notebook</a>'\n",
              "            + ' to learn more about interactive tables.';\n",
              "          element.innerHTML = '';\n",
              "          dataTable['output_type'] = 'display_data';\n",
              "          await google.colab.output.renderOutput(dataTable, element);\n",
              "          const docLink = document.createElement('div');\n",
              "          docLink.innerHTML = docLinkHtml;\n",
              "          element.appendChild(docLink);\n",
              "        }\n",
              "      </script>\n",
              "    </div>\n",
              "  </div>\n",
              "  "
            ]
          },
          "metadata": {},
          "execution_count": 87
        }
      ]
    },
    {
      "cell_type": "markdown",
      "source": [
        "### ORTADA"
      ],
      "metadata": {
        "id": "V0K0sfL2WGz-"
      }
    },
    {
      "cell_type": "code",
      "source": [
        "df_mid[\"Message\"] = df_mid.Message.map(preprocess) \n",
        "\n",
        "maxSeq = len(df_mid[\"Message\"][0])\n",
        "for i in range (0,len(df_mid[\"Message\"])):\n",
        "    try:\n",
        "        cur = len(df_mid[\"Message\"][i])\n",
        "        if (cur > maxSeq):\n",
        "            maxSeq = cur\n",
        "    except:\n",
        "        pass\n",
        "\n",
        "from collections import Counter\n",
        "\n",
        "def counter_word(text_col):\n",
        "    count = Counter()\n",
        "    for text in text_col.values:\n",
        "        for word in text.split():\n",
        "            count[word] += 1\n",
        "    return count\n",
        "\n",
        "counter = counter_word(df_mid.Message)\n",
        "\n",
        "MAX_NB_WORDS = len(counter)\n",
        "MAX_SEQUENCE_LENGTH = maxSeq\n",
        "\n",
        "EMBEDDING_DIM = 100\n",
        "tokenizer = Tokenizer(num_words=MAX_NB_WORDS)\n",
        "tokenizer.fit_on_texts(df_mid['Message'].values)\n",
        "with open(\"tokenizer.pickle\", \"wb\") as handle:\n",
        "    pickle.dump(tokenizer, handle, protocol=pickle.HIGHEST_PROTOCOL)\n",
        "\n",
        "X = tokenizer.texts_to_sequences(df_mid['Message'].values)\n",
        "X = pad_sequences(X, maxlen=MAX_SEQUENCE_LENGTH)\n",
        "print('Shape of data tensor:', X.shape)\n",
        "\n",
        "from sklearn import preprocessing\n",
        "labelencoder = preprocessing.LabelEncoder()\n",
        "df_mid['Category'] = labelencoder.fit_transform(df_mid['Category'])\n",
        "Y = df_mid['Category'].values\n",
        "print('Shape of label tensor:', Y.shape)"
      ],
      "metadata": {
        "colab": {
          "base_uri": "https://localhost:8080/"
        },
        "id": "suXDmkiLWIs7",
        "outputId": "db163222-6090-49ff-c923-03dc2c56fb0d"
      },
      "execution_count": 88,
      "outputs": [
        {
          "output_type": "stream",
          "name": "stdout",
          "text": [
            "Shape of data tensor: (998, 160)\n",
            "Shape of label tensor: (998,)\n"
          ]
        }
      ]
    },
    {
      "cell_type": "code",
      "source": [
        "from sklearn.model_selection import train_test_split\n",
        "X_train, X_test, Y_train, Y_test = train_test_split(X,Y, test_size = 0.25, random_state = 42)\n",
        "print(X_train.shape,Y_train.shape)\n",
        "print(X_test.shape,Y_test.shape)\n",
        "\n",
        "#MODEL KURULMASI\n",
        "import tensorflow \n",
        "from tensorflow.keras import layers\n",
        "from keras.callbacks import ModelCheckpoint, EarlyStopping\n",
        "\n",
        "\n",
        "model = tensorflow.keras.models.Sequential()\n",
        "model.add(layers.Embedding(MAX_NB_WORDS, EMBEDDING_DIM, input_length=X.shape[1]))\n",
        "model.add(layers.LSTM(32))\n",
        "model.add(layers.Dense(1, activation='sigmoid'))\n",
        "model.compile(loss='binary_crossentropy', optimizer='adam', metrics=['accuracy'])\n",
        "\n",
        "epochs = 10\n",
        "batch_size = 128\n",
        "\n",
        "history = model.fit(X_train, Y_train, epochs=epochs, batch_size=batch_size,validation_split=0.2,callbacks=[EarlyStopping(monitor='val_loss', patience=3, min_delta=0.0001)])\n",
        "\n",
        "print(history.model.summary())"
      ],
      "metadata": {
        "colab": {
          "base_uri": "https://localhost:8080/"
        },
        "id": "zuuqW8e7WOh-",
        "outputId": "ea2d7a8f-d13f-4976-c104-46ae40a9a19a"
      },
      "execution_count": 89,
      "outputs": [
        {
          "output_type": "stream",
          "name": "stdout",
          "text": [
            "(748, 160) (748,)\n",
            "(250, 160) (250,)\n",
            "Epoch 1/10\n",
            "5/5 [==============================] - 2s 120ms/step - loss: 0.6885 - accuracy: 0.2910 - val_loss: 0.6781 - val_accuracy: 0.1867\n",
            "Epoch 2/10\n",
            "5/5 [==============================] - 0s 20ms/step - loss: 0.6654 - accuracy: 0.2458 - val_loss: 0.6572 - val_accuracy: 0.1867\n",
            "Epoch 3/10\n",
            "5/5 [==============================] - 0s 20ms/step - loss: 0.6334 - accuracy: 0.2425 - val_loss: 0.6223 - val_accuracy: 0.1867\n",
            "Epoch 4/10\n",
            "5/5 [==============================] - 0s 19ms/step - loss: 0.5782 - accuracy: 0.2425 - val_loss: 0.5795 - val_accuracy: 0.1867\n",
            "Epoch 5/10\n",
            "5/5 [==============================] - 0s 17ms/step - loss: 0.5161 - accuracy: 0.2408 - val_loss: 0.5267 - val_accuracy: 0.1867\n",
            "Epoch 6/10\n",
            "5/5 [==============================] - 0s 17ms/step - loss: 0.4063 - accuracy: 0.3227 - val_loss: 0.4575 - val_accuracy: 0.2933\n",
            "Epoch 7/10\n",
            "5/5 [==============================] - 0s 16ms/step - loss: 0.2423 - accuracy: 0.4649 - val_loss: 0.3693 - val_accuracy: 0.2267\n",
            "Epoch 8/10\n",
            "5/5 [==============================] - 0s 15ms/step - loss: 0.0553 - accuracy: 0.4849 - val_loss: 0.2295 - val_accuracy: 0.4533\n",
            "Epoch 9/10\n",
            "5/5 [==============================] - 0s 15ms/step - loss: -0.1270 - accuracy: 0.7174 - val_loss: 0.0376 - val_accuracy: 0.4533\n",
            "Epoch 10/10\n",
            "5/5 [==============================] - 0s 15ms/step - loss: -0.2494 - accuracy: 0.6522 - val_loss: 0.0455 - val_accuracy: 0.5400\n",
            "Model: \"sequential_7\"\n",
            "_________________________________________________________________\n",
            " Layer (type)                Output Shape              Param #   \n",
            "=================================================================\n",
            " embedding_7 (Embedding)     (None, 160, 100)          251300    \n",
            "                                                                 \n",
            " lstm_7 (LSTM)               (None, 32)                17024     \n",
            "                                                                 \n",
            " dense_7 (Dense)             (None, 1)                 33        \n",
            "                                                                 \n",
            "=================================================================\n",
            "Total params: 268,357\n",
            "Trainable params: 268,357\n",
            "Non-trainable params: 0\n",
            "_________________________________________________________________\n",
            "None\n"
          ]
        }
      ]
    },
    {
      "cell_type": "code",
      "source": [
        "plt.title('Loss')\n",
        "plt.plot(history.history['loss'], label='train')\n",
        "plt.plot(history.history['val_loss'], label='test')\n",
        "plt.legend()\n",
        "plt.show()"
      ],
      "metadata": {
        "colab": {
          "base_uri": "https://localhost:8080/",
          "height": 281
        },
        "id": "amL7TUPbWSMH",
        "outputId": "6a8b990f-674d-44c4-a266-64c09642b999"
      },
      "execution_count": 90,
      "outputs": [
        {
          "output_type": "display_data",
          "data": {
            "text/plain": [
              "<Figure size 432x288 with 1 Axes>"
            ],
            "image/png": "[encoded data removed]"
          },
          "metadata": {
            "needs_background": "light"
          }
        }
      ]
    },
    {
      "cell_type": "code",
      "source": [
        "plt.title('Accuracy')\n",
        "plt.plot(history.history['accuracy'], label='train')\n",
        "plt.plot(history.history['val_accuracy'], label='test')\n",
        "plt.legend()\n",
        "plt.show()"
      ],
      "metadata": {
        "colab": {
          "base_uri": "https://localhost:8080/",
          "height": 281
        },
        "id": "113qshIjWWIk",
        "outputId": "4cd2c4c4-c1de-4ab3-92a2-b91d00e7cdb8"
      },
      "execution_count": 91,
      "outputs": [
        {
          "output_type": "display_data",
          "data": {
            "text/plain": [
              "<Figure size 432x288 with 1 Axes>"
            ],
            "image/png": "[encoded data removed]"
          },
          "metadata": {
            "needs_background": "light"
          }
        }
      ]
    },
    {
      "cell_type": "code",
      "source": [
        "threshold = 0.5\n",
        "\n",
        "result = model.predict(X_test, verbose=2)\n",
        "result = result > threshold\n",
        "result = result.astype(int)\n",
        "\n",
        "from sklearn.metrics import classification_report\n",
        "target_names = ['positive','negative','neutral']\n",
        "print(classification_report(Y_test, result, target_names=target_names))\n",
        "\n",
        "   \n",
        "from sklearn.metrics import confusion_matrix\n",
        "cm = confusion_matrix(Y_test, result)\n",
        "cm_df = pd.DataFrame(cm,\n",
        "                     index = target_names, \n",
        "                     columns = target_names)\n",
        "cm_df"
      ],
      "metadata": {
        "colab": {
          "base_uri": "https://localhost:8080/",
          "height": 458
        },
        "id": "v23jwZMBWZFs",
        "outputId": "1e09f0e3-c72f-453c-927b-160dbcb3fedb"
      },
      "execution_count": 92,
      "outputs": [
        {
          "output_type": "stream",
          "name": "stdout",
          "text": [
            "8/8 - 0s - 351ms/epoch - 44ms/step\n",
            "              precision    recall  f1-score   support\n",
            "\n",
            "    positive       0.92      0.73      0.82       146\n",
            "    negative       0.40      0.90      0.56        60\n",
            "     neutral       0.00      0.00      0.00        44\n",
            "\n",
            "    accuracy                           0.64       250\n",
            "   macro avg       0.44      0.54      0.46       250\n",
            "weighted avg       0.64      0.64      0.61       250\n",
            "\n"
          ]
        },
        {
          "output_type": "stream",
          "name": "stderr",
          "text": [
            "/usr/local/lib/python3.8/dist-packages/sklearn/metrics/_classification.py:1318: UndefinedMetricWarning: Precision and F-score are ill-defined and being set to 0.0 in labels with no predicted samples. Use `zero_division` parameter to control this behavior.\n",
            "  _warn_prf(average, modifier, msg_start, len(result))\n",
            "/usr/local/lib/python3.8/dist-packages/sklearn/metrics/_classification.py:1318: UndefinedMetricWarning: Precision and F-score are ill-defined and being set to 0.0 in labels with no predicted samples. Use `zero_division` parameter to control this behavior.\n",
            "  _warn_prf(average, modifier, msg_start, len(result))\n",
            "/usr/local/lib/python3.8/dist-packages/sklearn/metrics/_classification.py:1318: UndefinedMetricWarning: Precision and F-score are ill-defined and being set to 0.0 in labels with no predicted samples. Use `zero_division` parameter to control this behavior.\n",
            "  _warn_prf(average, modifier, msg_start, len(result))\n"
          ]
        },
        {
          "output_type": "execute_result",
          "data": {
            "text/plain": [
              "          positive  negative  neutral\n",
              "positive       107        39        0\n",
              "negative         6        54        0\n",
              "neutral          3        41        0"
            ],
            "text/html": [
              "\n",
              "  <div id=\"df-fc4df12e-0cb5-44b3-a58c-47117210c912\">\n",
              "    <div class=\"colab-df-container\">\n",
              "      <div>\n",
              "<style scoped>\n",
              "    .dataframe tbody tr th:only-of-type {\n",
              "        vertical-align: middle;\n",
              "    }\n",
              "\n",
              "    .dataframe tbody tr th {\n",
              "        vertical-align: top;\n",
              "    }\n",
              "\n",
              "    .dataframe thead th {\n",
              "        text-align: right;\n",
              "    }\n",
              "</style>\n",
              "<table border=\"1\" class=\"dataframe\">\n",
              "  <thead>\n",
              "    <tr style=\"text-align: right;\">\n",
              "      <th></th>\n",
              "      <th>positive</th>\n",
              "      <th>negative</th>\n",
              "      <th>neutral</th>\n",
              "    </tr>\n",
              "  </thead>\n",
              "  <tbody>\n",
              "    <tr>\n",
              "      <th>positive</th>\n",
              "      <td>107</td>\n",
              "      <td>39</td>\n",
              "      <td>0</td>\n",
              "    </tr>\n",
              "    <tr>\n",
              "      <th>negative</th>\n",
              "      <td>6</td>\n",
              "      <td>54</td>\n",
              "      <td>0</td>\n",
              "    </tr>\n",
              "    <tr>\n",
              "      <th>neutral</th>\n",
              "      <td>3</td>\n",
              "      <td>41</td>\n",
              "      <td>0</td>\n",
              "    </tr>\n",
              "  </tbody>\n",
              "</table>\n",
              "</div>\n",
              "      <button class=\"colab-df-convert\" onclick=\"convertToInteractive('df-fc4df12e-0cb5-44b3-a58c-47117210c912')\"\n",
              "              title=\"Convert this dataframe to an interactive table.\"\n",
              "              style=\"display:none;\">\n",
              "        \n",
              "  <svg xmlns=\"http://www.w3.org/2000/svg\" height=\"24px\"viewBox=\"0 0 24 24\"\n",
              "       width=\"24px\">\n",
              "    <path d=\"M0 0h24v24H0V0z\" fill=\"none\"/>\n",
              "    <path d=\"M18.56 5.44l.94 2.06.94-2.06 2.06-.94-2.06-.94-.94-2.06-.94 2.06-2.06.94zm-11 1L8.5 8.5l.94-2.06 2.06-.94-2.06-.94L8.5 2.5l-.94 2.06-2.06.94zm10 10l.94 2.06.94-2.06 2.06-.94-2.06-.94-.94-2.06-.94 2.06-2.06.94z\"/><path d=\"M17.41 7.96l-1.37-1.37c-.4-.4-.92-.59-1.43-.59-.52 0-1.04.2-1.43.59L10.3 9.45l-7.72 7.72c-.78.78-.78 2.05 0 2.83L4 21.41c.39.39.9.59 1.41.59.51 0 1.02-.2 1.41-.59l7.78-7.78 2.81-2.81c.8-.78.8-2.07 0-2.86zM5.41 20L4 18.59l7.72-7.72 1.47 1.35L5.41 20z\"/>\n",
              "  </svg>\n",
              "      </button>\n",
              "      \n",
              "  <style>\n",
              "    .colab-df-container {\n",
              "      display:flex;\n",
              "      flex-wrap:wrap;\n",
              "      gap: 12px;\n",
              "    }\n",
              "\n",
              "    .colab-df-convert {\n",
              "      background-color: #E8F0FE;\n",
              "      border: none;\n",
              "      border-radius: 50%;\n",
              "      cursor: pointer;\n",
              "      display: none;\n",
              "      fill: #1967D2;\n",
              "      height: 32px;\n",
              "      padding: 0 0 0 0;\n",
              "      width: 32px;\n",
              "    }\n",
              "\n",
              "    .colab-df-convert:hover {\n",
              "      background-color: #E2EBFA;\n",
              "      box-shadow: 0px 1px 2px rgba(60, 64, 67, 0.3), 0px 1px 3px 1px rgba(60, 64, 67, 0.15);\n",
              "      fill: #174EA6;\n",
              "    }\n",
              "\n",
              "    [theme=dark] .colab-df-convert {\n",
              "      background-color: #3B4455;\n",
              "      fill: #D2E3FC;\n",
              "    }\n",
              "\n",
              "    [theme=dark] .colab-df-convert:hover {\n",
              "      background-color: #434B5C;\n",
              "      box-shadow: 0px 1px 3px 1px rgba(0, 0, 0, 0.15);\n",
              "      filter: drop-shadow(0px 1px 2px rgba(0, 0, 0, 0.3));\n",
              "      fill: #FFFFFF;\n",
              "    }\n",
              "  </style>\n",
              "\n",
              "      <script>\n",
              "        const buttonEl =\n",
              "          document.querySelector('#df-fc4df12e-0cb5-44b3-a58c-47117210c912 button.colab-df-convert');\n",
              "        buttonEl.style.display =\n",
              "          google.colab.kernel.accessAllowed ? 'block' : 'none';\n",
              "\n",
              "        async function convertToInteractive(key) {\n",
              "          const element = document.querySelector('#df-fc4df12e-0cb5-44b3-a58c-47117210c912');\n",
              "          const dataTable =\n",
              "            await google.colab.kernel.invokeFunction('convertToInteractive',\n",
              "                                                     [key], {});\n",
              "          if (!dataTable) return;\n",
              "\n",
              "          const docLinkHtml = 'Like what you see? Visit the ' +\n",
              "            '<a target=\"_blank\" href=https://colab.research.google.com/notebooks/data_table.ipynb>data table notebook</a>'\n",
              "            + ' to learn more about interactive tables.';\n",
              "          element.innerHTML = '';\n",
              "          dataTable['output_type'] = 'display_data';\n",
              "          await google.colab.output.renderOutput(dataTable, element);\n",
              "          const docLink = document.createElement('div');\n",
              "          docLink.innerHTML = docLinkHtml;\n",
              "          element.appendChild(docLink);\n",
              "        }\n",
              "      </script>\n",
              "    </div>\n",
              "  </div>\n",
              "  "
            ]
          },
          "metadata": {},
          "execution_count": 92
        }
      ]
    },
    {
      "cell_type": "markdown",
      "source": [
        "###SONDA"
      ],
      "metadata": {
        "id": "IBRhXZF5Wf2r"
      }
    },
    {
      "cell_type": "code",
      "source": [
        "df_tail[\"Message\"] = df_tail.Message.map(preprocess) \n",
        "\n",
        "maxSeq = len(df_tail[\"Message\"][0])\n",
        "for i in range (0,len(df_tail[\"Message\"])):\n",
        "    try:\n",
        "        cur = len(df_tail[\"Message\"][i])\n",
        "        if (cur > maxSeq):\n",
        "            maxSeq = cur\n",
        "    except:\n",
        "        pass\n",
        "\n",
        "from collections import Counter\n",
        "\n",
        "def counter_word(text_col):\n",
        "    count = Counter()\n",
        "    for text in text_col.values:\n",
        "        for word in text.split():\n",
        "            count[word] += 1\n",
        "    return count\n",
        "\n",
        "counter = counter_word(df_tail.Message)\n",
        "\n",
        "MAX_NB_WORDS = len(counter)\n",
        "MAX_SEQUENCE_LENGTH = maxSeq\n",
        "\n",
        "EMBEDDING_DIM = 100\n",
        "tokenizer = Tokenizer(num_words=MAX_NB_WORDS)\n",
        "tokenizer.fit_on_texts(df_tail['Message'].values)\n",
        "with open(\"tokenizer.pickle\", \"wb\") as handle:\n",
        "    pickle.dump(tokenizer, handle, protocol=pickle.HIGHEST_PROTOCOL)\n",
        "\n",
        "X = tokenizer.texts_to_sequences(df_tail['Message'].values)\n",
        "X = pad_sequences(X, maxlen=MAX_SEQUENCE_LENGTH)\n",
        "print('Shape of data tensor:', X.shape)\n",
        "\n",
        "from sklearn import preprocessing\n",
        "labelencoder = preprocessing.LabelEncoder()\n",
        "df_tail['Category'] = labelencoder.fit_transform(df_tail['Category'])\n",
        "Y = df_tail['Category'].values\n",
        "print('Shape of label tensor:', Y.shape)"
      ],
      "metadata": {
        "colab": {
          "base_uri": "https://localhost:8080/"
        },
        "id": "P53nVc6IWaGN",
        "outputId": "4feb32db-cb57-426e-8567-4f37d5269cf8"
      },
      "execution_count": 93,
      "outputs": [
        {
          "output_type": "stream",
          "name": "stdout",
          "text": [
            "Shape of data tensor: (998, 160)\n",
            "Shape of label tensor: (998,)\n"
          ]
        }
      ]
    },
    {
      "cell_type": "code",
      "source": [
        "from sklearn.model_selection import train_test_split\n",
        "X_train, X_test, Y_train, Y_test = train_test_split(X,Y, test_size = 0.25, random_state = 42)\n",
        "print(X_train.shape,Y_train.shape)\n",
        "print(X_test.shape,Y_test.shape)\n",
        "\n",
        "import tensorflow \n",
        "from tensorflow.keras import layers\n",
        "from keras.callbacks import ModelCheckpoint, EarlyStopping\n",
        "\n",
        "\n",
        "model = tensorflow.keras.models.Sequential()\n",
        "model.add(layers.Embedding(MAX_NB_WORDS, EMBEDDING_DIM, input_length=X.shape[1]))\n",
        "model.add(layers.LSTM(32))\n",
        "model.add(layers.Dense(1, activation='sigmoid'))\n",
        "model.compile(loss='binary_crossentropy', optimizer='adam', metrics=['accuracy'])\n",
        "\n",
        "epochs = 10\n",
        "batch_size = 128\n",
        "\n",
        "history = model.fit(X_train, Y_train, epochs=epochs, batch_size=batch_size,validation_split=0.2,callbacks=[EarlyStopping(monitor='val_loss', patience=3, min_delta=0.0001)])\n",
        "\n",
        "print(history.model.summary())"
      ],
      "metadata": {
        "colab": {
          "base_uri": "https://localhost:8080/"
        },
        "id": "2vRZq0OaWl-J",
        "outputId": "f17051c6-4a90-40e4-c205-bf15dfc3fe1c"
      },
      "execution_count": 94,
      "outputs": [
        {
          "output_type": "stream",
          "name": "stdout",
          "text": [
            "(748, 160) (748,)\n",
            "(250, 160) (250,)\n",
            "Epoch 1/10\n",
            "5/5 [==============================] - 2s 118ms/step - loss: 0.6862 - accuracy: 0.2341 - val_loss: 0.6706 - val_accuracy: 0.2400\n",
            "Epoch 2/10\n",
            "5/5 [==============================] - 0s 20ms/step - loss: 0.6561 - accuracy: 0.2274 - val_loss: 0.6418 - val_accuracy: 0.2400\n",
            "Epoch 3/10\n",
            "5/5 [==============================] - 0s 19ms/step - loss: 0.6253 - accuracy: 0.2274 - val_loss: 0.6119 - val_accuracy: 0.2400\n",
            "Epoch 4/10\n",
            "5/5 [==============================] - 0s 17ms/step - loss: 0.5819 - accuracy: 0.2274 - val_loss: 0.5859 - val_accuracy: 0.2400\n",
            "Epoch 5/10\n",
            "5/5 [==============================] - 0s 17ms/step - loss: 0.5206 - accuracy: 0.2274 - val_loss: 0.5430 - val_accuracy: 0.2400\n",
            "Epoch 6/10\n",
            "5/5 [==============================] - 0s 16ms/step - loss: 0.4270 - accuracy: 0.2358 - val_loss: 0.4763 - val_accuracy: 0.2533\n",
            "Epoch 7/10\n",
            "5/5 [==============================] - 0s 16ms/step - loss: 0.2776 - accuracy: 0.3729 - val_loss: 0.3786 - val_accuracy: 0.3333\n",
            "Epoch 8/10\n",
            "5/5 [==============================] - 0s 15ms/step - loss: 0.0680 - accuracy: 0.4883 - val_loss: 0.2438 - val_accuracy: 0.4667\n",
            "Epoch 9/10\n",
            "5/5 [==============================] - 0s 15ms/step - loss: -0.1190 - accuracy: 0.6355 - val_loss: 0.2338 - val_accuracy: 0.6000\n",
            "Epoch 10/10\n",
            "5/5 [==============================] - 0s 14ms/step - loss: -0.1931 - accuracy: 0.7542 - val_loss: 0.1623 - val_accuracy: 0.6067\n",
            "Model: \"sequential_8\"\n",
            "_________________________________________________________________\n",
            " Layer (type)                Output Shape              Param #   \n",
            "=================================================================\n",
            " embedding_8 (Embedding)     (None, 160, 100)          251300    \n",
            "                                                                 \n",
            " lstm_8 (LSTM)               (None, 32)                17024     \n",
            "                                                                 \n",
            " dense_8 (Dense)             (None, 1)                 33        \n",
            "                                                                 \n",
            "=================================================================\n",
            "Total params: 268,357\n",
            "Trainable params: 268,357\n",
            "Non-trainable params: 0\n",
            "_________________________________________________________________\n",
            "None\n"
          ]
        }
      ]
    },
    {
      "cell_type": "code",
      "source": [
        "plt.title('Loss')\n",
        "plt.plot(history.history['loss'], label='train')\n",
        "plt.plot(history.history['val_loss'], label='test')\n",
        "plt.legend()\n",
        "plt.show()"
      ],
      "metadata": {
        "colab": {
          "base_uri": "https://localhost:8080/",
          "height": 281
        },
        "id": "41y44NBKWpLy",
        "outputId": "809961af-8396-4eff-80b9-367c52a040ef"
      },
      "execution_count": 95,
      "outputs": [
        {
          "output_type": "display_data",
          "data": {
            "text/plain": [
              "<Figure size 432x288 with 1 Axes>"
            ],
            "image/png": "[encoded data removed]"
          },
          "metadata": {
            "needs_background": "light"
          }
        }
      ]
    },
    {
      "cell_type": "code",
      "source": [
        "plt.title('Accuracy')\n",
        "plt.plot(history.history['accuracy'], label='train')\n",
        "plt.plot(history.history['val_accuracy'], label='test')\n",
        "plt.legend()\n",
        "plt.show()"
      ],
      "metadata": {
        "colab": {
          "base_uri": "https://localhost:8080/",
          "height": 281
        },
        "id": "wdozmTq7WtMn",
        "outputId": "0ecb7a49-1d38-487d-aec7-e9e86a5a2ba3"
      },
      "execution_count": 96,
      "outputs": [
        {
          "output_type": "display_data",
          "data": {
            "text/plain": [
              "<Figure size 432x288 with 1 Axes>"
            ],
            "image/png": "[encoded data removed]"
          },
          "metadata": {
            "needs_background": "light"
          }
        }
      ]
    },
    {
      "cell_type": "code",
      "source": [
        "threshold = 0.5\n",
        "\n",
        "result = model.predict(X_test, verbose=2)\n",
        "result = result > threshold\n",
        "result = result.astype(int)\n",
        "\n",
        "from sklearn.metrics import classification_report\n",
        "target_names = ['positive','negative','neutral']\n",
        "print(classification_report(Y_test, result, target_names=target_names))\n",
        "\n",
        "   \n",
        "from sklearn.metrics import confusion_matrix\n",
        "cm = confusion_matrix(Y_test, result)\n",
        "cm_df = pd.DataFrame(cm,\n",
        "                     index = target_names, \n",
        "                     columns = target_names)\n",
        "cm_df"
      ],
      "metadata": {
        "colab": {
          "base_uri": "https://localhost:8080/",
          "height": 458
        },
        "id": "VjxFFyn6WvXO",
        "outputId": "6c3e9afc-3a95-4e7b-fd89-3f7f09db4b72"
      },
      "execution_count": 97,
      "outputs": [
        {
          "output_type": "stream",
          "name": "stdout",
          "text": [
            "8/8 - 0s - 360ms/epoch - 45ms/step\n",
            "              precision    recall  f1-score   support\n",
            "\n",
            "    positive       0.96      0.71      0.81       146\n",
            "    negative       0.40      0.95      0.56        60\n",
            "     neutral       0.00      0.00      0.00        44\n",
            "\n",
            "    accuracy                           0.64       250\n",
            "   macro avg       0.45      0.55      0.46       250\n",
            "weighted avg       0.66      0.64      0.61       250\n",
            "\n"
          ]
        },
        {
          "output_type": "stream",
          "name": "stderr",
          "text": [
            "/usr/local/lib/python3.8/dist-packages/sklearn/metrics/_classification.py:1318: UndefinedMetricWarning: Precision and F-score are ill-defined and being set to 0.0 in labels with no predicted samples. Use `zero_division` parameter to control this behavior.\n",
            "  _warn_prf(average, modifier, msg_start, len(result))\n",
            "/usr/local/lib/python3.8/dist-packages/sklearn/metrics/_classification.py:1318: UndefinedMetricWarning: Precision and F-score are ill-defined and being set to 0.0 in labels with no predicted samples. Use `zero_division` parameter to control this behavior.\n",
            "  _warn_prf(average, modifier, msg_start, len(result))\n",
            "/usr/local/lib/python3.8/dist-packages/sklearn/metrics/_classification.py:1318: UndefinedMetricWarning: Precision and F-score are ill-defined and being set to 0.0 in labels with no predicted samples. Use `zero_division` parameter to control this behavior.\n",
            "  _warn_prf(average, modifier, msg_start, len(result))\n"
          ]
        },
        {
          "output_type": "execute_result",
          "data": {
            "text/plain": [
              "          positive  negative  neutral\n",
              "positive       103        43        0\n",
              "negative         3        57        0\n",
              "neutral          1        43        0"
            ],
            "text/html": [
              "\n",
              "  <div id=\"df-000215bf-c8dd-4a19-abc6-9e523351d1a8\">\n",
              "    <div class=\"colab-df-container\">\n",
              "      <div>\n",
              "<style scoped>\n",
              "    .dataframe tbody tr th:only-of-type {\n",
              "        vertical-align: middle;\n",
              "    }\n",
              "\n",
              "    .dataframe tbody tr th {\n",
              "        vertical-align: top;\n",
              "    }\n",
              "\n",
              "    .dataframe thead th {\n",
              "        text-align: right;\n",
              "    }\n",
              "</style>\n",
              "<table border=\"1\" class=\"dataframe\">\n",
              "  <thead>\n",
              "    <tr style=\"text-align: right;\">\n",
              "      <th></th>\n",
              "      <th>positive</th>\n",
              "      <th>negative</th>\n",
              "      <th>neutral</th>\n",
              "    </tr>\n",
              "  </thead>\n",
              "  <tbody>\n",
              "    <tr>\n",
              "      <th>positive</th>\n",
              "      <td>103</td>\n",
              "      <td>43</td>\n",
              "      <td>0</td>\n",
              "    </tr>\n",
              "    <tr>\n",
              "      <th>negative</th>\n",
              "      <td>3</td>\n",
              "      <td>57</td>\n",
              "      <td>0</td>\n",
              "    </tr>\n",
              "    <tr>\n",
              "      <th>neutral</th>\n",
              "      <td>1</td>\n",
              "      <td>43</td>\n",
              "      <td>0</td>\n",
              "    </tr>\n",
              "  </tbody>\n",
              "</table>\n",
              "</div>\n",
              "      <button class=\"colab-df-convert\" onclick=\"convertToInteractive('df-000215bf-c8dd-4a19-abc6-9e523351d1a8')\"\n",
              "              title=\"Convert this dataframe to an interactive table.\"\n",
              "              style=\"display:none;\">\n",
              "        \n",
              "  <svg xmlns=\"http://www.w3.org/2000/svg\" height=\"24px\"viewBox=\"0 0 24 24\"\n",
              "       width=\"24px\">\n",
              "    <path d=\"M0 0h24v24H0V0z\" fill=\"none\"/>\n",
              "    <path d=\"M18.56 5.44l.94 2.06.94-2.06 2.06-.94-2.06-.94-.94-2.06-.94 2.06-2.06.94zm-11 1L8.5 8.5l.94-2.06 2.06-.94-2.06-.94L8.5 2.5l-.94 2.06-2.06.94zm10 10l.94 2.06.94-2.06 2.06-.94-2.06-.94-.94-2.06-.94 2.06-2.06.94z\"/><path d=\"M17.41 7.96l-1.37-1.37c-.4-.4-.92-.59-1.43-.59-.52 0-1.04.2-1.43.59L10.3 9.45l-7.72 7.72c-.78.78-.78 2.05 0 2.83L4 21.41c.39.39.9.59 1.41.59.51 0 1.02-.2 1.41-.59l7.78-7.78 2.81-2.81c.8-.78.8-2.07 0-2.86zM5.41 20L4 18.59l7.72-7.72 1.47 1.35L5.41 20z\"/>\n",
              "  </svg>\n",
              "      </button>\n",
              "      \n",
              "  <style>\n",
              "    .colab-df-container {\n",
              "      display:flex;\n",
              "      flex-wrap:wrap;\n",
              "      gap: 12px;\n",
              "    }\n",
              "\n",
              "    .colab-df-convert {\n",
              "      background-color: #E8F0FE;\n",
              "      border: none;\n",
              "      border-radius: 50%;\n",
              "      cursor: pointer;\n",
              "      display: none;\n",
              "      fill: #1967D2;\n",
              "      height: 32px;\n",
              "      padding: 0 0 0 0;\n",
              "      width: 32px;\n",
              "    }\n",
              "\n",
              "    .colab-df-convert:hover {\n",
              "      background-color: #E2EBFA;\n",
              "      box-shadow: 0px 1px 2px rgba(60, 64, 67, 0.3), 0px 1px 3px 1px rgba(60, 64, 67, 0.15);\n",
              "      fill: #174EA6;\n",
              "    }\n",
              "\n",
              "    [theme=dark] .colab-df-convert {\n",
              "      background-color: #3B4455;\n",
              "      fill: #D2E3FC;\n",
              "    }\n",
              "\n",
              "    [theme=dark] .colab-df-convert:hover {\n",
              "      background-color: #434B5C;\n",
              "      box-shadow: 0px 1px 3px 1px rgba(0, 0, 0, 0.15);\n",
              "      filter: drop-shadow(0px 1px 2px rgba(0, 0, 0, 0.3));\n",
              "      fill: #FFFFFF;\n",
              "    }\n",
              "  </style>\n",
              "\n",
              "      <script>\n",
              "        const buttonEl =\n",
              "          document.querySelector('#df-000215bf-c8dd-4a19-abc6-9e523351d1a8 button.colab-df-convert');\n",
              "        buttonEl.style.display =\n",
              "          google.colab.kernel.accessAllowed ? 'block' : 'none';\n",
              "\n",
              "        async function convertToInteractive(key) {\n",
              "          const element = document.querySelector('#df-000215bf-c8dd-4a19-abc6-9e523351d1a8');\n",
              "          const dataTable =\n",
              "            await google.colab.kernel.invokeFunction('convertToInteractive',\n",
              "                                                     [key], {});\n",
              "          if (!dataTable) return;\n",
              "\n",
              "          const docLinkHtml = 'Like what you see? Visit the ' +\n",
              "            '<a target=\"_blank\" href=https://colab.research.google.com/notebooks/data_table.ipynb>data table notebook</a>'\n",
              "            + ' to learn more about interactive tables.';\n",
              "          element.innerHTML = '';\n",
              "          dataTable['output_type'] = 'display_data';\n",
              "          await google.colab.output.renderOutput(dataTable, element);\n",
              "          const docLink = document.createElement('div');\n",
              "          docLink.innerHTML = docLinkHtml;\n",
              "          element.appendChild(docLink);\n",
              "        }\n",
              "      </script>\n",
              "    </div>\n",
              "  </div>\n",
              "  "
            ]
          },
          "metadata": {},
          "execution_count": 97
        }
      ]
    },
    {
      "cell_type": "markdown",
      "source": [
        "## Fake News Data"
      ],
      "metadata": {
        "id": "wm1zzyXMXRBH"
      }
    },
    {
      "cell_type": "code",
      "source": [
        "df = pd.read_csv(\"/content/drive/MyDrive/news_v2.csv\")\n",
        "augmented_dataset = pd.read_csv(\"/content/drive/MyDrive/EnsembleLearningProject/t5/news_aug_t5.csv\")"
      ],
      "metadata": {
        "id": "Ep6rvTGjXUR4"
      },
      "execution_count": 98,
      "outputs": []
    },
    {
      "cell_type": "code",
      "source": [
        "df.rename(columns={'print they should pay all the back all the money plus interest the entire family and everyone who came in with them need to be deported asap why did it take two years to bust them  here we go again another group stealing from the government and taxpayers a group of somalis stole over four million in government benefits over just  months  weve reported on numerous cases like this one where the muslim refugeesimmigrants commit fraud by scamming our systemits way out of control more related': 'Message', 'Real': 'Category'}, inplace=True)\n",
        "augmented_dataset.rename(columns={'We follow another group stealing from the government and taxpayers a group of somalis stole over four million dollars in government benefits over just months we reported on numerous cases such as this where muslim refugees are fraudsters by scamming our system its way out of control': 'Message', 'Real': 'Category'}, inplace=True)"
      ],
      "metadata": {
        "id": "-ck85Y-m__l-"
      },
      "execution_count": 101,
      "outputs": []
    },
    {
      "cell_type": "code",
      "source": [
        "#BAŞTA\n",
        "df_top=pd.concat([augmented_dataset,df],ignore_index=True)\n",
        "\n",
        "#ORTADA\n",
        "df_mid = pd.concat([df.iloc[:250], augmented_dataset, df.iloc[250:]]).reset_index(drop=True)\n",
        "\n",
        "#SONDA\n",
        "df_tail =pd.concat([df,augmented_dataset],ignore_index=True)"
      ],
      "metadata": {
        "id": "7V1DrSnMYAeZ"
      },
      "execution_count": 104,
      "outputs": []
    },
    {
      "cell_type": "code",
      "source": [
        "df_top.drop_duplicates(inplace = True)\n",
        "df_mid.drop_duplicates(inplace = True)\n",
        "df_tail.drop_duplicates(inplace = True)"
      ],
      "metadata": {
        "id": "VkHQbgbqYFOu"
      },
      "execution_count": 105,
      "outputs": []
    },
    {
      "cell_type": "markdown",
      "source": [
        "### BAŞTA"
      ],
      "metadata": {
        "id": "xT9qeSLoYJ14"
      }
    },
    {
      "cell_type": "code",
      "source": [
        "df_top[\"Message\"] = df_top[\"Message\"].str.lower()"
      ],
      "metadata": {
        "id": "beoL6nXoapgJ"
      },
      "execution_count": 106,
      "outputs": []
    },
    {
      "cell_type": "code",
      "source": [
        "df_top['Message']= df_top['Message'].str.replace(r'[^A-Za-z0-9 .]+', ' ') \n",
        "\n",
        "maxSeq = len(df_top[\"Message\"][0])\n",
        "for i in range (0,len(df_top[\"Message\"])):\n",
        "    try:\n",
        "        cur = len(df_top[\"Message\"][i])\n",
        "        if (cur > maxSeq):\n",
        "            maxSeq = cur\n",
        "    except:\n",
        "        pass"
      ],
      "metadata": {
        "colab": {
          "base_uri": "https://localhost:8080/"
        },
        "id": "k2hT7JZgaXNP",
        "outputId": "847350a1-b9e1-4cca-9a9e-042310f0775b"
      },
      "execution_count": 107,
      "outputs": [
        {
          "output_type": "stream",
          "name": "stderr",
          "text": [
            "<ipython-input-107-7ca10b9392c7>:1: FutureWarning: The default value of regex will change from True to False in a future version.\n",
            "  df_top['Message']= df_top['Message'].str.replace(r'[^A-Za-z0-9 .]+', ' ')\n"
          ]
        }
      ]
    },
    {
      "cell_type": "code",
      "source": [
        "df_top.dropna(inplace=True)"
      ],
      "metadata": {
        "id": "lIo-TwnpbkXn"
      },
      "execution_count": 108,
      "outputs": []
    },
    {
      "cell_type": "code",
      "source": [
        "from collections import Counter\n",
        "\n",
        "def counter_word(text_col):\n",
        "    count = Counter()\n",
        "    for text in text_col.values:\n",
        "        for word in text.split():\n",
        "            count[word] += 1\n",
        "    return count\n",
        "\n",
        "counter = counter_word(df_top.Message)\n",
        "\n",
        "MAX_NB_WORDS = len(counter)\n",
        "MAX_SEQUENCE_LENGTH = maxSeq\n",
        "\n",
        "EMBEDDING_DIM = 100\n",
        "tokenizer = Tokenizer(num_words=MAX_NB_WORDS)\n",
        "tokenizer.fit_on_texts(df_top['Message'].values)\n",
        "with open(\"tokenizer.pickle\", \"wb\") as handle:\n",
        "    pickle.dump(tokenizer, handle, protocol=pickle.HIGHEST_PROTOCOL)\n",
        "    \n",
        "X = tokenizer.texts_to_sequences(df_top['Message'].values)\n",
        "X = pad_sequences(X, maxlen=MAX_SEQUENCE_LENGTH)\n",
        "print('Shape of data tensor:', X.shape)\n",
        "\n",
        "from sklearn import preprocessing\n",
        "labelencoder = preprocessing.LabelEncoder()\n",
        "df_top['Category'] = labelencoder.fit_transform(df_top['Category'])\n",
        "Y = df_top['Category'].values\n",
        "print('Shape of label tensor:', Y.shape)"
      ],
      "metadata": {
        "colab": {
          "base_uri": "https://localhost:8080/"
        },
        "id": "_2Fim7dCaeCD",
        "outputId": "c8c3f35b-adaf-4805-fcdf-42ad00586454"
      },
      "execution_count": 109,
      "outputs": [
        {
          "output_type": "stream",
          "name": "stdout",
          "text": [
            "Shape of data tensor: (963, 29508)\n",
            "Shape of label tensor: (963,)\n"
          ]
        }
      ]
    },
    {
      "cell_type": "code",
      "source": [
        "from sklearn.model_selection import train_test_split\n",
        "X_train, X_test, Y_train, Y_test = train_test_split(X,Y, test_size = 0.25, random_state = 42)\n",
        "print(X_train.shape,Y_train.shape)\n",
        "print(X_test.shape,Y_test.shape)"
      ],
      "metadata": {
        "colab": {
          "base_uri": "https://localhost:8080/"
        },
        "id": "W-FuoppibZOl",
        "outputId": "d508c868-9fa5-47db-8b20-a85d1c8632ac"
      },
      "execution_count": 110,
      "outputs": [
        {
          "output_type": "stream",
          "name": "stdout",
          "text": [
            "(722, 29508) (722,)\n",
            "(241, 29508) (241,)\n"
          ]
        }
      ]
    },
    {
      "cell_type": "code",
      "source": [
        "import tensorflow \n",
        "from tensorflow.keras import layers\n",
        "from keras.callbacks import ModelCheckpoint, EarlyStopping\n",
        "\n",
        "model = tensorflow.keras.models.Sequential()\n",
        "model.add(layers.Embedding(MAX_NB_WORDS, EMBEDDING_DIM, input_length=X.shape[1]))\n",
        "model.add(layers.LSTM(32))\n",
        "model.add(layers.Dense(1, activation='sigmoid'))\n",
        "model.compile(loss='binary_crossentropy', optimizer='adam', metrics=['accuracy'])\n",
        "\n",
        "epochs = 10\n",
        "batch_size = 128\n",
        "\n",
        "history = model.fit(X_train, Y_train, epochs=epochs, batch_size=batch_size,validation_split=0.2,callbacks=[EarlyStopping(monitor='val_loss', patience=3, min_delta=0.0001)])\n",
        "\n",
        "\n",
        "print(history.model.summary())"
      ],
      "metadata": {
        "colab": {
          "base_uri": "https://localhost:8080/"
        },
        "id": "d3K1zkRTbwit",
        "outputId": "6bb0542c-29a8-4858-eba5-f680c49f53b1"
      },
      "execution_count": 111,
      "outputs": [
        {
          "output_type": "stream",
          "name": "stdout",
          "text": [
            "Epoch 1/10\n",
            "5/5 [==============================] - 8s 1s/step - loss: 0.6782 - accuracy: 0.8198 - val_loss: 0.6517 - val_accuracy: 0.8897\n",
            "Epoch 2/10\n",
            "5/5 [==============================] - 6s 1s/step - loss: 0.6240 - accuracy: 0.8977 - val_loss: 0.5915 - val_accuracy: 0.8759\n",
            "Epoch 3/10\n",
            "5/5 [==============================] - 6s 1s/step - loss: 0.5363 - accuracy: 0.8960 - val_loss: 0.4852 - val_accuracy: 0.8759\n",
            "Epoch 4/10\n",
            "5/5 [==============================] - 6s 1s/step - loss: 0.3926 - accuracy: 0.8960 - val_loss: 0.3548 - val_accuracy: 0.8759\n",
            "Epoch 5/10\n",
            "5/5 [==============================] - 6s 1s/step - loss: 0.2920 - accuracy: 0.8960 - val_loss: 0.3633 - val_accuracy: 0.8759\n",
            "Epoch 6/10\n",
            "5/5 [==============================] - 6s 1s/step - loss: 0.2943 - accuracy: 0.8960 - val_loss: 0.3553 - val_accuracy: 0.8759\n",
            "Epoch 7/10\n",
            "5/5 [==============================] - 6s 1s/step - loss: 0.2620 - accuracy: 0.8960 - val_loss: 0.3141 - val_accuracy: 0.8759\n",
            "Epoch 8/10\n",
            "5/5 [==============================] - 6s 1s/step - loss: 0.2173 - accuracy: 0.8995 - val_loss: 0.2882 - val_accuracy: 0.8759\n",
            "Epoch 9/10\n",
            "5/5 [==============================] - 6s 1s/step - loss: 0.1826 - accuracy: 0.9081 - val_loss: 0.2618 - val_accuracy: 0.8828\n",
            "Epoch 10/10\n",
            "5/5 [==============================] - 6s 1s/step - loss: 0.1418 - accuracy: 0.9220 - val_loss: 0.2436 - val_accuracy: 0.8966\n",
            "Model: \"sequential_9\"\n",
            "_________________________________________________________________\n",
            " Layer (type)                Output Shape              Param #   \n",
            "=================================================================\n",
            " embedding_9 (Embedding)     (None, 29508, 100)        1899600   \n",
            "                                                                 \n",
            " lstm_9 (LSTM)               (None, 32)                17024     \n",
            "                                                                 \n",
            " dense_9 (Dense)             (None, 1)                 33        \n",
            "                                                                 \n",
            "=================================================================\n",
            "Total params: 1,916,657\n",
            "Trainable params: 1,916,657\n",
            "Non-trainable params: 0\n",
            "_________________________________________________________________\n",
            "None\n"
          ]
        }
      ]
    },
    {
      "cell_type": "code",
      "source": [
        "plt.title('Loss')\n",
        "plt.plot(history.history['loss'], label='train')\n",
        "plt.plot(history.history['val_loss'], label='test')\n",
        "plt.legend()\n",
        "plt.show()"
      ],
      "metadata": {
        "colab": {
          "base_uri": "https://localhost:8080/",
          "height": 281
        },
        "id": "X5oMLX54bzJs",
        "outputId": "f3a19a54-41d8-4628-9208-17b568bb4c22"
      },
      "execution_count": 114,
      "outputs": [
        {
          "output_type": "display_data",
          "data": {
            "text/plain": [
              "<Figure size 432x288 with 1 Axes>"
            ],
            "image/png": "[encoded data removed]"
          },
          "metadata": {
            "needs_background": "light"
          }
        }
      ]
    },
    {
      "cell_type": "code",
      "source": [
        "plt.title('Accuracy')\n",
        "plt.plot(history.history['accuracy'], label='train')\n",
        "plt.plot(history.history['val_accuracy'], label='test')\n",
        "plt.legend()\n",
        "plt.show()"
      ],
      "metadata": {
        "colab": {
          "base_uri": "https://localhost:8080/",
          "height": 281
        },
        "id": "UGP5o9P9b1kS",
        "outputId": "3626f249-a457-4a50-a176-3e5a15858255"
      },
      "execution_count": 115,
      "outputs": [
        {
          "output_type": "display_data",
          "data": {
            "text/plain": [
              "<Figure size 432x288 with 1 Axes>"
            ],
            "image/png": "[encoded data removed]"
          },
          "metadata": {
            "needs_background": "light"
          }
        }
      ]
    },
    {
      "cell_type": "code",
      "source": [
        "threshold = 0.5\n",
        "\n",
        "result = model.predict(X_test, verbose=2)\n",
        "result = result > threshold\n",
        "result = result.astype(int)\n",
        "\n",
        "from sklearn.metrics import classification_report\n",
        "target_names = ['real','fake']\n",
        "print(classification_report(Y_test, result, target_names=target_names))\n",
        "\n",
        "   \n",
        "from sklearn.metrics import confusion_matrix\n",
        "cm = confusion_matrix(Y_test, result)\n",
        "cm_df = pd.DataFrame(cm,\n",
        "                     index = target_names, \n",
        "                     columns = target_names)\n",
        "cm_df"
      ],
      "metadata": {
        "colab": {
          "base_uri": "https://localhost:8080/",
          "height": 286
        },
        "id": "0rM8FE9jb1-R",
        "outputId": "05b92183-9533-4e3b-85ca-c9c8ccf50ff3"
      },
      "execution_count": 116,
      "outputs": [
        {
          "output_type": "stream",
          "name": "stdout",
          "text": [
            "8/8 - 3s - 3s/epoch - 383ms/step\n",
            "              precision    recall  f1-score   support\n",
            "\n",
            "        real       0.90      1.00      0.95       216\n",
            "        fake       1.00      0.04      0.08        25\n",
            "\n",
            "    accuracy                           0.90       241\n",
            "   macro avg       0.95      0.52      0.51       241\n",
            "weighted avg       0.91      0.90      0.86       241\n",
            "\n"
          ]
        },
        {
          "output_type": "execute_result",
          "data": {
            "text/plain": [
              "      real  fake\n",
              "real   216     0\n",
              "fake    24     1"
            ],
            "text/html": [
              "\n",
              "  <div id=\"df-d98a6531-446a-4401-ad92-8efb31aba9a0\">\n",
              "    <div class=\"colab-df-container\">\n",
              "      <div>\n",
              "<style scoped>\n",
              "    .dataframe tbody tr th:only-of-type {\n",
              "        vertical-align: middle;\n",
              "    }\n",
              "\n",
              "    .dataframe tbody tr th {\n",
              "        vertical-align: top;\n",
              "    }\n",
              "\n",
              "    .dataframe thead th {\n",
              "        text-align: right;\n",
              "    }\n",
              "</style>\n",
              "<table border=\"1\" class=\"dataframe\">\n",
              "  <thead>\n",
              "    <tr style=\"text-align: right;\">\n",
              "      <th></th>\n",
              "      <th>real</th>\n",
              "      <th>fake</th>\n",
              "    </tr>\n",
              "  </thead>\n",
              "  <tbody>\n",
              "    <tr>\n",
              "      <th>real</th>\n",
              "      <td>216</td>\n",
              "      <td>0</td>\n",
              "    </tr>\n",
              "    <tr>\n",
              "      <th>fake</th>\n",
              "      <td>24</td>\n",
              "      <td>1</td>\n",
              "    </tr>\n",
              "  </tbody>\n",
              "</table>\n",
              "</div>\n",
              "      <button class=\"colab-df-convert\" onclick=\"convertToInteractive('df-d98a6531-446a-4401-ad92-8efb31aba9a0')\"\n",
              "              title=\"Convert this dataframe to an interactive table.\"\n",
              "              style=\"display:none;\">\n",
              "        \n",
              "  <svg xmlns=\"http://www.w3.org/2000/svg\" height=\"24px\"viewBox=\"0 0 24 24\"\n",
              "       width=\"24px\">\n",
              "    <path d=\"M0 0h24v24H0V0z\" fill=\"none\"/>\n",
              "    <path d=\"M18.56 5.44l.94 2.06.94-2.06 2.06-.94-2.06-.94-.94-2.06-.94 2.06-2.06.94zm-11 1L8.5 8.5l.94-2.06 2.06-.94-2.06-.94L8.5 2.5l-.94 2.06-2.06.94zm10 10l.94 2.06.94-2.06 2.06-.94-2.06-.94-.94-2.06-.94 2.06-2.06.94z\"/><path d=\"M17.41 7.96l-1.37-1.37c-.4-.4-.92-.59-1.43-.59-.52 0-1.04.2-1.43.59L10.3 9.45l-7.72 7.72c-.78.78-.78 2.05 0 2.83L4 21.41c.39.39.9.59 1.41.59.51 0 1.02-.2 1.41-.59l7.78-7.78 2.81-2.81c.8-.78.8-2.07 0-2.86zM5.41 20L4 18.59l7.72-7.72 1.47 1.35L5.41 20z\"/>\n",
              "  </svg>\n",
              "      </button>\n",
              "      \n",
              "  <style>\n",
              "    .colab-df-container {\n",
              "      display:flex;\n",
              "      flex-wrap:wrap;\n",
              "      gap: 12px;\n",
              "    }\n",
              "\n",
              "    .colab-df-convert {\n",
              "      background-color: #E8F0FE;\n",
              "      border: none;\n",
              "      border-radius: 50%;\n",
              "      cursor: pointer;\n",
              "      display: none;\n",
              "      fill: #1967D2;\n",
              "      height: 32px;\n",
              "      padding: 0 0 0 0;\n",
              "      width: 32px;\n",
              "    }\n",
              "\n",
              "    .colab-df-convert:hover {\n",
              "      background-color: #E2EBFA;\n",
              "      box-shadow: 0px 1px 2px rgba(60, 64, 67, 0.3), 0px 1px 3px 1px rgba(60, 64, 67, 0.15);\n",
              "      fill: #174EA6;\n",
              "    }\n",
              "\n",
              "    [theme=dark] .colab-df-convert {\n",
              "      background-color: #3B4455;\n",
              "      fill: #D2E3FC;\n",
              "    }\n",
              "\n",
              "    [theme=dark] .colab-df-convert:hover {\n",
              "      background-color: #434B5C;\n",
              "      box-shadow: 0px 1px 3px 1px rgba(0, 0, 0, 0.15);\n",
              "      filter: drop-shadow(0px 1px 2px rgba(0, 0, 0, 0.3));\n",
              "      fill: #FFFFFF;\n",
              "    }\n",
              "  </style>\n",
              "\n",
              "      <script>\n",
              "        const buttonEl =\n",
              "          document.querySelector('#df-d98a6531-446a-4401-ad92-8efb31aba9a0 button.colab-df-convert');\n",
              "        buttonEl.style.display =\n",
              "          google.colab.kernel.accessAllowed ? 'block' : 'none';\n",
              "\n",
              "        async function convertToInteractive(key) {\n",
              "          const element = document.querySelector('#df-d98a6531-446a-4401-ad92-8efb31aba9a0');\n",
              "          const dataTable =\n",
              "            await google.colab.kernel.invokeFunction('convertToInteractive',\n",
              "                                                     [key], {});\n",
              "          if (!dataTable) return;\n",
              "\n",
              "          const docLinkHtml = 'Like what you see? Visit the ' +\n",
              "            '<a target=\"_blank\" href=https://colab.research.google.com/notebooks/data_table.ipynb>data table notebook</a>'\n",
              "            + ' to learn more about interactive tables.';\n",
              "          element.innerHTML = '';\n",
              "          dataTable['output_type'] = 'display_data';\n",
              "          await google.colab.output.renderOutput(dataTable, element);\n",
              "          const docLink = document.createElement('div');\n",
              "          docLink.innerHTML = docLinkHtml;\n",
              "          element.appendChild(docLink);\n",
              "        }\n",
              "      </script>\n",
              "    </div>\n",
              "  </div>\n",
              "  "
            ]
          },
          "metadata": {},
          "execution_count": 116
        }
      ]
    },
    {
      "cell_type": "markdown",
      "source": [
        "### ORTADA"
      ],
      "metadata": {
        "id": "akG7yJ8t9auk"
      }
    },
    {
      "cell_type": "code",
      "source": [
        "df_mid[\"Message\"] = df_mid[\"Message\"].str.lower()"
      ],
      "metadata": {
        "id": "n_XIJlJR9cUD"
      },
      "execution_count": 117,
      "outputs": []
    },
    {
      "cell_type": "code",
      "source": [
        "df_mid['Message']= df_mid['Message'].str.replace(r'[^A-Za-z0-9 .]+', ' ') \n",
        "\n",
        "maxSeq = len(df_mid[\"Message\"][0])\n",
        "for i in range (0,len(df_mid[\"Message\"])):\n",
        "    try:\n",
        "        cur = len(df_mid[\"Message\"][i])\n",
        "        if (cur > maxSeq):\n",
        "            maxSeq = cur\n",
        "    except:\n",
        "        pass\n",
        "\n",
        "df_mid.dropna(inplace=True)"
      ],
      "metadata": {
        "colab": {
          "base_uri": "https://localhost:8080/"
        },
        "id": "FI676xmg9f06",
        "outputId": "029fed65-efd7-471f-e991-8c58d0daf880"
      },
      "execution_count": 118,
      "outputs": [
        {
          "output_type": "stream",
          "name": "stderr",
          "text": [
            "<ipython-input-118-ea2990828e20>:1: FutureWarning: The default value of regex will change from True to False in a future version.\n",
            "  df_mid['Message']= df_mid['Message'].str.replace(r'[^A-Za-z0-9 .]+', ' ')\n"
          ]
        }
      ]
    },
    {
      "cell_type": "code",
      "source": [
        "from collections import Counter\n",
        "\n",
        "def counter_word(text_col):\n",
        "    count = Counter()\n",
        "    for text in text_col.values:\n",
        "        for word in text.split():\n",
        "            count[word] += 1\n",
        "    return count\n",
        "\n",
        "counter = counter_word(df_mid.Message)\n",
        "\n",
        "MAX_NB_WORDS = len(counter)\n",
        "MAX_SEQUENCE_LENGTH = maxSeq\n",
        "\n",
        "EMBEDDING_DIM = 100\n",
        "tokenizer = Tokenizer(num_words=MAX_NB_WORDS)\n",
        "tokenizer.fit_on_texts(df_mid['Message'].values)\n",
        "with open(\"tokenizer.pickle\", \"wb\") as handle:\n",
        "    pickle.dump(tokenizer, handle, protocol=pickle.HIGHEST_PROTOCOL)\n",
        "    \n",
        "X = tokenizer.texts_to_sequences(df_mid['Message'].values)\n",
        "X = pad_sequences(X, maxlen=MAX_SEQUENCE_LENGTH)\n",
        "print('Shape of data tensor:', X.shape)\n",
        "\n",
        "from sklearn import preprocessing\n",
        "labelencoder = preprocessing.LabelEncoder()\n",
        "df_mid['Category'] = labelencoder.fit_transform(df_mid['Category'])\n",
        "Y = df_mid['Category'].values\n",
        "print('Shape of label tensor:', Y.shape)"
      ],
      "metadata": {
        "colab": {
          "base_uri": "https://localhost:8080/"
        },
        "id": "8NiWqZsz9wYE",
        "outputId": "2a3e03ec-8ee6-4afe-9cfb-3109df9f8a6e"
      },
      "execution_count": 119,
      "outputs": [
        {
          "output_type": "stream",
          "name": "stdout",
          "text": [
            "Shape of data tensor: (963, 29508)\n",
            "Shape of label tensor: (963,)\n"
          ]
        }
      ]
    },
    {
      "cell_type": "code",
      "source": [
        "from sklearn.model_selection import train_test_split\n",
        "X_train, X_test, Y_train, Y_test = train_test_split(X,Y, test_size = 0.25, random_state = 42)\n",
        "print(X_train.shape,Y_train.shape)\n",
        "print(X_test.shape,Y_test.shape)"
      ],
      "metadata": {
        "colab": {
          "base_uri": "https://localhost:8080/"
        },
        "id": "c26UQrv693Rs",
        "outputId": "5c28eded-e14b-4b11-df89-d69a5359a97b"
      },
      "execution_count": 120,
      "outputs": [
        {
          "output_type": "stream",
          "name": "stdout",
          "text": [
            "(722, 29508) (722,)\n",
            "(241, 29508) (241,)\n"
          ]
        }
      ]
    },
    {
      "cell_type": "code",
      "source": [
        "import tensorflow \n",
        "from tensorflow.keras import layers\n",
        "from keras.callbacks import ModelCheckpoint, EarlyStopping\n",
        "\n",
        "model = tensorflow.keras.models.Sequential()\n",
        "model.add(layers.Embedding(MAX_NB_WORDS, EMBEDDING_DIM, input_length=X.shape[1]))\n",
        "model.add(layers.LSTM(32))\n",
        "model.add(layers.Dense(1, activation='sigmoid'))\n",
        "model.compile(loss='binary_crossentropy', optimizer='adam', metrics=['accuracy'])\n",
        "\n",
        "epochs = 10\n",
        "batch_size = 128\n",
        "\n",
        "history = model.fit(X_train, Y_train, epochs=epochs, batch_size=batch_size,validation_split=0.2,callbacks=[EarlyStopping(monitor='val_loss', patience=3, min_delta=0.0001)])\n",
        "\n",
        "print(history.model.summary())"
      ],
      "metadata": {
        "colab": {
          "base_uri": "https://localhost:8080/"
        },
        "id": "4TLtHhbS94Qu",
        "outputId": "caecdd8c-a24b-4229-f011-5d544d7f8a10"
      },
      "execution_count": 121,
      "outputs": [
        {
          "output_type": "stream",
          "name": "stdout",
          "text": [
            "Epoch 1/10\n",
            "5/5 [==============================] - 8s 1s/step - loss: 0.6828 - accuracy: 0.7643 - val_loss: 0.6616 - val_accuracy: 0.8828\n",
            "Epoch 2/10\n",
            "5/5 [==============================] - 6s 1s/step - loss: 0.6421 - accuracy: 0.8873 - val_loss: 0.6168 - val_accuracy: 0.8828\n",
            "Epoch 3/10\n",
            "5/5 [==============================] - 6s 1s/step - loss: 0.5804 - accuracy: 0.8873 - val_loss: 0.5407 - val_accuracy: 0.8828\n",
            "Epoch 4/10\n",
            "5/5 [==============================] - 6s 1s/step - loss: 0.4769 - accuracy: 0.8873 - val_loss: 0.4008 - val_accuracy: 0.8828\n",
            "Epoch 5/10\n",
            "5/5 [==============================] - 6s 1s/step - loss: 0.3198 - accuracy: 0.8873 - val_loss: 0.3373 - val_accuracy: 0.8828\n",
            "Epoch 6/10\n",
            "5/5 [==============================] - 6s 1s/step - loss: 0.3040 - accuracy: 0.8873 - val_loss: 0.3218 - val_accuracy: 0.8828\n",
            "Epoch 7/10\n",
            "5/5 [==============================] - 7s 1s/step - loss: 0.2601 - accuracy: 0.8891 - val_loss: 0.2929 - val_accuracy: 0.8828\n",
            "Epoch 8/10\n",
            "5/5 [==============================] - 6s 1s/step - loss: 0.2239 - accuracy: 0.8908 - val_loss: 0.2809 - val_accuracy: 0.8897\n",
            "Epoch 9/10\n",
            "5/5 [==============================] - 6s 1s/step - loss: 0.1918 - accuracy: 0.9047 - val_loss: 0.2560 - val_accuracy: 0.8897\n",
            "Epoch 10/10\n",
            "5/5 [==============================] - 6s 1s/step - loss: 0.1480 - accuracy: 0.9203 - val_loss: 0.2415 - val_accuracy: 0.8897\n",
            "Model: \"sequential_10\"\n",
            "_________________________________________________________________\n",
            " Layer (type)                Output Shape              Param #   \n",
            "=================================================================\n",
            " embedding_10 (Embedding)    (None, 29508, 100)        1899600   \n",
            "                                                                 \n",
            " lstm_10 (LSTM)              (None, 32)                17024     \n",
            "                                                                 \n",
            " dense_10 (Dense)            (None, 1)                 33        \n",
            "                                                                 \n",
            "=================================================================\n",
            "Total params: 1,916,657\n",
            "Trainable params: 1,916,657\n",
            "Non-trainable params: 0\n",
            "_________________________________________________________________\n",
            "None\n"
          ]
        }
      ]
    },
    {
      "cell_type": "code",
      "source": [
        "plt.title('Loss')\n",
        "plt.plot(history.history['loss'], label='train')\n",
        "plt.plot(history.history['val_loss'], label='test')\n",
        "plt.legend()\n",
        "plt.show()"
      ],
      "metadata": {
        "colab": {
          "base_uri": "https://localhost:8080/",
          "height": 281
        },
        "id": "gsG25I4d969W",
        "outputId": "53a61605-46e7-416d-92e6-bbe36f4efa4c"
      },
      "execution_count": 122,
      "outputs": [
        {
          "output_type": "display_data",
          "data": {
            "text/plain": [
              "<Figure size 432x288 with 1 Axes>"
            ],
            "image/png": "[encoded data removed]"
          },
          "metadata": {
            "needs_background": "light"
          }
        }
      ]
    },
    {
      "cell_type": "code",
      "source": [
        "plt.title('Accuracy')\n",
        "plt.plot(history.history['accuracy'], label='train')\n",
        "plt.plot(history.history['val_accuracy'], label='test')\n",
        "plt.legend()\n",
        "plt.show()"
      ],
      "metadata": {
        "colab": {
          "base_uri": "https://localhost:8080/",
          "height": 281
        },
        "id": "vSKlpTGe9-00",
        "outputId": "c439b0c9-8d32-41e5-a1df-4bb168da1c6a"
      },
      "execution_count": 123,
      "outputs": [
        {
          "output_type": "display_data",
          "data": {
            "text/plain": [
              "<Figure size 432x288 with 1 Axes>"
            ],
            "image/png": "[encoded data removed]"
          },
          "metadata": {
            "needs_background": "light"
          }
        }
      ]
    },
    {
      "cell_type": "code",
      "source": [
        "threshold = 0.5\n",
        "\n",
        "result = model.predict(X_test, verbose=2)\n",
        "result = result > threshold\n",
        "result = result.astype(int)\n",
        "\n",
        "from sklearn.metrics import classification_report\n",
        "target_names = ['real','fake']\n",
        "print(classification_report(Y_test, result, target_names=target_names))\n",
        "\n",
        "   \n",
        "from sklearn.metrics import confusion_matrix\n",
        "cm = confusion_matrix(Y_test, result)\n",
        "cm_df = pd.DataFrame(cm,\n",
        "                     index = target_names, \n",
        "                     columns = target_names)\n",
        "cm_df"
      ],
      "metadata": {
        "colab": {
          "base_uri": "https://localhost:8080/",
          "height": 286
        },
        "id": "Shayo3xP-A7H",
        "outputId": "8a7b6cb6-60cd-41b1-f5e5-a8e22776605f"
      },
      "execution_count": 124,
      "outputs": [
        {
          "output_type": "stream",
          "name": "stdout",
          "text": [
            "8/8 - 3s - 3s/epoch - 375ms/step\n",
            "              precision    recall  f1-score   support\n",
            "\n",
            "        real       0.92      1.00      0.96       220\n",
            "        fake       1.00      0.10      0.17        21\n",
            "\n",
            "    accuracy                           0.92       241\n",
            "   macro avg       0.96      0.55      0.57       241\n",
            "weighted avg       0.93      0.92      0.89       241\n",
            "\n"
          ]
        },
        {
          "output_type": "execute_result",
          "data": {
            "text/plain": [
              "      real  fake\n",
              "real   220     0\n",
              "fake    19     2"
            ],
            "text/html": [
              "\n",
              "  <div id=\"df-fd9ae2b9-8f86-4b75-b7fd-9db2d3d5c4d5\">\n",
              "    <div class=\"colab-df-container\">\n",
              "      <div>\n",
              "<style scoped>\n",
              "    .dataframe tbody tr th:only-of-type {\n",
              "        vertical-align: middle;\n",
              "    }\n",
              "\n",
              "    .dataframe tbody tr th {\n",
              "        vertical-align: top;\n",
              "    }\n",
              "\n",
              "    .dataframe thead th {\n",
              "        text-align: right;\n",
              "    }\n",
              "</style>\n",
              "<table border=\"1\" class=\"dataframe\">\n",
              "  <thead>\n",
              "    <tr style=\"text-align: right;\">\n",
              "      <th></th>\n",
              "      <th>real</th>\n",
              "      <th>fake</th>\n",
              "    </tr>\n",
              "  </thead>\n",
              "  <tbody>\n",
              "    <tr>\n",
              "      <th>real</th>\n",
              "      <td>220</td>\n",
              "      <td>0</td>\n",
              "    </tr>\n",
              "    <tr>\n",
              "      <th>fake</th>\n",
              "      <td>19</td>\n",
              "      <td>2</td>\n",
              "    </tr>\n",
              "  </tbody>\n",
              "</table>\n",
              "</div>\n",
              "      <button class=\"colab-df-convert\" onclick=\"convertToInteractive('df-fd9ae2b9-8f86-4b75-b7fd-9db2d3d5c4d5')\"\n",
              "              title=\"Convert this dataframe to an interactive table.\"\n",
              "              style=\"display:none;\">\n",
              "        \n",
              "  <svg xmlns=\"http://www.w3.org/2000/svg\" height=\"24px\"viewBox=\"0 0 24 24\"\n",
              "       width=\"24px\">\n",
              "    <path d=\"M0 0h24v24H0V0z\" fill=\"none\"/>\n",
              "    <path d=\"M18.56 5.44l.94 2.06.94-2.06 2.06-.94-2.06-.94-.94-2.06-.94 2.06-2.06.94zm-11 1L8.5 8.5l.94-2.06 2.06-.94-2.06-.94L8.5 2.5l-.94 2.06-2.06.94zm10 10l.94 2.06.94-2.06 2.06-.94-2.06-.94-.94-2.06-.94 2.06-2.06.94z\"/><path d=\"M17.41 7.96l-1.37-1.37c-.4-.4-.92-.59-1.43-.59-.52 0-1.04.2-1.43.59L10.3 9.45l-7.72 7.72c-.78.78-.78 2.05 0 2.83L4 21.41c.39.39.9.59 1.41.59.51 0 1.02-.2 1.41-.59l7.78-7.78 2.81-2.81c.8-.78.8-2.07 0-2.86zM5.41 20L4 18.59l7.72-7.72 1.47 1.35L5.41 20z\"/>\n",
              "  </svg>\n",
              "      </button>\n",
              "      \n",
              "  <style>\n",
              "    .colab-df-container {\n",
              "      display:flex;\n",
              "      flex-wrap:wrap;\n",
              "      gap: 12px;\n",
              "    }\n",
              "\n",
              "    .colab-df-convert {\n",
              "      background-color: #E8F0FE;\n",
              "      border: none;\n",
              "      border-radius: 50%;\n",
              "      cursor: pointer;\n",
              "      display: none;\n",
              "      fill: #1967D2;\n",
              "      height: 32px;\n",
              "      padding: 0 0 0 0;\n",
              "      width: 32px;\n",
              "    }\n",
              "\n",
              "    .colab-df-convert:hover {\n",
              "      background-color: #E2EBFA;\n",
              "      box-shadow: 0px 1px 2px rgba(60, 64, 67, 0.3), 0px 1px 3px 1px rgba(60, 64, 67, 0.15);\n",
              "      fill: #174EA6;\n",
              "    }\n",
              "\n",
              "    [theme=dark] .colab-df-convert {\n",
              "      background-color: #3B4455;\n",
              "      fill: #D2E3FC;\n",
              "    }\n",
              "\n",
              "    [theme=dark] .colab-df-convert:hover {\n",
              "      background-color: #434B5C;\n",
              "      box-shadow: 0px 1px 3px 1px rgba(0, 0, 0, 0.15);\n",
              "      filter: drop-shadow(0px 1px 2px rgba(0, 0, 0, 0.3));\n",
              "      fill: #FFFFFF;\n",
              "    }\n",
              "  </style>\n",
              "\n",
              "      <script>\n",
              "        const buttonEl =\n",
              "          document.querySelector('#df-fd9ae2b9-8f86-4b75-b7fd-9db2d3d5c4d5 button.colab-df-convert');\n",
              "        buttonEl.style.display =\n",
              "          google.colab.kernel.accessAllowed ? 'block' : 'none';\n",
              "\n",
              "        async function convertToInteractive(key) {\n",
              "          const element = document.querySelector('#df-fd9ae2b9-8f86-4b75-b7fd-9db2d3d5c4d5');\n",
              "          const dataTable =\n",
              "            await google.colab.kernel.invokeFunction('convertToInteractive',\n",
              "                                                     [key], {});\n",
              "          if (!dataTable) return;\n",
              "\n",
              "          const docLinkHtml = 'Like what you see? Visit the ' +\n",
              "            '<a target=\"_blank\" href=https://colab.research.google.com/notebooks/data_table.ipynb>data table notebook</a>'\n",
              "            + ' to learn more about interactive tables.';\n",
              "          element.innerHTML = '';\n",
              "          dataTable['output_type'] = 'display_data';\n",
              "          await google.colab.output.renderOutput(dataTable, element);\n",
              "          const docLink = document.createElement('div');\n",
              "          docLink.innerHTML = docLinkHtml;\n",
              "          element.appendChild(docLink);\n",
              "        }\n",
              "      </script>\n",
              "    </div>\n",
              "  </div>\n",
              "  "
            ]
          },
          "metadata": {},
          "execution_count": 124
        }
      ]
    },
    {
      "cell_type": "markdown",
      "source": [
        "###SONDA"
      ],
      "metadata": {
        "id": "ftOglZ0M-bRL"
      }
    },
    {
      "cell_type": "code",
      "source": [
        "df_tail[\"Message\"] = df_tail[\"Message\"].str.lower()\n",
        "df_tail['Message']= df_tail['Message'].str.replace(r'[^A-Za-z0-9 .]+', ' ') \n",
        "\n",
        "maxSeq = len(df_tail[\"Message\"][0])\n",
        "for i in range (0,len(df_tail[\"Message\"])):\n",
        "    try:\n",
        "        cur = len(df_tail[\"Message\"][i])\n",
        "        if (cur > maxSeq):\n",
        "            maxSeq = cur\n",
        "    except:\n",
        "        pass\n",
        "\n",
        "df_tail.dropna(inplace=True)"
      ],
      "metadata": {
        "colab": {
          "base_uri": "https://localhost:8080/"
        },
        "id": "4ODqgoeu-UQt",
        "outputId": "75443e22-739d-4325-8d02-83e7d0656456"
      },
      "execution_count": 125,
      "outputs": [
        {
          "output_type": "stream",
          "name": "stderr",
          "text": [
            "<ipython-input-125-a006ec4b28a2>:2: FutureWarning: The default value of regex will change from True to False in a future version.\n",
            "  df_tail['Message']= df_tail['Message'].str.replace(r'[^A-Za-z0-9 .]+', ' ')\n"
          ]
        }
      ]
    },
    {
      "cell_type": "code",
      "source": [
        "from collections import Counter\n",
        "\n",
        "def counter_word(text_col):\n",
        "    count = Counter()\n",
        "    for text in text_col.values:\n",
        "        for word in text.split():\n",
        "            count[word] += 1\n",
        "    return count\n",
        "\n",
        "counter = counter_word(df_tail.Message)\n",
        "\n",
        "MAX_NB_WORDS = len(counter)\n",
        "MAX_SEQUENCE_LENGTH = maxSeq\n",
        "\n",
        "EMBEDDING_DIM = 100\n",
        "tokenizer = Tokenizer(num_words=MAX_NB_WORDS)\n",
        "tokenizer.fit_on_texts(df_tail['Message'].values)\n",
        "with open(\"tokenizer.pickle\", \"wb\") as handle:\n",
        "    pickle.dump(tokenizer, handle, protocol=pickle.HIGHEST_PROTOCOL)\n",
        "    \n",
        "X = tokenizer.texts_to_sequences(df_tail['Message'].values)\n",
        "X = pad_sequences(X, maxlen=MAX_SEQUENCE_LENGTH)\n",
        "print('Shape of data tensor:', X.shape)\n",
        "\n",
        "from sklearn import preprocessing\n",
        "labelencoder = preprocessing.LabelEncoder()\n",
        "df_tail['Category'] = labelencoder.fit_transform(df_tail['Category'])\n",
        "Y = df_tail['Category'].values\n",
        "print('Shape of label tensor:', Y.shape)"
      ],
      "metadata": {
        "colab": {
          "base_uri": "https://localhost:8080/"
        },
        "id": "9oyyD3-q-kx_",
        "outputId": "fb13521a-ab12-4479-ebcf-ce0db13af6c6"
      },
      "execution_count": 126,
      "outputs": [
        {
          "output_type": "stream",
          "name": "stdout",
          "text": [
            "Shape of data tensor: (963, 29508)\n",
            "Shape of label tensor: (963,)\n"
          ]
        }
      ]
    },
    {
      "cell_type": "code",
      "source": [
        "from sklearn.model_selection import train_test_split\n",
        "X_train, X_test, Y_train, Y_test = train_test_split(X,Y, test_size = 0.25, random_state = 42)\n",
        "print(X_train.shape,Y_train.shape)\n",
        "print(X_test.shape,Y_test.shape)"
      ],
      "metadata": {
        "colab": {
          "base_uri": "https://localhost:8080/"
        },
        "id": "PVv0Nzmu-sUl",
        "outputId": "c34caba2-1b2a-413d-ba97-f57244516bcb"
      },
      "execution_count": 127,
      "outputs": [
        {
          "output_type": "stream",
          "name": "stdout",
          "text": [
            "(722, 29508) (722,)\n",
            "(241, 29508) (241,)\n"
          ]
        }
      ]
    },
    {
      "cell_type": "code",
      "source": [
        "import tensorflow \n",
        "from tensorflow.keras import layers\n",
        "from keras.callbacks import ModelCheckpoint, EarlyStopping\n",
        "\n",
        "model = tensorflow.keras.models.Sequential()\n",
        "model.add(layers.Embedding(MAX_NB_WORDS, EMBEDDING_DIM, input_length=X.shape[1]))\n",
        "model.add(layers.LSTM(32))\n",
        "model.add(layers.Dense(1, activation='sigmoid'))\n",
        "model.compile(loss='binary_crossentropy', optimizer='adam', metrics=['accuracy'])\n",
        "\n",
        "epochs = 10\n",
        "batch_size = 128\n",
        "\n",
        "history = model.fit(X_train, Y_train, epochs=epochs, batch_size=batch_size,validation_split=0.2,callbacks=[EarlyStopping(monitor='val_loss', patience=3, min_delta=0.0001)])\n",
        "\n",
        "print(history.model.summary())"
      ],
      "metadata": {
        "colab": {
          "base_uri": "https://localhost:8080/"
        },
        "id": "lLkn2ugw-u4d",
        "outputId": "06496115-70c4-4b7e-fb0d-105645d1dfcc"
      },
      "execution_count": 128,
      "outputs": [
        {
          "output_type": "stream",
          "name": "stdout",
          "text": [
            "Epoch 1/10\n",
            "5/5 [==============================] - 8s 1s/step - loss: 0.6848 - accuracy: 0.7331 - val_loss: 0.6679 - val_accuracy: 0.8276\n",
            "Epoch 2/10\n",
            "5/5 [==============================] - 6s 1s/step - loss: 0.6381 - accuracy: 0.9099 - val_loss: 0.6144 - val_accuracy: 0.8276\n",
            "Epoch 3/10\n",
            "5/5 [==============================] - 6s 1s/step - loss: 0.5369 - accuracy: 0.9099 - val_loss: 0.5016 - val_accuracy: 0.8276\n",
            "Epoch 4/10\n",
            "5/5 [==============================] - 6s 1s/step - loss: 0.3735 - accuracy: 0.9099 - val_loss: 0.4510 - val_accuracy: 0.8276\n",
            "Epoch 5/10\n",
            "5/5 [==============================] - 6s 1s/step - loss: 0.2958 - accuracy: 0.9099 - val_loss: 0.4899 - val_accuracy: 0.8276\n",
            "Epoch 6/10\n",
            "5/5 [==============================] - 6s 1s/step - loss: 0.2847 - accuracy: 0.9099 - val_loss: 0.5130 - val_accuracy: 0.8276\n",
            "Epoch 7/10\n",
            "5/5 [==============================] - 6s 1s/step - loss: 0.2815 - accuracy: 0.9099 - val_loss: 0.5046 - val_accuracy: 0.8276\n",
            "Model: \"sequential_11\"\n",
            "_________________________________________________________________\n",
            " Layer (type)                Output Shape              Param #   \n",
            "=================================================================\n",
            " embedding_11 (Embedding)    (None, 29508, 100)        1899600   \n",
            "                                                                 \n",
            " lstm_11 (LSTM)              (None, 32)                17024     \n",
            "                                                                 \n",
            " dense_11 (Dense)            (None, 1)                 33        \n",
            "                                                                 \n",
            "=================================================================\n",
            "Total params: 1,916,657\n",
            "Trainable params: 1,916,657\n",
            "Non-trainable params: 0\n",
            "_________________________________________________________________\n",
            "None\n"
          ]
        }
      ]
    },
    {
      "cell_type": "code",
      "source": [
        "plt.title('Loss')\n",
        "plt.plot(history.history['loss'], label='train')\n",
        "plt.plot(history.history['val_loss'], label='test')\n",
        "plt.legend()\n",
        "plt.show()"
      ],
      "metadata": {
        "colab": {
          "base_uri": "https://localhost:8080/",
          "height": 281
        },
        "id": "KDnh-1cD-xwr",
        "outputId": "3937453e-0bc0-4c69-8028-7ec0f409eb07"
      },
      "execution_count": 129,
      "outputs": [
        {
          "output_type": "display_data",
          "data": {
            "text/plain": [
              "<Figure size 432x288 with 1 Axes>"
            ],
            "image/png": "[encoded data removed]"
          },
          "metadata": {
            "needs_background": "light"
          }
        }
      ]
    },
    {
      "cell_type": "code",
      "source": [
        "plt.title('Accuracy')\n",
        "plt.plot(history.history['accuracy'], label='train')\n",
        "plt.plot(history.history['val_accuracy'], label='test')\n",
        "plt.legend()\n",
        "plt.show()"
      ],
      "metadata": {
        "colab": {
          "base_uri": "https://localhost:8080/",
          "height": 281
        },
        "id": "CsrmGY_i-07e",
        "outputId": "315254e7-d619-4a8f-c854-8682562c55e9"
      },
      "execution_count": 130,
      "outputs": [
        {
          "output_type": "display_data",
          "data": {
            "text/plain": [
              "<Figure size 432x288 with 1 Axes>"
            ],
            "image/png": "[encoded data removed]"
          },
          "metadata": {
            "needs_background": "light"
          }
        }
      ]
    },
    {
      "cell_type": "code",
      "source": [
        "threshold = 0.5\n",
        "\n",
        "result = model.predict(X_test, verbose=2)\n",
        "result = result > threshold\n",
        "result = result.astype(int)\n",
        "\n",
        "from sklearn.metrics import classification_report\n",
        "target_names = ['real','fake']\n",
        "print(classification_report(Y_test, result, target_names=target_names))\n",
        "\n",
        "   \n",
        "from sklearn.metrics import confusion_matrix\n",
        "cm = confusion_matrix(Y_test, result)\n",
        "cm_df = pd.DataFrame(cm,\n",
        "                     index = target_names, \n",
        "                     columns = target_names)\n",
        "cm_df"
      ],
      "metadata": {
        "colab": {
          "base_uri": "https://localhost:8080/",
          "height": 410
        },
        "id": "l6zjoylT-1a-",
        "outputId": "5240cfec-6439-4b23-ccd9-36d23c607324"
      },
      "execution_count": 132,
      "outputs": [
        {
          "output_type": "stream",
          "name": "stdout",
          "text": [
            "8/8 - 3s - 3s/epoch - 343ms/step\n",
            "              precision    recall  f1-score   support\n",
            "\n",
            "        real       0.89      1.00      0.94       215\n",
            "        fake       0.00      0.00      0.00        26\n",
            "\n",
            "    accuracy                           0.89       241\n",
            "   macro avg       0.45      0.50      0.47       241\n",
            "weighted avg       0.80      0.89      0.84       241\n",
            "\n"
          ]
        },
        {
          "output_type": "stream",
          "name": "stderr",
          "text": [
            "/usr/local/lib/python3.8/dist-packages/sklearn/metrics/_classification.py:1318: UndefinedMetricWarning: Precision and F-score are ill-defined and being set to 0.0 in labels with no predicted samples. Use `zero_division` parameter to control this behavior.\n",
            "  _warn_prf(average, modifier, msg_start, len(result))\n",
            "/usr/local/lib/python3.8/dist-packages/sklearn/metrics/_classification.py:1318: UndefinedMetricWarning: Precision and F-score are ill-defined and being set to 0.0 in labels with no predicted samples. Use `zero_division` parameter to control this behavior.\n",
            "  _warn_prf(average, modifier, msg_start, len(result))\n",
            "/usr/local/lib/python3.8/dist-packages/sklearn/metrics/_classification.py:1318: UndefinedMetricWarning: Precision and F-score are ill-defined and being set to 0.0 in labels with no predicted samples. Use `zero_division` parameter to control this behavior.\n",
            "  _warn_prf(average, modifier, msg_start, len(result))\n"
          ]
        },
        {
          "output_type": "execute_result",
          "data": {
            "text/plain": [
              "      real  fake\n",
              "real   215     0\n",
              "fake    26     0"
            ],
            "text/html": [
              "\n",
              "  <div id=\"df-76f21fd2-3831-4cd6-80ee-0d3c4ab04580\">\n",
              "    <div class=\"colab-df-container\">\n",
              "      <div>\n",
              "<style scoped>\n",
              "    .dataframe tbody tr th:only-of-type {\n",
              "        vertical-align: middle;\n",
              "    }\n",
              "\n",
              "    .dataframe tbody tr th {\n",
              "        vertical-align: top;\n",
              "    }\n",
              "\n",
              "    .dataframe thead th {\n",
              "        text-align: right;\n",
              "    }\n",
              "</style>\n",
              "<table border=\"1\" class=\"dataframe\">\n",
              "  <thead>\n",
              "    <tr style=\"text-align: right;\">\n",
              "      <th></th>\n",
              "      <th>real</th>\n",
              "      <th>fake</th>\n",
              "    </tr>\n",
              "  </thead>\n",
              "  <tbody>\n",
              "    <tr>\n",
              "      <th>real</th>\n",
              "      <td>215</td>\n",
              "      <td>0</td>\n",
              "    </tr>\n",
              "    <tr>\n",
              "      <th>fake</th>\n",
              "      <td>26</td>\n",
              "      <td>0</td>\n",
              "    </tr>\n",
              "  </tbody>\n",
              "</table>\n",
              "</div>\n",
              "      <button class=\"colab-df-convert\" onclick=\"convertToInteractive('df-76f21fd2-3831-4cd6-80ee-0d3c4ab04580')\"\n",
              "              title=\"Convert this dataframe to an interactive table.\"\n",
              "              style=\"display:none;\">\n",
              "        \n",
              "  <svg xmlns=\"http://www.w3.org/2000/svg\" height=\"24px\"viewBox=\"0 0 24 24\"\n",
              "       width=\"24px\">\n",
              "    <path d=\"M0 0h24v24H0V0z\" fill=\"none\"/>\n",
              "    <path d=\"M18.56 5.44l.94 2.06.94-2.06 2.06-.94-2.06-.94-.94-2.06-.94 2.06-2.06.94zm-11 1L8.5 8.5l.94-2.06 2.06-.94-2.06-.94L8.5 2.5l-.94 2.06-2.06.94zm10 10l.94 2.06.94-2.06 2.06-.94-2.06-.94-.94-2.06-.94 2.06-2.06.94z\"/><path d=\"M17.41 7.96l-1.37-1.37c-.4-.4-.92-.59-1.43-.59-.52 0-1.04.2-1.43.59L10.3 9.45l-7.72 7.72c-.78.78-.78 2.05 0 2.83L4 21.41c.39.39.9.59 1.41.59.51 0 1.02-.2 1.41-.59l7.78-7.78 2.81-2.81c.8-.78.8-2.07 0-2.86zM5.41 20L4 18.59l7.72-7.72 1.47 1.35L5.41 20z\"/>\n",
              "  </svg>\n",
              "      </button>\n",
              "      \n",
              "  <style>\n",
              "    .colab-df-container {\n",
              "      display:flex;\n",
              "      flex-wrap:wrap;\n",
              "      gap: 12px;\n",
              "    }\n",
              "\n",
              "    .colab-df-convert {\n",
              "      background-color: #E8F0FE;\n",
              "      border: none;\n",
              "      border-radius: 50%;\n",
              "      cursor: pointer;\n",
              "      display: none;\n",
              "      fill: #1967D2;\n",
              "      height: 32px;\n",
              "      padding: 0 0 0 0;\n",
              "      width: 32px;\n",
              "    }\n",
              "\n",
              "    .colab-df-convert:hover {\n",
              "      background-color: #E2EBFA;\n",
              "      box-shadow: 0px 1px 2px rgba(60, 64, 67, 0.3), 0px 1px 3px 1px rgba(60, 64, 67, 0.15);\n",
              "      fill: #174EA6;\n",
              "    }\n",
              "\n",
              "    [theme=dark] .colab-df-convert {\n",
              "      background-color: #3B4455;\n",
              "      fill: #D2E3FC;\n",
              "    }\n",
              "\n",
              "    [theme=dark] .colab-df-convert:hover {\n",
              "      background-color: #434B5C;\n",
              "      box-shadow: 0px 1px 3px 1px rgba(0, 0, 0, 0.15);\n",
              "      filter: drop-shadow(0px 1px 2px rgba(0, 0, 0, 0.3));\n",
              "      fill: #FFFFFF;\n",
              "    }\n",
              "  </style>\n",
              "\n",
              "      <script>\n",
              "        const buttonEl =\n",
              "          document.querySelector('#df-76f21fd2-3831-4cd6-80ee-0d3c4ab04580 button.colab-df-convert');\n",
              "        buttonEl.style.display =\n",
              "          google.colab.kernel.accessAllowed ? 'block' : 'none';\n",
              "\n",
              "        async function convertToInteractive(key) {\n",
              "          const element = document.querySelector('#df-76f21fd2-3831-4cd6-80ee-0d3c4ab04580');\n",
              "          const dataTable =\n",
              "            await google.colab.kernel.invokeFunction('convertToInteractive',\n",
              "                                                     [key], {});\n",
              "          if (!dataTable) return;\n",
              "\n",
              "          const docLinkHtml = 'Like what you see? Visit the ' +\n",
              "            '<a target=\"_blank\" href=https://colab.research.google.com/notebooks/data_table.ipynb>data table notebook</a>'\n",
              "            + ' to learn more about interactive tables.';\n",
              "          element.innerHTML = '';\n",
              "          dataTable['output_type'] = 'display_data';\n",
              "          await google.colab.output.renderOutput(dataTable, element);\n",
              "          const docLink = document.createElement('div');\n",
              "          docLink.innerHTML = docLinkHtml;\n",
              "          element.appendChild(docLink);\n",
              "        }\n",
              "      </script>\n",
              "    </div>\n",
              "  </div>\n",
              "  "
            ]
          },
          "metadata": {},
          "execution_count": 132
        }
      ]
    },
    {
      "cell_type": "code",
      "source": [],
      "metadata": {
        "id": "nThkog8d_QjO"
      },
      "execution_count": null,
      "outputs": []
    }
  ]
}