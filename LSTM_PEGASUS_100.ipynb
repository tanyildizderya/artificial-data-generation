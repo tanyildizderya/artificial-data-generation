{
  "nbformat": 4,
  "nbformat_minor": 0,
  "metadata": {
    "colab": {
      "provenance": [],
      "machine_shape": "hm"
    },
    "kernelspec": {
      "name": "python3",
      "display_name": "Python 3"
    },
    "language_info": {
      "name": "python"
    },
    "accelerator": "GPU",
    "gpuClass": "standard"
  },
  "cells": [
    {
      "cell_type": "code",
      "execution_count": 1,
      "metadata": {
        "id": "ydn-nBdN9T5m"
      },
      "outputs": [],
      "source": [
        "import numpy as np\n",
        "import pandas as pd\n",
        "from nltk.stem import WordNetLemmatizer\n",
        "from nltk.tokenize import word_tokenize\n",
        "from nltk.corpus import stopwords\n",
        "from tensorflow.keras.preprocessing.text import Tokenizer\n",
        "from tensorflow.keras.preprocessing.sequence import pad_sequences\n",
        "import re\n",
        "import string\n",
        "import tensorflow\n",
        "from tensorflow.keras import layers\n",
        "from keras.callbacks import EarlyStopping\n",
        "from sklearn.model_selection import train_test_split\n",
        "from sklearn.metrics import classification_report\n",
        "from sklearn.metrics import confusion_matrix\n",
        "import matplotlib.pyplot as plt\n",
        "from sklearn import metrics\n",
        "import os\n",
        "import pickle"
      ]
    },
    {
      "cell_type": "code",
      "source": [
        "import nltk\n",
        "nltk.download(\"wordnet\")\n",
        "nltk.download(\"stopwords\")\n",
        "nltk.download(\"punkt\")\n",
        "nltk.download(\"omw-1.4\")"
      ],
      "metadata": {
        "colab": {
          "base_uri": "https://localhost:8080/"
        },
        "id": "Cz39Y5MD9VTO",
        "outputId": "47682420-698c-4bbb-dc8a-16778593260c"
      },
      "execution_count": 2,
      "outputs": [
        {
          "output_type": "stream",
          "name": "stderr",
          "text": [
            "[nltk_data] Downloading package wordnet to /root/nltk_data...\n",
            "[nltk_data] Downloading package stopwords to /root/nltk_data...\n",
            "[nltk_data]   Unzipping corpora/stopwords.zip.\n",
            "[nltk_data] Downloading package punkt to /root/nltk_data...\n",
            "[nltk_data]   Unzipping tokenizers/punkt.zip.\n",
            "[nltk_data] Downloading package omw-1.4 to /root/nltk_data...\n"
          ]
        },
        {
          "output_type": "execute_result",
          "data": {
            "text/plain": [
              "True"
            ]
          },
          "metadata": {},
          "execution_count": 2
        }
      ]
    },
    {
      "cell_type": "code",
      "source": [
        "from google.colab import drive\n",
        "drive.mount('/content/drive')"
      ],
      "metadata": {
        "colab": {
          "base_uri": "https://localhost:8080/"
        },
        "id": "J3aOB25Q9XIv",
        "outputId": "39b7f25d-0ec7-4763-8fc5-e725e1950e41"
      },
      "execution_count": 3,
      "outputs": [
        {
          "output_type": "stream",
          "name": "stdout",
          "text": [
            "Mounted at /content/drive\n"
          ]
        }
      ]
    },
    {
      "cell_type": "markdown",
      "source": [
        " # PEGASUS"
      ],
      "metadata": {
        "id": "A836KFvcSRo5"
      }
    },
    {
      "cell_type": "markdown",
      "source": [
        "## SMS Spam Data"
      ],
      "metadata": {
        "id": "hnGevFfeI4or"
      }
    },
    {
      "cell_type": "code",
      "source": [
        "df = pd.read_csv(\"/content/drive/MyDrive/sms_v2.csv\")"
      ],
      "metadata": {
        "id": "CLXSwRzSIqvB"
      },
      "execution_count": 6,
      "outputs": []
    },
    {
      "cell_type": "code",
      "source": [
        "augmented_dataset = pd.read_csv(\"/content/drive/MyDrive/EnsembleLearningProject/pegasus/sms_aug_pegasus.csv\")"
      ],
      "metadata": {
        "id": "_5ho7pjDJFWR"
      },
      "execution_count": 4,
      "outputs": []
    },
    {
      "cell_type": "code",
      "source": [
        "augmented_dataset.columns"
      ],
      "metadata": {
        "colab": {
          "base_uri": "https://localhost:8080/"
        },
        "id": "AKd7fZzbE427",
        "outputId": "74ee18c2-ca61-479e-c417-1b163d4e79c1"
      },
      "execution_count": 9,
      "outputs": [
        {
          "output_type": "execute_result",
          "data": {
            "text/plain": [
              "Index(['true name is rofl', 'Non-Spam'], dtype='object')"
            ]
          },
          "metadata": {},
          "execution_count": 9
        }
      ]
    },
    {
      "cell_type": "code",
      "source": [
        "df.rename(columns={'Rofl. Its true to its name': 'Message', 'Non-Spam': 'Category'}, inplace=True)"
      ],
      "metadata": {
        "id": "cPlrpt4yzvtd"
      },
      "execution_count": 8,
      "outputs": []
    },
    {
      "cell_type": "code",
      "source": [
        "augmented_dataset.columns\n",
        "augmented_dataset.rename(columns={'true name is rofl': 'Message', 'Non-Spam': 'Category'}, inplace=True)"
      ],
      "metadata": {
        "id": "HPO_vzsEz21H"
      },
      "execution_count": 10,
      "outputs": []
    },
    {
      "cell_type": "code",
      "source": [
        "#BAŞTA\n",
        "df_top=pd.concat([augmented_dataset,df],ignore_index=True)\n",
        "df_top.count()\n",
        "\n",
        "#ORTADA\n",
        "df_mid = pd.concat([df.iloc[:250], augmented_dataset, df.iloc[250:]]).reset_index(drop=True)\n",
        "\n",
        "#SONDA\n",
        "df_tail =pd.concat([df,augmented_dataset],ignore_index=True)\n",
        "df_tail.count()\n"
      ],
      "metadata": {
        "colab": {
          "base_uri": "https://localhost:8080/"
        },
        "id": "hhgUFJbq9eC2",
        "outputId": "214de6b6-9da7-4d94-81b1-e648e5645ae4"
      },
      "execution_count": 11,
      "outputs": [
        {
          "output_type": "execute_result",
          "data": {
            "text/plain": [
              "Message     986\n",
              "Category    986\n",
              "dtype: int64"
            ]
          },
          "metadata": {},
          "execution_count": 11
        }
      ]
    },
    {
      "cell_type": "code",
      "source": [
        "df_top.drop_duplicates(inplace = True)\n",
        "df_mid.drop_duplicates(inplace = True)\n",
        "df_tail.drop_duplicates(inplace = True)"
      ],
      "metadata": {
        "id": "RU0UqDLGKP-A"
      },
      "execution_count": 12,
      "outputs": []
    },
    {
      "cell_type": "code",
      "source": [
        "df_top.rename(columns={'Text': 'Message', 'Non-Spam': 'Category'}, inplace=True)\n",
        "df_mid.rename(columns={'Text': 'Message', 'Non-Spam': 'Category'}, inplace=True)\n",
        "df_tail.rename(columns={'Text': 'Message', 'Non-Spam': 'Category'}, inplace=True)"
      ],
      "metadata": {
        "id": "Lgmfxky5L2b3"
      },
      "execution_count": 13,
      "outputs": []
    },
    {
      "cell_type": "code",
      "source": [
        "def preprocess(text):\n",
        "    text = text.lower()\n",
        "    text = re.sub(r'https?://\\S+|www.\\S+', '', text)\n",
        "    text = re.sub(r'<.*?>', '', text)\n",
        "    text = re.sub(r'[^a-zA-Z]+', ' ', text)\n",
        "    text = re.sub(r'[0-9]', '', text)\n",
        "    translator = str.maketrans(\"\", \"\", string.punctuation)\n",
        "    text = text.translate(translator)\n",
        "    words = word_tokenize(text)\n",
        "    words = [word for word in words if word not in stopwords.words(\"english\")]\n",
        "    lemmatizer = WordNetLemmatizer()\n",
        "    words = [lemmatizer.lemmatize(word) for word in words]\n",
        "    text = \" \".join(words)\n",
        "    return text"
      ],
      "metadata": {
        "id": "uLME7H2EKk85"
      },
      "execution_count": 14,
      "outputs": []
    },
    {
      "cell_type": "markdown",
      "source": [
        "### BAŞTA"
      ],
      "metadata": {
        "id": "WSp8NCBCO_D_"
      }
    },
    {
      "cell_type": "code",
      "source": [
        "df_top[\"Message\"] = df_top.Message.map(preprocess) "
      ],
      "metadata": {
        "id": "R7CTZEdmN-qW"
      },
      "execution_count": 15,
      "outputs": []
    },
    {
      "cell_type": "code",
      "source": [
        "maxSeq = len(df_top[\"Message\"][0])\n",
        "for i in range (0,len(df_top[\"Message\"])):\n",
        "  try:\n",
        "      cur = len(df_top[\"Message\"][i])\n",
        "      if (cur > maxSeq):\n",
        "          maxSeq = cur\n",
        "  except:\n",
        "      pass"
      ],
      "metadata": {
        "id": "4vHjc8QSOCyj"
      },
      "execution_count": 16,
      "outputs": []
    },
    {
      "cell_type": "code",
      "source": [
        "from collections import Counter\n",
        "\n",
        "def counter_word(text_col):\n",
        "    count = Counter()\n",
        "    for text in text_col.values:\n",
        "        for word in text.split():\n",
        "            count[word] += 1\n",
        "    return count\n",
        "\n",
        "counter = counter_word(df_top.Message)\n",
        "\n",
        "MAX_NB_WORDS = len(counter)\n",
        "MAX_SEQUENCE_LENGTH = maxSeq"
      ],
      "metadata": {
        "id": "UFLU6AnULnsm"
      },
      "execution_count": 17,
      "outputs": []
    },
    {
      "cell_type": "code",
      "source": [
        "EMBEDDING_DIM = 100\n",
        "tokenizer = Tokenizer(num_words=MAX_NB_WORDS)\n",
        "tokenizer.fit_on_texts(df_top['Message'].values)\n",
        "with open(\"tokenizer.pickle\", \"wb\") as handle:\n",
        "    pickle.dump(tokenizer, handle, protocol=pickle.HIGHEST_PROTOCOL)\n",
        "    "
      ],
      "metadata": {
        "id": "yS268JnlLpv1"
      },
      "execution_count": 18,
      "outputs": []
    },
    {
      "cell_type": "code",
      "source": [
        "X = tokenizer.texts_to_sequences(df_top['Message'].values)\n",
        "X = pad_sequences(X, maxlen=MAX_SEQUENCE_LENGTH)\n",
        "print('Shape of data tensor:', X.shape)"
      ],
      "metadata": {
        "colab": {
          "base_uri": "https://localhost:8080/"
        },
        "id": "ZR3WFtggLr-P",
        "outputId": "975c4f8c-ff56-4fe9-9872-92da535727cf"
      },
      "execution_count": 19,
      "outputs": [
        {
          "output_type": "stream",
          "name": "stdout",
          "text": [
            "Shape of data tensor: (976, 327)\n"
          ]
        }
      ]
    },
    {
      "cell_type": "code",
      "source": [
        "from sklearn import preprocessing\n",
        "labelencoder = preprocessing.LabelEncoder()\n",
        "df_top['Category'] = labelencoder.fit_transform(df_top['Category'])\n",
        "Y = df_top['Category'].values\n",
        "print('Shape of label tensor:', Y.shape)"
      ],
      "metadata": {
        "colab": {
          "base_uri": "https://localhost:8080/"
        },
        "id": "zfiWvFVhLt3n",
        "outputId": "04ec104d-605e-4cbe-88b4-d48898df8837"
      },
      "execution_count": 20,
      "outputs": [
        {
          "output_type": "stream",
          "name": "stdout",
          "text": [
            "Shape of label tensor: (976,)\n"
          ]
        }
      ]
    },
    {
      "cell_type": "code",
      "source": [
        "from sklearn.model_selection import train_test_split\n",
        "X_train, X_test, Y_train, Y_test = train_test_split(X,Y, test_size = 0.25, random_state = 42)\n",
        "print(X_train.shape,Y_train.shape)\n",
        "print(X_test.shape,Y_test.shape)"
      ],
      "metadata": {
        "colab": {
          "base_uri": "https://localhost:8080/"
        },
        "id": "fFqzLOwJLwE_",
        "outputId": "a527b901-604e-43c9-bff8-959d8baf0d9f"
      },
      "execution_count": 21,
      "outputs": [
        {
          "output_type": "stream",
          "name": "stdout",
          "text": [
            "(732, 327) (732,)\n",
            "(244, 327) (244,)\n"
          ]
        }
      ]
    },
    {
      "cell_type": "code",
      "source": [
        "import tensorflow \n",
        "from tensorflow.keras import layers\n",
        "from keras.callbacks import ModelCheckpoint, EarlyStopping"
      ],
      "metadata": {
        "id": "2o7mxiqeMFGJ"
      },
      "execution_count": 22,
      "outputs": []
    },
    {
      "cell_type": "code",
      "source": [
        "model = tensorflow.keras.models.Sequential()\n",
        "model.add(layers.Embedding(MAX_NB_WORDS, EMBEDDING_DIM, input_length=X.shape[1]))\n",
        "model.add(layers.LSTM(16))\n",
        "model.add(layers.Dense(1, activation='sigmoid'))\n",
        "model.compile(loss='binary_crossentropy', optimizer='adam', metrics=['accuracy'])\n",
        "\n",
        "epochs = 10\n",
        "batch_size = 128\n",
        "\n",
        "history = model.fit(X_train, Y_train, epochs=epochs, batch_size=batch_size,validation_split=0.2,callbacks=[EarlyStopping(monitor='val_loss', patience=3, min_delta=0.0001)])\n",
        "\n",
        "print(history.model.summary())"
      ],
      "metadata": {
        "colab": {
          "base_uri": "https://localhost:8080/"
        },
        "id": "c3tPBiLOMYP7",
        "outputId": "ea3a54d5-27c5-4bb1-aea5-682bf3faa2c3"
      },
      "execution_count": 23,
      "outputs": [
        {
          "output_type": "stream",
          "name": "stdout",
          "text": [
            "Epoch 1/10\n",
            "5/5 [==============================] - 7s 140ms/step - loss: 0.6877 - accuracy: 0.6291 - val_loss: 0.6673 - val_accuracy: 0.8844\n",
            "Epoch 2/10\n",
            "5/5 [==============================] - 0s 29ms/step - loss: 0.6496 - accuracy: 0.9248 - val_loss: 0.6333 - val_accuracy: 0.8844\n",
            "Epoch 3/10\n",
            "5/5 [==============================] - 0s 29ms/step - loss: 0.6081 - accuracy: 0.9282 - val_loss: 0.5925 - val_accuracy: 0.8776\n",
            "Epoch 4/10\n",
            "5/5 [==============================] - 0s 25ms/step - loss: 0.5566 - accuracy: 0.9299 - val_loss: 0.5394 - val_accuracy: 0.8776\n",
            "Epoch 5/10\n",
            "5/5 [==============================] - 0s 24ms/step - loss: 0.4892 - accuracy: 0.9282 - val_loss: 0.4689 - val_accuracy: 0.8776\n",
            "Epoch 6/10\n",
            "5/5 [==============================] - 0s 20ms/step - loss: 0.4029 - accuracy: 0.9265 - val_loss: 0.3848 - val_accuracy: 0.8707\n",
            "Epoch 7/10\n",
            "5/5 [==============================] - 0s 21ms/step - loss: 0.3090 - accuracy: 0.9231 - val_loss: 0.3151 - val_accuracy: 0.8707\n",
            "Epoch 8/10\n",
            "5/5 [==============================] - 0s 21ms/step - loss: 0.2375 - accuracy: 0.9179 - val_loss: 0.2839 - val_accuracy: 0.8707\n",
            "Epoch 9/10\n",
            "5/5 [==============================] - 0s 21ms/step - loss: 0.2030 - accuracy: 0.9179 - val_loss: 0.2746 - val_accuracy: 0.8707\n",
            "Epoch 10/10\n",
            "5/5 [==============================] - 0s 21ms/step - loss: 0.1823 - accuracy: 0.9282 - val_loss: 0.2557 - val_accuracy: 0.8776\n",
            "Model: \"sequential\"\n",
            "_________________________________________________________________\n",
            " Layer (type)                Output Shape              Param #   \n",
            "=================================================================\n",
            " embedding (Embedding)       (None, 327, 100)          181500    \n",
            "                                                                 \n",
            " lstm (LSTM)                 (None, 16)                7488      \n",
            "                                                                 \n",
            " dense (Dense)               (None, 1)                 17        \n",
            "                                                                 \n",
            "=================================================================\n",
            "Total params: 189,005\n",
            "Trainable params: 189,005\n",
            "Non-trainable params: 0\n",
            "_________________________________________________________________\n",
            "None\n"
          ]
        }
      ]
    },
    {
      "cell_type": "code",
      "source": [
        "plt.title('Loss')\n",
        "plt.plot(history.history['loss'], label='train')\n",
        "plt.plot(history.history['val_loss'], label='test')\n",
        "plt.legend()\n",
        "plt.show()\n"
      ],
      "metadata": {
        "colab": {
          "base_uri": "https://localhost:8080/",
          "height": 0
        },
        "id": "srZEjrtYMeYu",
        "outputId": "8a8d064c-754a-436a-a081-b870cc7101e8"
      },
      "execution_count": 24,
      "outputs": [
        {
          "output_type": "display_data",
          "data": {
            "text/plain": [
              "<Figure size 432x288 with 1 Axes>"
            ],
            "image/png": "[encoded data removed]"
          },
          "metadata": {
            "needs_background": "light"
          }
        }
      ]
    },
    {
      "cell_type": "code",
      "source": [
        "plt.title('Accuracy')\n",
        "plt.plot(history.history['accuracy'], label='train')\n",
        "plt.plot(history.history['val_accuracy'], label='test')\n",
        "plt.legend()\n",
        "plt.show()\n"
      ],
      "metadata": {
        "colab": {
          "base_uri": "https://localhost:8080/",
          "height": 0
        },
        "id": "qCz4Fc8GMoZj",
        "outputId": "052a6370-3496-4f69-bfc9-4d82808241fd"
      },
      "execution_count": 25,
      "outputs": [
        {
          "output_type": "display_data",
          "data": {
            "text/plain": [
              "<Figure size 432x288 with 1 Axes>"
            ],
            "image/png": "[encoded data removed]"
          },
          "metadata": {
            "needs_background": "light"
          }
        }
      ]
    },
    {
      "cell_type": "code",
      "source": [
        "threshold = 0.5\n",
        "\n",
        "result = model.predict(X_test, verbose=2)\n",
        "result = result > threshold\n",
        "result = result.astype(int)\n"
      ],
      "metadata": {
        "colab": {
          "base_uri": "https://localhost:8080/"
        },
        "id": "v52GVOpJMqot",
        "outputId": "09cc2612-bf8d-4eb8-82ec-389fef96f436"
      },
      "execution_count": 26,
      "outputs": [
        {
          "output_type": "stream",
          "name": "stdout",
          "text": [
            "8/8 - 0s - 412ms/epoch - 52ms/step\n"
          ]
        }
      ]
    },
    {
      "cell_type": "code",
      "source": [
        "from sklearn.metrics import classification_report\n",
        "target_names = ['not spam','spam']\n",
        "print(classification_report(Y_test, result, target_names=target_names))"
      ],
      "metadata": {
        "colab": {
          "base_uri": "https://localhost:8080/"
        },
        "id": "90kGEIWzMsL3",
        "outputId": "a3238991-2aad-4b82-c7cf-37f6b6b2b5e2"
      },
      "execution_count": 27,
      "outputs": [
        {
          "output_type": "stream",
          "name": "stdout",
          "text": [
            "              precision    recall  f1-score   support\n",
            "\n",
            "    not spam       0.88      1.00      0.94       211\n",
            "        spam       1.00      0.12      0.22        33\n",
            "\n",
            "    accuracy                           0.88       244\n",
            "   macro avg       0.94      0.56      0.58       244\n",
            "weighted avg       0.90      0.88      0.84       244\n",
            "\n"
          ]
        }
      ]
    },
    {
      "cell_type": "code",
      "source": [
        "from sklearn.metrics import confusion_matrix\n",
        "cm = confusion_matrix(Y_test, result)\n",
        "cm_df = pd.DataFrame(cm,\n",
        "                     index = target_names, \n",
        "                     columns = target_names)\n",
        "cm_df"
      ],
      "metadata": {
        "colab": {
          "base_uri": "https://localhost:8080/",
          "height": 0
        },
        "id": "ff76BfdMMxZ2",
        "outputId": "091de832-9568-4589-aed8-4747b84a9bba"
      },
      "execution_count": 28,
      "outputs": [
        {
          "output_type": "execute_result",
          "data": {
            "text/plain": [
              "          not spam  spam\n",
              "not spam       211     0\n",
              "spam            29     4"
            ],
            "text/html": [
              "\n",
              "  <div id=\"df-246b6f85-6d61-4803-8f54-d68e07c6f7d5\">\n",
              "    <div class=\"colab-df-container\">\n",
              "      <div>\n",
              "<style scoped>\n",
              "    .dataframe tbody tr th:only-of-type {\n",
              "        vertical-align: middle;\n",
              "    }\n",
              "\n",
              "    .dataframe tbody tr th {\n",
              "        vertical-align: top;\n",
              "    }\n",
              "\n",
              "    .dataframe thead th {\n",
              "        text-align: right;\n",
              "    }\n",
              "</style>\n",
              "<table border=\"1\" class=\"dataframe\">\n",
              "  <thead>\n",
              "    <tr style=\"text-align: right;\">\n",
              "      <th></th>\n",
              "      <th>not spam</th>\n",
              "      <th>spam</th>\n",
              "    </tr>\n",
              "  </thead>\n",
              "  <tbody>\n",
              "    <tr>\n",
              "      <th>not spam</th>\n",
              "      <td>211</td>\n",
              "      <td>0</td>\n",
              "    </tr>\n",
              "    <tr>\n",
              "      <th>spam</th>\n",
              "      <td>29</td>\n",
              "      <td>4</td>\n",
              "    </tr>\n",
              "  </tbody>\n",
              "</table>\n",
              "</div>\n",
              "      <button class=\"colab-df-convert\" onclick=\"convertToInteractive('df-246b6f85-6d61-4803-8f54-d68e07c6f7d5')\"\n",
              "              title=\"Convert this dataframe to an interactive table.\"\n",
              "              style=\"display:none;\">\n",
              "        \n",
              "  <svg xmlns=\"http://www.w3.org/2000/svg\" height=\"24px\"viewBox=\"0 0 24 24\"\n",
              "       width=\"24px\">\n",
              "    <path d=\"M0 0h24v24H0V0z\" fill=\"none\"/>\n",
              "    <path d=\"M18.56 5.44l.94 2.06.94-2.06 2.06-.94-2.06-.94-.94-2.06-.94 2.06-2.06.94zm-11 1L8.5 8.5l.94-2.06 2.06-.94-2.06-.94L8.5 2.5l-.94 2.06-2.06.94zm10 10l.94 2.06.94-2.06 2.06-.94-2.06-.94-.94-2.06-.94 2.06-2.06.94z\"/><path d=\"M17.41 7.96l-1.37-1.37c-.4-.4-.92-.59-1.43-.59-.52 0-1.04.2-1.43.59L10.3 9.45l-7.72 7.72c-.78.78-.78 2.05 0 2.83L4 21.41c.39.39.9.59 1.41.59.51 0 1.02-.2 1.41-.59l7.78-7.78 2.81-2.81c.8-.78.8-2.07 0-2.86zM5.41 20L4 18.59l7.72-7.72 1.47 1.35L5.41 20z\"/>\n",
              "  </svg>\n",
              "      </button>\n",
              "      \n",
              "  <style>\n",
              "    .colab-df-container {\n",
              "      display:flex;\n",
              "      flex-wrap:wrap;\n",
              "      gap: 12px;\n",
              "    }\n",
              "\n",
              "    .colab-df-convert {\n",
              "      background-color: #E8F0FE;\n",
              "      border: none;\n",
              "      border-radius: 50%;\n",
              "      cursor: pointer;\n",
              "      display: none;\n",
              "      fill: #1967D2;\n",
              "      height: 32px;\n",
              "      padding: 0 0 0 0;\n",
              "      width: 32px;\n",
              "    }\n",
              "\n",
              "    .colab-df-convert:hover {\n",
              "      background-color: #E2EBFA;\n",
              "      box-shadow: 0px 1px 2px rgba(60, 64, 67, 0.3), 0px 1px 3px 1px rgba(60, 64, 67, 0.15);\n",
              "      fill: #174EA6;\n",
              "    }\n",
              "\n",
              "    [theme=dark] .colab-df-convert {\n",
              "      background-color: #3B4455;\n",
              "      fill: #D2E3FC;\n",
              "    }\n",
              "\n",
              "    [theme=dark] .colab-df-convert:hover {\n",
              "      background-color: #434B5C;\n",
              "      box-shadow: 0px 1px 3px 1px rgba(0, 0, 0, 0.15);\n",
              "      filter: drop-shadow(0px 1px 2px rgba(0, 0, 0, 0.3));\n",
              "      fill: #FFFFFF;\n",
              "    }\n",
              "  </style>\n",
              "\n",
              "      <script>\n",
              "        const buttonEl =\n",
              "          document.querySelector('#df-246b6f85-6d61-4803-8f54-d68e07c6f7d5 button.colab-df-convert');\n",
              "        buttonEl.style.display =\n",
              "          google.colab.kernel.accessAllowed ? 'block' : 'none';\n",
              "\n",
              "        async function convertToInteractive(key) {\n",
              "          const element = document.querySelector('#df-246b6f85-6d61-4803-8f54-d68e07c6f7d5');\n",
              "          const dataTable =\n",
              "            await google.colab.kernel.invokeFunction('convertToInteractive',\n",
              "                                                     [key], {});\n",
              "          if (!dataTable) return;\n",
              "\n",
              "          const docLinkHtml = 'Like what you see? Visit the ' +\n",
              "            '<a target=\"_blank\" href=https://colab.research.google.com/notebooks/data_table.ipynb>data table notebook</a>'\n",
              "            + ' to learn more about interactive tables.';\n",
              "          element.innerHTML = '';\n",
              "          dataTable['output_type'] = 'display_data';\n",
              "          await google.colab.output.renderOutput(dataTable, element);\n",
              "          const docLink = document.createElement('div');\n",
              "          docLink.innerHTML = docLinkHtml;\n",
              "          element.appendChild(docLink);\n",
              "        }\n",
              "      </script>\n",
              "    </div>\n",
              "  </div>\n",
              "  "
            ]
          },
          "metadata": {},
          "execution_count": 28
        }
      ]
    },
    {
      "cell_type": "markdown",
      "source": [
        "### ORTADA"
      ],
      "metadata": {
        "id": "Ej-yxcpFPBX9"
      }
    },
    {
      "cell_type": "code",
      "source": [
        "df_mid[\"Message\"] = df_mid.Message.map(preprocess) \n",
        "maxSeq = len(df_mid[\"Message\"][0])\n",
        "for i in range (0,len(df_mid[\"Message\"])):\n",
        "  try:\n",
        "      cur = len(df_mid[\"Message\"][i])\n",
        "      if (cur > maxSeq):\n",
        "          maxSeq = cur\n",
        "  except:\n",
        "      pass"
      ],
      "metadata": {
        "id": "pFuyrGcBM1vy"
      },
      "execution_count": 29,
      "outputs": []
    },
    {
      "cell_type": "code",
      "source": [
        "from collections import Counter\n",
        "\n",
        "def counter_word(text_col):\n",
        "    count = Counter()\n",
        "    for text in text_col.values:\n",
        "        for word in text.split():\n",
        "            count[word] += 1\n",
        "    return count\n",
        "\n",
        "counter = counter_word(df_mid.Message)\n",
        "\n",
        "MAX_NB_WORDS = len(counter)\n",
        "MAX_SEQUENCE_LENGTH = maxSeq\n",
        "\n",
        "EMBEDDING_DIM = 100\n",
        "tokenizer = Tokenizer(num_words=MAX_NB_WORDS)\n",
        "tokenizer.fit_on_texts(df_mid['Message'].values)\n",
        "with open(\"tokenizer.pickle\", \"wb\") as handle:\n",
        "    pickle.dump(tokenizer, handle, protocol=pickle.HIGHEST_PROTOCOL)\n",
        "\n",
        "X = tokenizer.texts_to_sequences(df_mid['Message'].values)\n",
        "X = pad_sequences(X, maxlen=MAX_SEQUENCE_LENGTH)\n",
        "print('Shape of data tensor:', X.shape)"
      ],
      "metadata": {
        "colab": {
          "base_uri": "https://localhost:8080/"
        },
        "id": "FM6mMuRBPIOM",
        "outputId": "a0177ef4-3e5f-4a3d-b794-e7c60d001714"
      },
      "execution_count": 30,
      "outputs": [
        {
          "output_type": "stream",
          "name": "stdout",
          "text": [
            "Shape of data tensor: (976, 327)\n"
          ]
        }
      ]
    },
    {
      "cell_type": "code",
      "source": [
        "from sklearn import preprocessing\n",
        "labelencoder = preprocessing.LabelEncoder()\n",
        "df_mid['Category'] = labelencoder.fit_transform(df_mid['Category'])\n",
        "Y = df_mid['Category'].values\n",
        "print('Shape of label tensor:', Y.shape)\n"
      ],
      "metadata": {
        "colab": {
          "base_uri": "https://localhost:8080/"
        },
        "id": "uzJ4IZPvPWBz",
        "outputId": "d6f14e54-5b46-452f-b9c4-4e3ad0cb5f0d"
      },
      "execution_count": 31,
      "outputs": [
        {
          "output_type": "stream",
          "name": "stdout",
          "text": [
            "Shape of label tensor: (976,)\n"
          ]
        }
      ]
    },
    {
      "cell_type": "code",
      "source": [
        "from sklearn.model_selection import train_test_split\n",
        "X_train, X_test, Y_train, Y_test = train_test_split(X,Y, test_size = 0.25, random_state = 42)\n",
        "print(X_train.shape,Y_train.shape)\n",
        "print(X_test.shape,Y_test.shape)"
      ],
      "metadata": {
        "colab": {
          "base_uri": "https://localhost:8080/"
        },
        "id": "J8AViAszPaPa",
        "outputId": "7ccce65e-ceab-4a62-c2a8-ad7f28d76247"
      },
      "execution_count": 32,
      "outputs": [
        {
          "output_type": "stream",
          "name": "stdout",
          "text": [
            "(732, 327) (732,)\n",
            "(244, 327) (244,)\n"
          ]
        }
      ]
    },
    {
      "cell_type": "code",
      "source": [
        "import tensorflow \n",
        "from tensorflow.keras import layers\n",
        "from keras.callbacks import ModelCheckpoint, EarlyStopping\n",
        "\n",
        "\n",
        "model = tensorflow.keras.models.Sequential()\n",
        "model.add(layers.Embedding(MAX_NB_WORDS, EMBEDDING_DIM, input_length=X.shape[1]))\n",
        "model.add(layers.LSTM(32))\n",
        "model.add(layers.Dense(1, activation='sigmoid'))\n",
        "model.compile(loss='binary_crossentropy', optimizer='adam', metrics=['accuracy'])\n",
        "\n",
        "epochs = 10\n",
        "batch_size = 128\n",
        "\n",
        "history = model.fit(X_train, Y_train, epochs=epochs, batch_size=batch_size,validation_split=0.2,callbacks=[EarlyStopping(monitor='val_loss', patience=3, min_delta=0.0001)])\n",
        "\n",
        "print(history.model.summary())\n"
      ],
      "metadata": {
        "colab": {
          "base_uri": "https://localhost:8080/"
        },
        "id": "nRVDq7GmPdx5",
        "outputId": "2a310f14-36b6-44d0-9cb9-9a169c6c8a73"
      },
      "execution_count": 33,
      "outputs": [
        {
          "output_type": "stream",
          "name": "stdout",
          "text": [
            "Epoch 1/10\n",
            "5/5 [==============================] - 2s 133ms/step - loss: 0.6767 - accuracy: 0.7624 - val_loss: 0.6376 - val_accuracy: 0.8980\n",
            "Epoch 2/10\n",
            "5/5 [==============================] - 0s 29ms/step - loss: 0.6133 - accuracy: 0.8803 - val_loss: 0.5598 - val_accuracy: 0.8980\n",
            "Epoch 3/10\n",
            "5/5 [==============================] - 0s 25ms/step - loss: 0.5244 - accuracy: 0.8786 - val_loss: 0.4386 - val_accuracy: 0.8980\n",
            "Epoch 4/10\n",
            "5/5 [==============================] - 0s 23ms/step - loss: 0.3948 - accuracy: 0.8786 - val_loss: 0.3089 - val_accuracy: 0.8980\n",
            "Epoch 5/10\n",
            "5/5 [==============================] - 0s 22ms/step - loss: 0.3139 - accuracy: 0.8786 - val_loss: 0.2835 - val_accuracy: 0.8980\n",
            "Epoch 6/10\n",
            "5/5 [==============================] - 0s 23ms/step - loss: 0.3027 - accuracy: 0.8786 - val_loss: 0.2672 - val_accuracy: 0.8980\n",
            "Epoch 7/10\n",
            "5/5 [==============================] - 0s 23ms/step - loss: 0.2678 - accuracy: 0.8821 - val_loss: 0.2387 - val_accuracy: 0.8980\n",
            "Epoch 8/10\n",
            "5/5 [==============================] - 0s 24ms/step - loss: 0.2296 - accuracy: 0.9094 - val_loss: 0.2188 - val_accuracy: 0.9184\n",
            "Epoch 9/10\n",
            "5/5 [==============================] - 0s 24ms/step - loss: 0.2030 - accuracy: 0.9265 - val_loss: 0.1979 - val_accuracy: 0.9252\n",
            "Epoch 10/10\n",
            "5/5 [==============================] - 0s 23ms/step - loss: 0.1746 - accuracy: 0.9385 - val_loss: 0.1716 - val_accuracy: 0.9388\n",
            "Model: \"sequential_1\"\n",
            "_________________________________________________________________\n",
            " Layer (type)                Output Shape              Param #   \n",
            "=================================================================\n",
            " embedding_1 (Embedding)     (None, 327, 100)          181500    \n",
            "                                                                 \n",
            " lstm_1 (LSTM)               (None, 32)                17024     \n",
            "                                                                 \n",
            " dense_1 (Dense)             (None, 1)                 33        \n",
            "                                                                 \n",
            "=================================================================\n",
            "Total params: 198,557\n",
            "Trainable params: 198,557\n",
            "Non-trainable params: 0\n",
            "_________________________________________________________________\n",
            "None\n"
          ]
        }
      ]
    },
    {
      "cell_type": "code",
      "source": [
        "plt.title('Loss')\n",
        "plt.plot(history.history['loss'], label='train')\n",
        "plt.plot(history.history['val_loss'], label='test')\n",
        "plt.legend()\n",
        "plt.show()"
      ],
      "metadata": {
        "colab": {
          "base_uri": "https://localhost:8080/",
          "height": 0
        },
        "id": "6n2HVPElPh3O",
        "outputId": "4aeb68df-3a91-4f93-cc64-afba9e39ff2e"
      },
      "execution_count": 34,
      "outputs": [
        {
          "output_type": "display_data",
          "data": {
            "text/plain": [
              "<Figure size 432x288 with 1 Axes>"
            ],
            "image/png": "[encoded data removed]"
          },
          "metadata": {
            "needs_background": "light"
          }
        }
      ]
    },
    {
      "cell_type": "code",
      "source": [
        "plt.title('Accuracy')\n",
        "plt.plot(history.history['accuracy'], label='train')\n",
        "plt.plot(history.history['val_accuracy'], label='test')\n",
        "plt.legend()\n",
        "plt.show()"
      ],
      "metadata": {
        "colab": {
          "base_uri": "https://localhost:8080/",
          "height": 0
        },
        "id": "IBEC195sPoNf",
        "outputId": "bba1a47f-672a-41df-99bc-2a2aa6954f69"
      },
      "execution_count": 35,
      "outputs": [
        {
          "output_type": "display_data",
          "data": {
            "text/plain": [
              "<Figure size 432x288 with 1 Axes>"
            ],
            "image/png": "[encoded data removed]"
          },
          "metadata": {
            "needs_background": "light"
          }
        }
      ]
    },
    {
      "cell_type": "code",
      "source": [
        "threshold = 0.5\n",
        "\n",
        "result = model.predict(X_test, verbose=2)\n",
        "result = result > threshold\n",
        "result = result.astype(int)"
      ],
      "metadata": {
        "colab": {
          "base_uri": "https://localhost:8080/"
        },
        "id": "NuqhiyqtPq6m",
        "outputId": "4f74d534-4460-434f-90ae-d83602008cc8"
      },
      "execution_count": 36,
      "outputs": [
        {
          "output_type": "stream",
          "name": "stdout",
          "text": [
            "8/8 - 0s - 411ms/epoch - 51ms/step\n"
          ]
        }
      ]
    },
    {
      "cell_type": "code",
      "source": [
        "from sklearn.metrics import classification_report\n",
        "target_names = ['not spam','spam']\n",
        "print(classification_report(Y_test, result, target_names=target_names))\n",
        "\n",
        "from sklearn.metrics import confusion_matrix\n",
        "cm = confusion_matrix(Y_test, result)\n",
        "cm_df = pd.DataFrame(cm,\n",
        "                     index = target_names, \n",
        "                     columns = target_names)\n",
        "cm_df\n"
      ],
      "metadata": {
        "colab": {
          "base_uri": "https://localhost:8080/",
          "height": 0
        },
        "id": "aGqWCJnoPs0_",
        "outputId": "3fdcf07d-0831-4ab2-9d42-99e7e3b320cb"
      },
      "execution_count": 37,
      "outputs": [
        {
          "output_type": "stream",
          "name": "stdout",
          "text": [
            "              precision    recall  f1-score   support\n",
            "\n",
            "    not spam       0.93      1.00      0.96       215\n",
            "        spam       1.00      0.41      0.59        29\n",
            "\n",
            "    accuracy                           0.93       244\n",
            "   macro avg       0.96      0.71      0.77       244\n",
            "weighted avg       0.94      0.93      0.92       244\n",
            "\n"
          ]
        },
        {
          "output_type": "execute_result",
          "data": {
            "text/plain": [
              "          not spam  spam\n",
              "not spam       215     0\n",
              "spam            17    12"
            ],
            "text/html": [
              "\n",
              "  <div id=\"df-30ef1c59-c690-4357-9917-d304af5ffd4b\">\n",
              "    <div class=\"colab-df-container\">\n",
              "      <div>\n",
              "<style scoped>\n",
              "    .dataframe tbody tr th:only-of-type {\n",
              "        vertical-align: middle;\n",
              "    }\n",
              "\n",
              "    .dataframe tbody tr th {\n",
              "        vertical-align: top;\n",
              "    }\n",
              "\n",
              "    .dataframe thead th {\n",
              "        text-align: right;\n",
              "    }\n",
              "</style>\n",
              "<table border=\"1\" class=\"dataframe\">\n",
              "  <thead>\n",
              "    <tr style=\"text-align: right;\">\n",
              "      <th></th>\n",
              "      <th>not spam</th>\n",
              "      <th>spam</th>\n",
              "    </tr>\n",
              "  </thead>\n",
              "  <tbody>\n",
              "    <tr>\n",
              "      <th>not spam</th>\n",
              "      <td>215</td>\n",
              "      <td>0</td>\n",
              "    </tr>\n",
              "    <tr>\n",
              "      <th>spam</th>\n",
              "      <td>17</td>\n",
              "      <td>12</td>\n",
              "    </tr>\n",
              "  </tbody>\n",
              "</table>\n",
              "</div>\n",
              "      <button class=\"colab-df-convert\" onclick=\"convertToInteractive('df-30ef1c59-c690-4357-9917-d304af5ffd4b')\"\n",
              "              title=\"Convert this dataframe to an interactive table.\"\n",
              "              style=\"display:none;\">\n",
              "        \n",
              "  <svg xmlns=\"http://www.w3.org/2000/svg\" height=\"24px\"viewBox=\"0 0 24 24\"\n",
              "       width=\"24px\">\n",
              "    <path d=\"M0 0h24v24H0V0z\" fill=\"none\"/>\n",
              "    <path d=\"M18.56 5.44l.94 2.06.94-2.06 2.06-.94-2.06-.94-.94-2.06-.94 2.06-2.06.94zm-11 1L8.5 8.5l.94-2.06 2.06-.94-2.06-.94L8.5 2.5l-.94 2.06-2.06.94zm10 10l.94 2.06.94-2.06 2.06-.94-2.06-.94-.94-2.06-.94 2.06-2.06.94z\"/><path d=\"M17.41 7.96l-1.37-1.37c-.4-.4-.92-.59-1.43-.59-.52 0-1.04.2-1.43.59L10.3 9.45l-7.72 7.72c-.78.78-.78 2.05 0 2.83L4 21.41c.39.39.9.59 1.41.59.51 0 1.02-.2 1.41-.59l7.78-7.78 2.81-2.81c.8-.78.8-2.07 0-2.86zM5.41 20L4 18.59l7.72-7.72 1.47 1.35L5.41 20z\"/>\n",
              "  </svg>\n",
              "      </button>\n",
              "      \n",
              "  <style>\n",
              "    .colab-df-container {\n",
              "      display:flex;\n",
              "      flex-wrap:wrap;\n",
              "      gap: 12px;\n",
              "    }\n",
              "\n",
              "    .colab-df-convert {\n",
              "      background-color: #E8F0FE;\n",
              "      border: none;\n",
              "      border-radius: 50%;\n",
              "      cursor: pointer;\n",
              "      display: none;\n",
              "      fill: #1967D2;\n",
              "      height: 32px;\n",
              "      padding: 0 0 0 0;\n",
              "      width: 32px;\n",
              "    }\n",
              "\n",
              "    .colab-df-convert:hover {\n",
              "      background-color: #E2EBFA;\n",
              "      box-shadow: 0px 1px 2px rgba(60, 64, 67, 0.3), 0px 1px 3px 1px rgba(60, 64, 67, 0.15);\n",
              "      fill: #174EA6;\n",
              "    }\n",
              "\n",
              "    [theme=dark] .colab-df-convert {\n",
              "      background-color: #3B4455;\n",
              "      fill: #D2E3FC;\n",
              "    }\n",
              "\n",
              "    [theme=dark] .colab-df-convert:hover {\n",
              "      background-color: #434B5C;\n",
              "      box-shadow: 0px 1px 3px 1px rgba(0, 0, 0, 0.15);\n",
              "      filter: drop-shadow(0px 1px 2px rgba(0, 0, 0, 0.3));\n",
              "      fill: #FFFFFF;\n",
              "    }\n",
              "  </style>\n",
              "\n",
              "      <script>\n",
              "        const buttonEl =\n",
              "          document.querySelector('#df-30ef1c59-c690-4357-9917-d304af5ffd4b button.colab-df-convert');\n",
              "        buttonEl.style.display =\n",
              "          google.colab.kernel.accessAllowed ? 'block' : 'none';\n",
              "\n",
              "        async function convertToInteractive(key) {\n",
              "          const element = document.querySelector('#df-30ef1c59-c690-4357-9917-d304af5ffd4b');\n",
              "          const dataTable =\n",
              "            await google.colab.kernel.invokeFunction('convertToInteractive',\n",
              "                                                     [key], {});\n",
              "          if (!dataTable) return;\n",
              "\n",
              "          const docLinkHtml = 'Like what you see? Visit the ' +\n",
              "            '<a target=\"_blank\" href=https://colab.research.google.com/notebooks/data_table.ipynb>data table notebook</a>'\n",
              "            + ' to learn more about interactive tables.';\n",
              "          element.innerHTML = '';\n",
              "          dataTable['output_type'] = 'display_data';\n",
              "          await google.colab.output.renderOutput(dataTable, element);\n",
              "          const docLink = document.createElement('div');\n",
              "          docLink.innerHTML = docLinkHtml;\n",
              "          element.appendChild(docLink);\n",
              "        }\n",
              "      </script>\n",
              "    </div>\n",
              "  </div>\n",
              "  "
            ]
          },
          "metadata": {},
          "execution_count": 37
        }
      ]
    },
    {
      "cell_type": "markdown",
      "source": [
        "### SONDA"
      ],
      "metadata": {
        "id": "kbyNDym5QvAq"
      }
    },
    {
      "cell_type": "code",
      "source": [
        "df_tail[\"Message\"] = df_tail.Message.map(preprocess) \n",
        "\n",
        "maxSeq = len(df_tail[\"Message\"][0])\n",
        "for i in range (0,len(df_tail[\"Message\"])):\n",
        "    try:\n",
        "        cur = len(df_tail[\"Message\"][i])\n",
        "        if (cur > maxSeq):\n",
        "            maxSeq = cur\n",
        "    except:\n",
        "        pass\n",
        "      \n",
        "from collections import Counter\n",
        "\n",
        "def counter_word(text_col):\n",
        "    count = Counter()\n",
        "    for text in text_col.values:\n",
        "        for word in text.split():\n",
        "            count[word] += 1\n",
        "    return count\n",
        "\n",
        "counter = counter_word(df_tail.Message)\n",
        "\n",
        "MAX_NB_WORDS = len(counter)\n",
        "MAX_SEQUENCE_LENGTH = maxSeq\n",
        "\n",
        "#ÖN İŞLEME-5\n",
        "EMBEDDING_DIM = 100\n",
        "tokenizer = Tokenizer(num_words=MAX_NB_WORDS)\n",
        "tokenizer.fit_on_texts(df_tail['Message'].values)\n",
        "with open(\"tokenizer.pickle\", \"wb\") as handle:\n",
        "    pickle.dump(tokenizer, handle, protocol=pickle.HIGHEST_PROTOCOL)\n",
        "    \n",
        "#ÖN İŞLEME-6    \n",
        "X = tokenizer.texts_to_sequences(df_tail['Message'].values)\n",
        "X = pad_sequences(X, maxlen=MAX_SEQUENCE_LENGTH)\n",
        "print('Shape of data tensor:', X.shape)\n",
        "\n",
        "#ÖN İŞLEME-7\n",
        "from sklearn import preprocessing\n",
        "labelencoder = preprocessing.LabelEncoder()\n",
        "df_tail['Category'] = labelencoder.fit_transform(df_tail['Category'])\n",
        "Y = df_tail['Category'].values\n",
        "print('Shape of label tensor:', Y.shape)\n"
      ],
      "metadata": {
        "colab": {
          "base_uri": "https://localhost:8080/"
        },
        "id": "XJlQsuOWPt24",
        "outputId": "dcfe8eff-238f-4219-a691-8e33864b0980"
      },
      "execution_count": 38,
      "outputs": [
        {
          "output_type": "stream",
          "name": "stdout",
          "text": [
            "Shape of data tensor: (976, 327)\n",
            "Shape of label tensor: (976,)\n"
          ]
        }
      ]
    },
    {
      "cell_type": "code",
      "source": [
        "from sklearn.model_selection import train_test_split\n",
        "X_train, X_test, Y_train, Y_test = train_test_split(X,Y, test_size = 0.25, random_state = 42)\n",
        "print(X_train.shape,Y_train.shape)\n",
        "print(X_test.shape,Y_test.shape)"
      ],
      "metadata": {
        "colab": {
          "base_uri": "https://localhost:8080/"
        },
        "id": "4UEj-wjDRCZV",
        "outputId": "4dd8f42b-560d-40db-9d9c-62d5fdc171bc"
      },
      "execution_count": 39,
      "outputs": [
        {
          "output_type": "stream",
          "name": "stdout",
          "text": [
            "(732, 327) (732,)\n",
            "(244, 327) (244,)\n"
          ]
        }
      ]
    },
    {
      "cell_type": "code",
      "source": [
        "import tensorflow \n",
        "from tensorflow.keras import layers\n",
        "from keras.callbacks import ModelCheckpoint, EarlyStopping\n"
      ],
      "metadata": {
        "id": "flRFKLdlREcJ"
      },
      "execution_count": 40,
      "outputs": []
    },
    {
      "cell_type": "code",
      "source": [
        "model = tensorflow.keras.models.Sequential()\n",
        "model.add(layers.Embedding(MAX_NB_WORDS, EMBEDDING_DIM, input_length=X.shape[1]))\n",
        "model.add(layers.LSTM(32))\n",
        "model.add(layers.Dense(1, activation='sigmoid'))\n",
        "model.compile(loss='binary_crossentropy', optimizer='adam', metrics=['accuracy'])\n",
        "\n",
        "epochs = 10\n",
        "batch_size = 128\n",
        "\n",
        "history = model.fit(X_train, Y_train, epochs=epochs, batch_size=batch_size,validation_split=0.2,callbacks=[EarlyStopping(monitor='val_loss', patience=3, min_delta=0.0001)])\n",
        "\n",
        "print(history.model.summary())"
      ],
      "metadata": {
        "colab": {
          "base_uri": "https://localhost:8080/"
        },
        "id": "7oxNWtgdRFVQ",
        "outputId": "0b4ce617-c18a-4cb3-f8f7-0cde18203c1c"
      },
      "execution_count": 41,
      "outputs": [
        {
          "output_type": "stream",
          "name": "stdout",
          "text": [
            "Epoch 1/10\n",
            "5/5 [==============================] - 2s 134ms/step - loss: 0.6817 - accuracy: 0.6923 - val_loss: 0.6469 - val_accuracy: 0.8844\n",
            "Epoch 2/10\n",
            "5/5 [==============================] - 0s 29ms/step - loss: 0.6211 - accuracy: 0.8889 - val_loss: 0.5775 - val_accuracy: 0.8844\n",
            "Epoch 3/10\n",
            "5/5 [==============================] - 0s 24ms/step - loss: 0.5374 - accuracy: 0.8872 - val_loss: 0.4679 - val_accuracy: 0.8844\n",
            "Epoch 4/10\n",
            "5/5 [==============================] - 0s 23ms/step - loss: 0.4119 - accuracy: 0.8872 - val_loss: 0.3457 - val_accuracy: 0.8844\n",
            "Epoch 5/10\n",
            "5/5 [==============================] - 0s 22ms/step - loss: 0.3160 - accuracy: 0.8872 - val_loss: 0.3094 - val_accuracy: 0.8844\n",
            "Epoch 6/10\n",
            "5/5 [==============================] - 0s 23ms/step - loss: 0.3016 - accuracy: 0.8872 - val_loss: 0.3066 - val_accuracy: 0.8844\n",
            "Epoch 7/10\n",
            "5/5 [==============================] - 0s 22ms/step - loss: 0.2798 - accuracy: 0.8872 - val_loss: 0.2718 - val_accuracy: 0.8844\n",
            "Epoch 8/10\n",
            "5/5 [==============================] - 0s 22ms/step - loss: 0.2354 - accuracy: 0.8991 - val_loss: 0.2372 - val_accuracy: 0.8912\n",
            "Epoch 9/10\n",
            "5/5 [==============================] - 0s 22ms/step - loss: 0.2055 - accuracy: 0.9299 - val_loss: 0.2202 - val_accuracy: 0.9252\n",
            "Epoch 10/10\n",
            "5/5 [==============================] - 0s 22ms/step - loss: 0.1812 - accuracy: 0.9385 - val_loss: 0.1944 - val_accuracy: 0.9524\n",
            "Model: \"sequential_2\"\n",
            "_________________________________________________________________\n",
            " Layer (type)                Output Shape              Param #   \n",
            "=================================================================\n",
            " embedding_2 (Embedding)     (None, 327, 100)          181500    \n",
            "                                                                 \n",
            " lstm_2 (LSTM)               (None, 32)                17024     \n",
            "                                                                 \n",
            " dense_2 (Dense)             (None, 1)                 33        \n",
            "                                                                 \n",
            "=================================================================\n",
            "Total params: 198,557\n",
            "Trainable params: 198,557\n",
            "Non-trainable params: 0\n",
            "_________________________________________________________________\n",
            "None\n"
          ]
        }
      ]
    },
    {
      "cell_type": "code",
      "source": [
        "plt.title('Loss')\n",
        "plt.plot(history.history['loss'], label='train')\n",
        "plt.plot(history.history['val_loss'], label='test')\n",
        "plt.legend()\n",
        "plt.show()"
      ],
      "metadata": {
        "colab": {
          "base_uri": "https://localhost:8080/",
          "height": 0
        },
        "id": "AJcb91RmRGqa",
        "outputId": "b611d612-2e9d-49c1-ccd3-c7b007c71abd"
      },
      "execution_count": 42,
      "outputs": [
        {
          "output_type": "display_data",
          "data": {
            "text/plain": [
              "<Figure size 432x288 with 1 Axes>"
            ],
            "image/png": "[encoded data removed]"
          },
          "metadata": {
            "needs_background": "light"
          }
        }
      ]
    },
    {
      "cell_type": "code",
      "source": [
        "plt.title('Accuracy')\n",
        "plt.plot(history.history['accuracy'], label='train')\n",
        "plt.plot(history.history['val_accuracy'], label='test')\n",
        "plt.legend()\n",
        "plt.show()\n"
      ],
      "metadata": {
        "colab": {
          "base_uri": "https://localhost:8080/",
          "height": 0
        },
        "id": "2OqqW0sGRqZI",
        "outputId": "bad85576-01ef-4083-f0b3-48f2e1183976"
      },
      "execution_count": 43,
      "outputs": [
        {
          "output_type": "display_data",
          "data": {
            "text/plain": [
              "<Figure size 432x288 with 1 Axes>"
            ],
            "image/png": "[encoded data removed]"
          },
          "metadata": {
            "needs_background": "light"
          }
        }
      ]
    },
    {
      "cell_type": "code",
      "source": [
        "threshold = 0.5\n",
        "\n",
        "result = model.predict(X_test, verbose=2)\n",
        "result = result > threshold\n",
        "result = result.astype(int)\n"
      ],
      "metadata": {
        "colab": {
          "base_uri": "https://localhost:8080/"
        },
        "id": "xooJAOfmRryX",
        "outputId": "90416c5a-b1ca-4c0f-a5a6-2619de10b561"
      },
      "execution_count": 44,
      "outputs": [
        {
          "output_type": "stream",
          "name": "stdout",
          "text": [
            "8/8 - 0s - 398ms/epoch - 50ms/step\n"
          ]
        }
      ]
    },
    {
      "cell_type": "code",
      "source": [
        "from sklearn.metrics import classification_report\n",
        "target_names = ['not spam','spam']\n",
        "print(classification_report(Y_test, result, target_names=target_names))\n",
        "\n",
        "   \n",
        "from sklearn.metrics import confusion_matrix\n",
        "cm = confusion_matrix(Y_test, result)\n",
        "cm_df = pd.DataFrame(cm,\n",
        "                     index = target_names, \n",
        "                     columns = target_names)\n",
        "cm_df\n"
      ],
      "metadata": {
        "colab": {
          "base_uri": "https://localhost:8080/",
          "height": 0
        },
        "id": "cN1HAIwsRtl5",
        "outputId": "f9938044-3245-4b52-97d8-fa8767ac2e53"
      },
      "execution_count": 45,
      "outputs": [
        {
          "output_type": "stream",
          "name": "stdout",
          "text": [
            "              precision    recall  f1-score   support\n",
            "\n",
            "    not spam       0.89      1.00      0.94       212\n",
            "        spam       1.00      0.22      0.36        32\n",
            "\n",
            "    accuracy                           0.90       244\n",
            "   macro avg       0.95      0.61      0.65       244\n",
            "weighted avg       0.91      0.90      0.87       244\n",
            "\n"
          ]
        },
        {
          "output_type": "execute_result",
          "data": {
            "text/plain": [
              "          not spam  spam\n",
              "not spam       212     0\n",
              "spam            25     7"
            ],
            "text/html": [
              "\n",
              "  <div id=\"df-e4f363eb-103c-4e2a-a18f-a3a7e9126a80\">\n",
              "    <div class=\"colab-df-container\">\n",
              "      <div>\n",
              "<style scoped>\n",
              "    .dataframe tbody tr th:only-of-type {\n",
              "        vertical-align: middle;\n",
              "    }\n",
              "\n",
              "    .dataframe tbody tr th {\n",
              "        vertical-align: top;\n",
              "    }\n",
              "\n",
              "    .dataframe thead th {\n",
              "        text-align: right;\n",
              "    }\n",
              "</style>\n",
              "<table border=\"1\" class=\"dataframe\">\n",
              "  <thead>\n",
              "    <tr style=\"text-align: right;\">\n",
              "      <th></th>\n",
              "      <th>not spam</th>\n",
              "      <th>spam</th>\n",
              "    </tr>\n",
              "  </thead>\n",
              "  <tbody>\n",
              "    <tr>\n",
              "      <th>not spam</th>\n",
              "      <td>212</td>\n",
              "      <td>0</td>\n",
              "    </tr>\n",
              "    <tr>\n",
              "      <th>spam</th>\n",
              "      <td>25</td>\n",
              "      <td>7</td>\n",
              "    </tr>\n",
              "  </tbody>\n",
              "</table>\n",
              "</div>\n",
              "      <button class=\"colab-df-convert\" onclick=\"convertToInteractive('df-e4f363eb-103c-4e2a-a18f-a3a7e9126a80')\"\n",
              "              title=\"Convert this dataframe to an interactive table.\"\n",
              "              style=\"display:none;\">\n",
              "        \n",
              "  <svg xmlns=\"http://www.w3.org/2000/svg\" height=\"24px\"viewBox=\"0 0 24 24\"\n",
              "       width=\"24px\">\n",
              "    <path d=\"M0 0h24v24H0V0z\" fill=\"none\"/>\n",
              "    <path d=\"M18.56 5.44l.94 2.06.94-2.06 2.06-.94-2.06-.94-.94-2.06-.94 2.06-2.06.94zm-11 1L8.5 8.5l.94-2.06 2.06-.94-2.06-.94L8.5 2.5l-.94 2.06-2.06.94zm10 10l.94 2.06.94-2.06 2.06-.94-2.06-.94-.94-2.06-.94 2.06-2.06.94z\"/><path d=\"M17.41 7.96l-1.37-1.37c-.4-.4-.92-.59-1.43-.59-.52 0-1.04.2-1.43.59L10.3 9.45l-7.72 7.72c-.78.78-.78 2.05 0 2.83L4 21.41c.39.39.9.59 1.41.59.51 0 1.02-.2 1.41-.59l7.78-7.78 2.81-2.81c.8-.78.8-2.07 0-2.86zM5.41 20L4 18.59l7.72-7.72 1.47 1.35L5.41 20z\"/>\n",
              "  </svg>\n",
              "      </button>\n",
              "      \n",
              "  <style>\n",
              "    .colab-df-container {\n",
              "      display:flex;\n",
              "      flex-wrap:wrap;\n",
              "      gap: 12px;\n",
              "    }\n",
              "\n",
              "    .colab-df-convert {\n",
              "      background-color: #E8F0FE;\n",
              "      border: none;\n",
              "      border-radius: 50%;\n",
              "      cursor: pointer;\n",
              "      display: none;\n",
              "      fill: #1967D2;\n",
              "      height: 32px;\n",
              "      padding: 0 0 0 0;\n",
              "      width: 32px;\n",
              "    }\n",
              "\n",
              "    .colab-df-convert:hover {\n",
              "      background-color: #E2EBFA;\n",
              "      box-shadow: 0px 1px 2px rgba(60, 64, 67, 0.3), 0px 1px 3px 1px rgba(60, 64, 67, 0.15);\n",
              "      fill: #174EA6;\n",
              "    }\n",
              "\n",
              "    [theme=dark] .colab-df-convert {\n",
              "      background-color: #3B4455;\n",
              "      fill: #D2E3FC;\n",
              "    }\n",
              "\n",
              "    [theme=dark] .colab-df-convert:hover {\n",
              "      background-color: #434B5C;\n",
              "      box-shadow: 0px 1px 3px 1px rgba(0, 0, 0, 0.15);\n",
              "      filter: drop-shadow(0px 1px 2px rgba(0, 0, 0, 0.3));\n",
              "      fill: #FFFFFF;\n",
              "    }\n",
              "  </style>\n",
              "\n",
              "      <script>\n",
              "        const buttonEl =\n",
              "          document.querySelector('#df-e4f363eb-103c-4e2a-a18f-a3a7e9126a80 button.colab-df-convert');\n",
              "        buttonEl.style.display =\n",
              "          google.colab.kernel.accessAllowed ? 'block' : 'none';\n",
              "\n",
              "        async function convertToInteractive(key) {\n",
              "          const element = document.querySelector('#df-e4f363eb-103c-4e2a-a18f-a3a7e9126a80');\n",
              "          const dataTable =\n",
              "            await google.colab.kernel.invokeFunction('convertToInteractive',\n",
              "                                                     [key], {});\n",
              "          if (!dataTable) return;\n",
              "\n",
              "          const docLinkHtml = 'Like what you see? Visit the ' +\n",
              "            '<a target=\"_blank\" href=https://colab.research.google.com/notebooks/data_table.ipynb>data table notebook</a>'\n",
              "            + ' to learn more about interactive tables.';\n",
              "          element.innerHTML = '';\n",
              "          dataTable['output_type'] = 'display_data';\n",
              "          await google.colab.output.renderOutput(dataTable, element);\n",
              "          const docLink = document.createElement('div');\n",
              "          docLink.innerHTML = docLinkHtml;\n",
              "          element.appendChild(docLink);\n",
              "        }\n",
              "      </script>\n",
              "    </div>\n",
              "  </div>\n",
              "  "
            ]
          },
          "metadata": {},
          "execution_count": 45
        }
      ]
    },
    {
      "cell_type": "markdown",
      "source": [
        "## Twitter Sentiment Analysis"
      ],
      "metadata": {
        "id": "HKIgPW_3SXa3"
      }
    },
    {
      "cell_type": "code",
      "source": [
        "df = pd.read_csv(\"/content/drive/MyDrive/sentiment_v2.csv\")\n",
        "augmented_dataset = pd.read_csv(\"/content/drive/MyDrive/EnsembleLearningProject/pegasus/sentiment_aug_pegasus.csv\")"
      ],
      "metadata": {
        "id": "5TbwLbVZSYre"
      },
      "execution_count": 46,
      "outputs": []
    },
    {
      "cell_type": "code",
      "source": [
        "augmented_dataset.columns"
      ],
      "metadata": {
        "colab": {
          "base_uri": "https://localhost:8080/"
        },
        "id": "qXv7kTmkRuNQ",
        "outputId": "4d53cac1-198a-4afb-ce6d-8b1f36ed0191"
      },
      "execution_count": 47,
      "outputs": [
        {
          "output_type": "execute_result",
          "data": {
            "text/plain": [
              "Index(['Everyone felt the climate change question last night.', 'Neutral'], dtype='object')"
            ]
          },
          "metadata": {},
          "execution_count": 47
        }
      ]
    },
    {
      "cell_type": "code",
      "source": [
        "df.rename(columns={'RT  NancyLeeGrahn  How did everyone feel about the Climate Change question last night  Exactly.  GOPDebate': 'Message', 'Neutral': 'Category'}, inplace=True)\n",
        "augmented_dataset.rename(columns={'Everyone felt the climate change question last night.': 'Message', 'Neutral': 'Category'}, inplace=True)"
      ],
      "metadata": {
        "id": "dYAp5UkRUcDf"
      },
      "execution_count": 48,
      "outputs": []
    },
    {
      "cell_type": "code",
      "source": [
        "#BAŞTA\n",
        "df_top=pd.concat([augmented_dataset,df],ignore_index=True)\n",
        "\n",
        "#ORTADA\n",
        "df_mid = pd.concat([df.iloc[:250], augmented_dataset, df.iloc[250:]]).reset_index(drop=True)\n",
        "\n",
        "#SONDA\n",
        "df_tail =pd.concat([df,augmented_dataset],ignore_index=True)"
      ],
      "metadata": {
        "id": "Okhj0rlfSe4c"
      },
      "execution_count": 49,
      "outputs": []
    },
    {
      "cell_type": "code",
      "source": [
        "df_top.drop_duplicates(inplace = True)\n",
        "df_mid.drop_duplicates(inplace = True)\n",
        "df_tail.drop_duplicates(inplace = True)"
      ],
      "metadata": {
        "id": "ST6v_hTXSgLg"
      },
      "execution_count": 50,
      "outputs": []
    },
    {
      "cell_type": "code",
      "source": [
        "\"\"\"df_top.rename(columns={'Text': 'Message', 'Non-Spam': 'Category'}, inplace=True)\n",
        "df_mid.rename(columns={'Text': 'Message', 'Non-Spam': 'Category'}, inplace=True)\n",
        "df_tail.rename(columns={'Text': 'Message', 'Non-Spam': 'Category'}, inplace=True)\"\"\""
      ],
      "metadata": {
        "colab": {
          "base_uri": "https://localhost:8080/",
          "height": 53
        },
        "id": "vrOAhKX2Sh34",
        "outputId": "4268382a-050e-4e6c-c2d5-019607198f02"
      },
      "execution_count": null,
      "outputs": [
        {
          "output_type": "execute_result",
          "data": {
            "text/plain": [
              "\"df_top.rename(columns={'Text': 'Message', 'Non-Spam': 'Category'}, inplace=True)\\ndf_mid.rename(columns={'Text': 'Message', 'Non-Spam': 'Category'}, inplace=True)\\ndf_tail.rename(columns={'Text': 'Message', 'Non-Spam': 'Category'}, inplace=True)\""
            ],
            "application/vnd.google.colaboratory.intrinsic+json": {
              "type": "string"
            }
          },
          "metadata": {},
          "execution_count": 81
        }
      ]
    },
    {
      "cell_type": "code",
      "source": [
        "def preprocess(text):\n",
        "    text = text.lower()\n",
        "    text = re.sub(r'https?://\\S+|www.\\S+', '', text)\n",
        "    text = re.sub(r'<.*?>', '', text)\n",
        "    text = re.sub(r'[^a-zA-Z]+', ' ', text)\n",
        "    text = re.sub(r'[0-9]', '', text)\n",
        "    translator = str.maketrans(\"\", \"\", string.punctuation)\n",
        "    text = text.translate(translator)\n",
        "    words = word_tokenize(text)\n",
        "    words = [word for word in words if word not in stopwords.words(\"english\")]\n",
        "    lemmatizer = WordNetLemmatizer()\n",
        "    words = [lemmatizer.lemmatize(word) for word in words]\n",
        "    text = \" \".join(words)\n",
        "    return text"
      ],
      "metadata": {
        "id": "tlwciFpSSi-z"
      },
      "execution_count": 51,
      "outputs": []
    },
    {
      "cell_type": "markdown",
      "source": [
        "###BAŞTA"
      ],
      "metadata": {
        "id": "DA4XatZXUBKE"
      }
    },
    {
      "cell_type": "code",
      "source": [
        "df_top[\"Message\"] = df_top.Message.map(preprocess) \n",
        "\n",
        "maxSeq = len(df_top[\"Message\"][0])\n",
        "for i in range (0,len(df_top[\"Message\"])):\n",
        "    try:\n",
        "        cur = len(df_top[\"Message\"][i])\n",
        "        if (cur > maxSeq):\n",
        "            maxSeq = cur\n",
        "    except:\n",
        "        pass\n",
        "\n",
        "from collections import Counter\n",
        "\n",
        "def counter_word(text_col):\n",
        "    count = Counter()\n",
        "    for text in text_col.values:\n",
        "        for word in text.split():\n",
        "            count[word] += 1\n",
        "    return count\n",
        "\n",
        "counter = counter_word(df_top.Message)\n",
        "\n",
        "MAX_NB_WORDS = len(counter)\n",
        "MAX_SEQUENCE_LENGTH = maxSeq\n",
        "\n",
        "EMBEDDING_DIM = 100\n",
        "tokenizer = Tokenizer(num_words=MAX_NB_WORDS)\n",
        "tokenizer.fit_on_texts(df_top['Message'].values)\n",
        "with open(\"tokenizer.pickle\", \"wb\") as handle:\n",
        "    pickle.dump(tokenizer, handle, protocol=pickle.HIGHEST_PROTOCOL)\n",
        "\n",
        "X = tokenizer.texts_to_sequences(df_top['Message'].values)\n",
        "X = pad_sequences(X, maxlen=MAX_SEQUENCE_LENGTH)\n",
        "print('Shape of data tensor:', X.shape)\n",
        "\n",
        "from sklearn import preprocessing\n",
        "labelencoder = preprocessing.LabelEncoder()\n",
        "df_top['Category'] = labelencoder.fit_transform(df_top['Category'])\n",
        "Y = df_top['Category'].values\n",
        "print('Shape of label tensor:', Y.shape)"
      ],
      "metadata": {
        "colab": {
          "base_uri": "https://localhost:8080/"
        },
        "id": "xd3HE3G5T80B",
        "outputId": "e52837ee-31e8-4772-9fdb-32ee3dcbc448"
      },
      "execution_count": 52,
      "outputs": [
        {
          "output_type": "stream",
          "name": "stdout",
          "text": [
            "Shape of data tensor: (983, 185)\n",
            "Shape of label tensor: (983,)\n"
          ]
        }
      ]
    },
    {
      "cell_type": "code",
      "source": [
        "from sklearn.model_selection import train_test_split\n",
        "X_train, X_test, Y_train, Y_test = train_test_split(X,Y, test_size = 0.25, random_state = 42)\n",
        "print(X_train.shape,Y_train.shape)\n",
        "print(X_test.shape,Y_test.shape)\n",
        "\n",
        "#MODEL KURULMASI\n",
        "import tensorflow \n",
        "from tensorflow.keras import layers\n",
        "from keras.callbacks import ModelCheckpoint, EarlyStopping\n",
        "\n",
        "\n",
        "model = tensorflow.keras.models.Sequential()\n",
        "model.add(layers.Embedding(MAX_NB_WORDS, EMBEDDING_DIM, input_length=X.shape[1]))\n",
        "model.add(layers.LSTM(32))\n",
        "model.add(layers.Dense(1, activation='sigmoid'))\n",
        "model.compile(loss='binary_crossentropy', optimizer='adam', metrics=['accuracy'])\n",
        "\n",
        "epochs = 10\n",
        "batch_size = 128\n",
        "\n",
        "history = model.fit(X_train, Y_train, epochs=epochs, batch_size=batch_size,validation_split=0.2,callbacks=[EarlyStopping(monitor='val_loss', patience=3, min_delta=0.0001)])\n",
        "\n",
        "print(history.model.summary())"
      ],
      "metadata": {
        "colab": {
          "base_uri": "https://localhost:8080/"
        },
        "id": "jEHRzSB8UD7d",
        "outputId": "ada5b99f-f9f4-4704-91d1-4aa50b796d0b"
      },
      "execution_count": 53,
      "outputs": [
        {
          "output_type": "stream",
          "name": "stdout",
          "text": [
            "(737, 185) (737,)\n",
            "(246, 185) (246,)\n",
            "Epoch 1/10\n",
            "5/5 [==============================] - 2s 128ms/step - loss: 0.6895 - accuracy: 0.2971 - val_loss: 0.6821 - val_accuracy: 0.2297\n",
            "Epoch 2/10\n",
            "5/5 [==============================] - 0s 22ms/step - loss: 0.6727 - accuracy: 0.2139 - val_loss: 0.6690 - val_accuracy: 0.2297\n",
            "Epoch 3/10\n",
            "5/5 [==============================] - 0s 23ms/step - loss: 0.6484 - accuracy: 0.2139 - val_loss: 0.6556 - val_accuracy: 0.2297\n",
            "Epoch 4/10\n",
            "5/5 [==============================] - 0s 20ms/step - loss: 0.6194 - accuracy: 0.2139 - val_loss: 0.6440 - val_accuracy: 0.2297\n",
            "Epoch 5/10\n",
            "5/5 [==============================] - 0s 18ms/step - loss: 0.5742 - accuracy: 0.2173 - val_loss: 0.6223 - val_accuracy: 0.2365\n",
            "Epoch 6/10\n",
            "5/5 [==============================] - 0s 17ms/step - loss: 0.5085 - accuracy: 0.2903 - val_loss: 0.5921 - val_accuracy: 0.2635\n",
            "Epoch 7/10\n",
            "5/5 [==============================] - 0s 17ms/step - loss: 0.4031 - accuracy: 0.3328 - val_loss: 0.5712 - val_accuracy: 0.2568\n",
            "Epoch 8/10\n",
            "5/5 [==============================] - 0s 19ms/step - loss: 0.2649 - accuracy: 0.4261 - val_loss: 0.5031 - val_accuracy: 0.3041\n",
            "Epoch 9/10\n",
            "5/5 [==============================] - 0s 29ms/step - loss: 0.0815 - accuracy: 0.4975 - val_loss: 0.4665 - val_accuracy: 0.5068\n",
            "Epoch 10/10\n",
            "5/5 [==============================] - 0s 23ms/step - loss: 0.0319 - accuracy: 0.7521 - val_loss: 0.4558 - val_accuracy: 0.6081\n",
            "Model: \"sequential_3\"\n",
            "_________________________________________________________________\n",
            " Layer (type)                Output Shape              Param #   \n",
            "=================================================================\n",
            " embedding_3 (Embedding)     (None, 185, 100)          247800    \n",
            "                                                                 \n",
            " lstm_3 (LSTM)               (None, 32)                17024     \n",
            "                                                                 \n",
            " dense_3 (Dense)             (None, 1)                 33        \n",
            "                                                                 \n",
            "=================================================================\n",
            "Total params: 264,857\n",
            "Trainable params: 264,857\n",
            "Non-trainable params: 0\n",
            "_________________________________________________________________\n",
            "None\n"
          ]
        }
      ]
    },
    {
      "cell_type": "code",
      "source": [
        "plt.title('Loss')\n",
        "plt.plot(history.history['loss'], label='train')\n",
        "plt.plot(history.history['val_loss'], label='test')\n",
        "plt.legend()\n",
        "plt.show()"
      ],
      "metadata": {
        "colab": {
          "base_uri": "https://localhost:8080/",
          "height": 281
        },
        "id": "xVll8zjTUww4",
        "outputId": "05a0d89f-5cd3-4178-d877-631d8c2e06fc"
      },
      "execution_count": 54,
      "outputs": [
        {
          "output_type": "display_data",
          "data": {
            "text/plain": [
              "<Figure size 432x288 with 1 Axes>"
            ],
            "image/png": "[encoded data removed]"
          },
          "metadata": {
            "needs_background": "light"
          }
        }
      ]
    },
    {
      "cell_type": "code",
      "source": [
        "plt.title('Accuracy')\n",
        "plt.plot(history.history['accuracy'], label='train')\n",
        "plt.plot(history.history['val_accuracy'], label='test')\n",
        "plt.legend()\n",
        "plt.show()"
      ],
      "metadata": {
        "colab": {
          "base_uri": "https://localhost:8080/"
        },
        "id": "eVfIqVoMU0ss",
        "outputId": "fb9b37b4-b7a9-4ce9-d71d-25b09a75002d"
      },
      "execution_count": null,
      "outputs": [
        {
          "output_type": "display_data",
          "data": {
            "text/plain": [
              "<Figure size 432x288 with 1 Axes>"
            ],
            "image/png": "[encoded data removed]"
          },
          "metadata": {
            "needs_background": "light"
          }
        }
      ]
    },
    {
      "cell_type": "code",
      "source": [
        "threshold = 0.5\n",
        "\n",
        "result = model.predict(X_test, verbose=2)\n",
        "result = result > threshold\n",
        "result = result.astype(int)\n",
        "\n",
        "from sklearn.metrics import classification_report\n",
        "target_names = ['positive','negative','neutral']\n",
        "print(classification_report(Y_test, result, target_names=target_names))\n",
        "\n",
        "   \n",
        "from sklearn.metrics import confusion_matrix\n",
        "cm = confusion_matrix(Y_test, result)\n",
        "cm_df = pd.DataFrame(cm,\n",
        "                     index = target_names, \n",
        "                     columns = target_names)\n",
        "cm_df"
      ],
      "metadata": {
        "colab": {
          "base_uri": "https://localhost:8080/",
          "height": 459
        },
        "id": "3op4M-0qV2K7",
        "outputId": "b48525f4-7a94-429d-d748-389f0ab72f4d"
      },
      "execution_count": 55,
      "outputs": [
        {
          "output_type": "stream",
          "name": "stdout",
          "text": [
            "8/8 - 0s - 372ms/epoch - 46ms/step\n",
            "              precision    recall  f1-score   support\n",
            "\n",
            "    positive       0.85      0.70      0.77       126\n",
            "    negative       0.40      0.86      0.55        66\n",
            "     neutral       0.00      0.00      0.00        54\n",
            "\n",
            "    accuracy                           0.59       246\n",
            "   macro avg       0.42      0.52      0.44       246\n",
            "weighted avg       0.54      0.59      0.54       246\n",
            "\n"
          ]
        },
        {
          "output_type": "stream",
          "name": "stderr",
          "text": [
            "/usr/local/lib/python3.8/dist-packages/sklearn/metrics/_classification.py:1318: UndefinedMetricWarning: Precision and F-score are ill-defined and being set to 0.0 in labels with no predicted samples. Use `zero_division` parameter to control this behavior.\n",
            "  _warn_prf(average, modifier, msg_start, len(result))\n",
            "/usr/local/lib/python3.8/dist-packages/sklearn/metrics/_classification.py:1318: UndefinedMetricWarning: Precision and F-score are ill-defined and being set to 0.0 in labels with no predicted samples. Use `zero_division` parameter to control this behavior.\n",
            "  _warn_prf(average, modifier, msg_start, len(result))\n",
            "/usr/local/lib/python3.8/dist-packages/sklearn/metrics/_classification.py:1318: UndefinedMetricWarning: Precision and F-score are ill-defined and being set to 0.0 in labels with no predicted samples. Use `zero_division` parameter to control this behavior.\n",
            "  _warn_prf(average, modifier, msg_start, len(result))\n"
          ]
        },
        {
          "output_type": "execute_result",
          "data": {
            "text/plain": [
              "          positive  negative  neutral\n",
              "positive        88        38        0\n",
              "negative         9        57        0\n",
              "neutral          7        47        0"
            ],
            "text/html": [
              "\n",
              "  <div id=\"df-bb73f6f9-baa4-44c0-8012-ebfbf7a2eb64\">\n",
              "    <div class=\"colab-df-container\">\n",
              "      <div>\n",
              "<style scoped>\n",
              "    .dataframe tbody tr th:only-of-type {\n",
              "        vertical-align: middle;\n",
              "    }\n",
              "\n",
              "    .dataframe tbody tr th {\n",
              "        vertical-align: top;\n",
              "    }\n",
              "\n",
              "    .dataframe thead th {\n",
              "        text-align: right;\n",
              "    }\n",
              "</style>\n",
              "<table border=\"1\" class=\"dataframe\">\n",
              "  <thead>\n",
              "    <tr style=\"text-align: right;\">\n",
              "      <th></th>\n",
              "      <th>positive</th>\n",
              "      <th>negative</th>\n",
              "      <th>neutral</th>\n",
              "    </tr>\n",
              "  </thead>\n",
              "  <tbody>\n",
              "    <tr>\n",
              "      <th>positive</th>\n",
              "      <td>88</td>\n",
              "      <td>38</td>\n",
              "      <td>0</td>\n",
              "    </tr>\n",
              "    <tr>\n",
              "      <th>negative</th>\n",
              "      <td>9</td>\n",
              "      <td>57</td>\n",
              "      <td>0</td>\n",
              "    </tr>\n",
              "    <tr>\n",
              "      <th>neutral</th>\n",
              "      <td>7</td>\n",
              "      <td>47</td>\n",
              "      <td>0</td>\n",
              "    </tr>\n",
              "  </tbody>\n",
              "</table>\n",
              "</div>\n",
              "      <button class=\"colab-df-convert\" onclick=\"convertToInteractive('df-bb73f6f9-baa4-44c0-8012-ebfbf7a2eb64')\"\n",
              "              title=\"Convert this dataframe to an interactive table.\"\n",
              "              style=\"display:none;\">\n",
              "        \n",
              "  <svg xmlns=\"http://www.w3.org/2000/svg\" height=\"24px\"viewBox=\"0 0 24 24\"\n",
              "       width=\"24px\">\n",
              "    <path d=\"M0 0h24v24H0V0z\" fill=\"none\"/>\n",
              "    <path d=\"M18.56 5.44l.94 2.06.94-2.06 2.06-.94-2.06-.94-.94-2.06-.94 2.06-2.06.94zm-11 1L8.5 8.5l.94-2.06 2.06-.94-2.06-.94L8.5 2.5l-.94 2.06-2.06.94zm10 10l.94 2.06.94-2.06 2.06-.94-2.06-.94-.94-2.06-.94 2.06-2.06.94z\"/><path d=\"M17.41 7.96l-1.37-1.37c-.4-.4-.92-.59-1.43-.59-.52 0-1.04.2-1.43.59L10.3 9.45l-7.72 7.72c-.78.78-.78 2.05 0 2.83L4 21.41c.39.39.9.59 1.41.59.51 0 1.02-.2 1.41-.59l7.78-7.78 2.81-2.81c.8-.78.8-2.07 0-2.86zM5.41 20L4 18.59l7.72-7.72 1.47 1.35L5.41 20z\"/>\n",
              "  </svg>\n",
              "      </button>\n",
              "      \n",
              "  <style>\n",
              "    .colab-df-container {\n",
              "      display:flex;\n",
              "      flex-wrap:wrap;\n",
              "      gap: 12px;\n",
              "    }\n",
              "\n",
              "    .colab-df-convert {\n",
              "      background-color: #E8F0FE;\n",
              "      border: none;\n",
              "      border-radius: 50%;\n",
              "      cursor: pointer;\n",
              "      display: none;\n",
              "      fill: #1967D2;\n",
              "      height: 32px;\n",
              "      padding: 0 0 0 0;\n",
              "      width: 32px;\n",
              "    }\n",
              "\n",
              "    .colab-df-convert:hover {\n",
              "      background-color: #E2EBFA;\n",
              "      box-shadow: 0px 1px 2px rgba(60, 64, 67, 0.3), 0px 1px 3px 1px rgba(60, 64, 67, 0.15);\n",
              "      fill: #174EA6;\n",
              "    }\n",
              "\n",
              "    [theme=dark] .colab-df-convert {\n",
              "      background-color: #3B4455;\n",
              "      fill: #D2E3FC;\n",
              "    }\n",
              "\n",
              "    [theme=dark] .colab-df-convert:hover {\n",
              "      background-color: #434B5C;\n",
              "      box-shadow: 0px 1px 3px 1px rgba(0, 0, 0, 0.15);\n",
              "      filter: drop-shadow(0px 1px 2px rgba(0, 0, 0, 0.3));\n",
              "      fill: #FFFFFF;\n",
              "    }\n",
              "  </style>\n",
              "\n",
              "      <script>\n",
              "        const buttonEl =\n",
              "          document.querySelector('#df-bb73f6f9-baa4-44c0-8012-ebfbf7a2eb64 button.colab-df-convert');\n",
              "        buttonEl.style.display =\n",
              "          google.colab.kernel.accessAllowed ? 'block' : 'none';\n",
              "\n",
              "        async function convertToInteractive(key) {\n",
              "          const element = document.querySelector('#df-bb73f6f9-baa4-44c0-8012-ebfbf7a2eb64');\n",
              "          const dataTable =\n",
              "            await google.colab.kernel.invokeFunction('convertToInteractive',\n",
              "                                                     [key], {});\n",
              "          if (!dataTable) return;\n",
              "\n",
              "          const docLinkHtml = 'Like what you see? Visit the ' +\n",
              "            '<a target=\"_blank\" href=https://colab.research.google.com/notebooks/data_table.ipynb>data table notebook</a>'\n",
              "            + ' to learn more about interactive tables.';\n",
              "          element.innerHTML = '';\n",
              "          dataTable['output_type'] = 'display_data';\n",
              "          await google.colab.output.renderOutput(dataTable, element);\n",
              "          const docLink = document.createElement('div');\n",
              "          docLink.innerHTML = docLinkHtml;\n",
              "          element.appendChild(docLink);\n",
              "        }\n",
              "      </script>\n",
              "    </div>\n",
              "  </div>\n",
              "  "
            ]
          },
          "metadata": {},
          "execution_count": 55
        }
      ]
    },
    {
      "cell_type": "markdown",
      "source": [
        "### ORTADA"
      ],
      "metadata": {
        "id": "V0K0sfL2WGz-"
      }
    },
    {
      "cell_type": "code",
      "source": [
        "df_mid[\"Message\"] = df_mid.Message.map(preprocess) \n",
        "\n",
        "maxSeq = len(df_mid[\"Message\"][0])\n",
        "for i in range (0,len(df_mid[\"Message\"])):\n",
        "    try:\n",
        "        cur = len(df_mid[\"Message\"][i])\n",
        "        if (cur > maxSeq):\n",
        "            maxSeq = cur\n",
        "    except:\n",
        "        pass\n",
        "\n",
        "from collections import Counter\n",
        "\n",
        "def counter_word(text_col):\n",
        "    count = Counter()\n",
        "    for text in text_col.values:\n",
        "        for word in text.split():\n",
        "            count[word] += 1\n",
        "    return count\n",
        "\n",
        "counter = counter_word(df_mid.Message)\n",
        "\n",
        "MAX_NB_WORDS = len(counter)\n",
        "MAX_SEQUENCE_LENGTH = maxSeq\n",
        "\n",
        "EMBEDDING_DIM = 100\n",
        "tokenizer = Tokenizer(num_words=MAX_NB_WORDS)\n",
        "tokenizer.fit_on_texts(df_mid['Message'].values)\n",
        "with open(\"tokenizer.pickle\", \"wb\") as handle:\n",
        "    pickle.dump(tokenizer, handle, protocol=pickle.HIGHEST_PROTOCOL)\n",
        "\n",
        "X = tokenizer.texts_to_sequences(df_mid['Message'].values)\n",
        "X = pad_sequences(X, maxlen=MAX_SEQUENCE_LENGTH)\n",
        "print('Shape of data tensor:', X.shape)\n",
        "\n",
        "from sklearn import preprocessing\n",
        "labelencoder = preprocessing.LabelEncoder()\n",
        "df_mid['Category'] = labelencoder.fit_transform(df_mid['Category'])\n",
        "Y = df_mid['Category'].values\n",
        "print('Shape of label tensor:', Y.shape)"
      ],
      "metadata": {
        "colab": {
          "base_uri": "https://localhost:8080/"
        },
        "id": "suXDmkiLWIs7",
        "outputId": "d0612628-4778-4e08-face-3a0fd2e21096"
      },
      "execution_count": 56,
      "outputs": [
        {
          "output_type": "stream",
          "name": "stdout",
          "text": [
            "Shape of data tensor: (983, 185)\n",
            "Shape of label tensor: (983,)\n"
          ]
        }
      ]
    },
    {
      "cell_type": "code",
      "source": [
        "from sklearn.model_selection import train_test_split\n",
        "X_train, X_test, Y_train, Y_test = train_test_split(X,Y, test_size = 0.25, random_state = 42)\n",
        "print(X_train.shape,Y_train.shape)\n",
        "print(X_test.shape,Y_test.shape)\n",
        "\n",
        "#MODEL KURULMASI\n",
        "import tensorflow \n",
        "from tensorflow.keras import layers\n",
        "from keras.callbacks import ModelCheckpoint, EarlyStopping\n",
        "\n",
        "\n",
        "model = tensorflow.keras.models.Sequential()\n",
        "model.add(layers.Embedding(MAX_NB_WORDS, EMBEDDING_DIM, input_length=X.shape[1]))\n",
        "model.add(layers.LSTM(32))\n",
        "model.add(layers.Dense(1, activation='sigmoid'))\n",
        "model.compile(loss='binary_crossentropy', optimizer='adam', metrics=['accuracy'])\n",
        "\n",
        "epochs = 10\n",
        "batch_size = 128\n",
        "\n",
        "history = model.fit(X_train, Y_train, epochs=epochs, batch_size=batch_size,validation_split=0.2,callbacks=[EarlyStopping(monitor='val_loss', patience=3, min_delta=0.0001)])\n",
        "\n",
        "print(history.model.summary())"
      ],
      "metadata": {
        "colab": {
          "base_uri": "https://localhost:8080/"
        },
        "id": "zuuqW8e7WOh-",
        "outputId": "c6644f71-c348-4064-9c02-ded958c4b37c"
      },
      "execution_count": 57,
      "outputs": [
        {
          "output_type": "stream",
          "name": "stdout",
          "text": [
            "(737, 185) (737,)\n",
            "(246, 185) (246,)\n",
            "Epoch 1/10\n",
            "5/5 [==============================] - 3s 171ms/step - loss: 0.6903 - accuracy: 0.3820 - val_loss: 0.6866 - val_accuracy: 0.2432\n",
            "Epoch 2/10\n",
            "5/5 [==============================] - 0s 22ms/step - loss: 0.6682 - accuracy: 0.2326 - val_loss: 0.6782 - val_accuracy: 0.2432\n",
            "Epoch 3/10\n",
            "5/5 [==============================] - 0s 21ms/step - loss: 0.6411 - accuracy: 0.2326 - val_loss: 0.6701 - val_accuracy: 0.2432\n",
            "Epoch 4/10\n",
            "5/5 [==============================] - 0s 20ms/step - loss: 0.6059 - accuracy: 0.2326 - val_loss: 0.6710 - val_accuracy: 0.2432\n",
            "Epoch 5/10\n",
            "5/5 [==============================] - 0s 19ms/step - loss: 0.5552 - accuracy: 0.2326 - val_loss: 0.6625 - val_accuracy: 0.2432\n",
            "Epoch 6/10\n",
            "5/5 [==============================] - 0s 19ms/step - loss: 0.4807 - accuracy: 0.2632 - val_loss: 0.6227 - val_accuracy: 0.2635\n",
            "Epoch 7/10\n",
            "5/5 [==============================] - 0s 19ms/step - loss: 0.3684 - accuracy: 0.3514 - val_loss: 0.5892 - val_accuracy: 0.3041\n",
            "Epoch 8/10\n",
            "5/5 [==============================] - 0s 18ms/step - loss: 0.1904 - accuracy: 0.4346 - val_loss: 0.4935 - val_accuracy: 0.3446\n",
            "Epoch 9/10\n",
            "5/5 [==============================] - 0s 17ms/step - loss: -0.0587 - accuracy: 0.5450 - val_loss: 0.4215 - val_accuracy: 0.3716\n",
            "Epoch 10/10\n",
            "5/5 [==============================] - 0s 18ms/step - loss: -0.2532 - accuracy: 0.6486 - val_loss: 0.3094 - val_accuracy: 0.4865\n",
            "Model: \"sequential_4\"\n",
            "_________________________________________________________________\n",
            " Layer (type)                Output Shape              Param #   \n",
            "=================================================================\n",
            " embedding_4 (Embedding)     (None, 185, 100)          247800    \n",
            "                                                                 \n",
            " lstm_4 (LSTM)               (None, 32)                17024     \n",
            "                                                                 \n",
            " dense_4 (Dense)             (None, 1)                 33        \n",
            "                                                                 \n",
            "=================================================================\n",
            "Total params: 264,857\n",
            "Trainable params: 264,857\n",
            "Non-trainable params: 0\n",
            "_________________________________________________________________\n",
            "None\n"
          ]
        }
      ]
    },
    {
      "cell_type": "code",
      "source": [
        "plt.title('Loss')\n",
        "plt.plot(history.history['loss'], label='train')\n",
        "plt.plot(history.history['val_loss'], label='test')\n",
        "plt.legend()\n",
        "plt.show()"
      ],
      "metadata": {
        "colab": {
          "base_uri": "https://localhost:8080/",
          "height": 281
        },
        "id": "amL7TUPbWSMH",
        "outputId": "2eab7487-359b-48bf-ba34-4c14bace2be0"
      },
      "execution_count": 58,
      "outputs": [
        {
          "output_type": "display_data",
          "data": {
            "text/plain": [
              "<Figure size 432x288 with 1 Axes>"
            ],
            "image/png": "[encoded data removed]"
          },
          "metadata": {
            "needs_background": "light"
          }
        }
      ]
    },
    {
      "cell_type": "code",
      "source": [
        "plt.title('Accuracy')\n",
        "plt.plot(history.history['accuracy'], label='train')\n",
        "plt.plot(history.history['val_accuracy'], label='test')\n",
        "plt.legend()\n",
        "plt.show()"
      ],
      "metadata": {
        "colab": {
          "base_uri": "https://localhost:8080/",
          "height": 281
        },
        "id": "113qshIjWWIk",
        "outputId": "fcefaeb1-6e13-493e-b3b7-2e8aeefa4905"
      },
      "execution_count": 59,
      "outputs": [
        {
          "output_type": "display_data",
          "data": {
            "text/plain": [
              "<Figure size 432x288 with 1 Axes>"
            ],
            "image/png": "[encoded data removed]"
          },
          "metadata": {
            "needs_background": "light"
          }
        }
      ]
    },
    {
      "cell_type": "code",
      "source": [
        "threshold = 0.5\n",
        "\n",
        "result = model.predict(X_test, verbose=2)\n",
        "result = result > threshold\n",
        "result = result.astype(int)\n",
        "\n",
        "from sklearn.metrics import classification_report\n",
        "target_names = ['positive','negative','neutral']\n",
        "print(classification_report(Y_test, result, target_names=target_names))\n",
        "\n",
        "   \n",
        "from sklearn.metrics import confusion_matrix\n",
        "cm = confusion_matrix(Y_test, result)\n",
        "cm_df = pd.DataFrame(cm,\n",
        "                     index = target_names, \n",
        "                     columns = target_names)\n",
        "cm_df"
      ],
      "metadata": {
        "colab": {
          "base_uri": "https://localhost:8080/",
          "height": 459
        },
        "id": "v23jwZMBWZFs",
        "outputId": "a171d2dd-8513-4964-87ad-027a66b9e30a"
      },
      "execution_count": 60,
      "outputs": [
        {
          "output_type": "stream",
          "name": "stdout",
          "text": [
            "8/8 - 0s - 386ms/epoch - 48ms/step\n",
            "              precision    recall  f1-score   support\n",
            "\n",
            "    positive       0.89      0.59      0.71       142\n",
            "    negative       0.29      0.83      0.43        53\n",
            "     neutral       0.00      0.00      0.00        51\n",
            "\n",
            "    accuracy                           0.52       246\n",
            "   macro avg       0.39      0.47      0.38       246\n",
            "weighted avg       0.58      0.52      0.50       246\n",
            "\n"
          ]
        },
        {
          "output_type": "stream",
          "name": "stderr",
          "text": [
            "/usr/local/lib/python3.8/dist-packages/sklearn/metrics/_classification.py:1318: UndefinedMetricWarning: Precision and F-score are ill-defined and being set to 0.0 in labels with no predicted samples. Use `zero_division` parameter to control this behavior.\n",
            "  _warn_prf(average, modifier, msg_start, len(result))\n",
            "/usr/local/lib/python3.8/dist-packages/sklearn/metrics/_classification.py:1318: UndefinedMetricWarning: Precision and F-score are ill-defined and being set to 0.0 in labels with no predicted samples. Use `zero_division` parameter to control this behavior.\n",
            "  _warn_prf(average, modifier, msg_start, len(result))\n",
            "/usr/local/lib/python3.8/dist-packages/sklearn/metrics/_classification.py:1318: UndefinedMetricWarning: Precision and F-score are ill-defined and being set to 0.0 in labels with no predicted samples. Use `zero_division` parameter to control this behavior.\n",
            "  _warn_prf(average, modifier, msg_start, len(result))\n"
          ]
        },
        {
          "output_type": "execute_result",
          "data": {
            "text/plain": [
              "          positive  negative  neutral\n",
              "positive        84        58        0\n",
              "negative         9        44        0\n",
              "neutral          1        50        0"
            ],
            "text/html": [
              "\n",
              "  <div id=\"df-b69a049b-d8be-448a-937a-25e627745cea\">\n",
              "    <div class=\"colab-df-container\">\n",
              "      <div>\n",
              "<style scoped>\n",
              "    .dataframe tbody tr th:only-of-type {\n",
              "        vertical-align: middle;\n",
              "    }\n",
              "\n",
              "    .dataframe tbody tr th {\n",
              "        vertical-align: top;\n",
              "    }\n",
              "\n",
              "    .dataframe thead th {\n",
              "        text-align: right;\n",
              "    }\n",
              "</style>\n",
              "<table border=\"1\" class=\"dataframe\">\n",
              "  <thead>\n",
              "    <tr style=\"text-align: right;\">\n",
              "      <th></th>\n",
              "      <th>positive</th>\n",
              "      <th>negative</th>\n",
              "      <th>neutral</th>\n",
              "    </tr>\n",
              "  </thead>\n",
              "  <tbody>\n",
              "    <tr>\n",
              "      <th>positive</th>\n",
              "      <td>84</td>\n",
              "      <td>58</td>\n",
              "      <td>0</td>\n",
              "    </tr>\n",
              "    <tr>\n",
              "      <th>negative</th>\n",
              "      <td>9</td>\n",
              "      <td>44</td>\n",
              "      <td>0</td>\n",
              "    </tr>\n",
              "    <tr>\n",
              "      <th>neutral</th>\n",
              "      <td>1</td>\n",
              "      <td>50</td>\n",
              "      <td>0</td>\n",
              "    </tr>\n",
              "  </tbody>\n",
              "</table>\n",
              "</div>\n",
              "      <button class=\"colab-df-convert\" onclick=\"convertToInteractive('df-b69a049b-d8be-448a-937a-25e627745cea')\"\n",
              "              title=\"Convert this dataframe to an interactive table.\"\n",
              "              style=\"display:none;\">\n",
              "        \n",
              "  <svg xmlns=\"http://www.w3.org/2000/svg\" height=\"24px\"viewBox=\"0 0 24 24\"\n",
              "       width=\"24px\">\n",
              "    <path d=\"M0 0h24v24H0V0z\" fill=\"none\"/>\n",
              "    <path d=\"M18.56 5.44l.94 2.06.94-2.06 2.06-.94-2.06-.94-.94-2.06-.94 2.06-2.06.94zm-11 1L8.5 8.5l.94-2.06 2.06-.94-2.06-.94L8.5 2.5l-.94 2.06-2.06.94zm10 10l.94 2.06.94-2.06 2.06-.94-2.06-.94-.94-2.06-.94 2.06-2.06.94z\"/><path d=\"M17.41 7.96l-1.37-1.37c-.4-.4-.92-.59-1.43-.59-.52 0-1.04.2-1.43.59L10.3 9.45l-7.72 7.72c-.78.78-.78 2.05 0 2.83L4 21.41c.39.39.9.59 1.41.59.51 0 1.02-.2 1.41-.59l7.78-7.78 2.81-2.81c.8-.78.8-2.07 0-2.86zM5.41 20L4 18.59l7.72-7.72 1.47 1.35L5.41 20z\"/>\n",
              "  </svg>\n",
              "      </button>\n",
              "      \n",
              "  <style>\n",
              "    .colab-df-container {\n",
              "      display:flex;\n",
              "      flex-wrap:wrap;\n",
              "      gap: 12px;\n",
              "    }\n",
              "\n",
              "    .colab-df-convert {\n",
              "      background-color: #E8F0FE;\n",
              "      border: none;\n",
              "      border-radius: 50%;\n",
              "      cursor: pointer;\n",
              "      display: none;\n",
              "      fill: #1967D2;\n",
              "      height: 32px;\n",
              "      padding: 0 0 0 0;\n",
              "      width: 32px;\n",
              "    }\n",
              "\n",
              "    .colab-df-convert:hover {\n",
              "      background-color: #E2EBFA;\n",
              "      box-shadow: 0px 1px 2px rgba(60, 64, 67, 0.3), 0px 1px 3px 1px rgba(60, 64, 67, 0.15);\n",
              "      fill: #174EA6;\n",
              "    }\n",
              "\n",
              "    [theme=dark] .colab-df-convert {\n",
              "      background-color: #3B4455;\n",
              "      fill: #D2E3FC;\n",
              "    }\n",
              "\n",
              "    [theme=dark] .colab-df-convert:hover {\n",
              "      background-color: #434B5C;\n",
              "      box-shadow: 0px 1px 3px 1px rgba(0, 0, 0, 0.15);\n",
              "      filter: drop-shadow(0px 1px 2px rgba(0, 0, 0, 0.3));\n",
              "      fill: #FFFFFF;\n",
              "    }\n",
              "  </style>\n",
              "\n",
              "      <script>\n",
              "        const buttonEl =\n",
              "          document.querySelector('#df-b69a049b-d8be-448a-937a-25e627745cea button.colab-df-convert');\n",
              "        buttonEl.style.display =\n",
              "          google.colab.kernel.accessAllowed ? 'block' : 'none';\n",
              "\n",
              "        async function convertToInteractive(key) {\n",
              "          const element = document.querySelector('#df-b69a049b-d8be-448a-937a-25e627745cea');\n",
              "          const dataTable =\n",
              "            await google.colab.kernel.invokeFunction('convertToInteractive',\n",
              "                                                     [key], {});\n",
              "          if (!dataTable) return;\n",
              "\n",
              "          const docLinkHtml = 'Like what you see? Visit the ' +\n",
              "            '<a target=\"_blank\" href=https://colab.research.google.com/notebooks/data_table.ipynb>data table notebook</a>'\n",
              "            + ' to learn more about interactive tables.';\n",
              "          element.innerHTML = '';\n",
              "          dataTable['output_type'] = 'display_data';\n",
              "          await google.colab.output.renderOutput(dataTable, element);\n",
              "          const docLink = document.createElement('div');\n",
              "          docLink.innerHTML = docLinkHtml;\n",
              "          element.appendChild(docLink);\n",
              "        }\n",
              "      </script>\n",
              "    </div>\n",
              "  </div>\n",
              "  "
            ]
          },
          "metadata": {},
          "execution_count": 60
        }
      ]
    },
    {
      "cell_type": "markdown",
      "source": [
        "###SONDA"
      ],
      "metadata": {
        "id": "IBRhXZF5Wf2r"
      }
    },
    {
      "cell_type": "code",
      "source": [
        "df_tail[\"Message\"] = df_tail.Message.map(preprocess) \n",
        "\n",
        "maxSeq = len(df_tail[\"Message\"][0])\n",
        "for i in range (0,len(df_tail[\"Message\"])):\n",
        "    try:\n",
        "        cur = len(df_tail[\"Message\"][i])\n",
        "        if (cur > maxSeq):\n",
        "            maxSeq = cur\n",
        "    except:\n",
        "        pass\n",
        "\n",
        "from collections import Counter\n",
        "\n",
        "def counter_word(text_col):\n",
        "    count = Counter()\n",
        "    for text in text_col.values:\n",
        "        for word in text.split():\n",
        "            count[word] += 1\n",
        "    return count\n",
        "\n",
        "counter = counter_word(df_tail.Message)\n",
        "\n",
        "MAX_NB_WORDS = len(counter)\n",
        "MAX_SEQUENCE_LENGTH = maxSeq\n",
        "\n",
        "EMBEDDING_DIM = 100\n",
        "tokenizer = Tokenizer(num_words=MAX_NB_WORDS)\n",
        "tokenizer.fit_on_texts(df_tail['Message'].values)\n",
        "with open(\"tokenizer.pickle\", \"wb\") as handle:\n",
        "    pickle.dump(tokenizer, handle, protocol=pickle.HIGHEST_PROTOCOL)\n",
        "\n",
        "X = tokenizer.texts_to_sequences(df_tail['Message'].values)\n",
        "X = pad_sequences(X, maxlen=MAX_SEQUENCE_LENGTH)\n",
        "print('Shape of data tensor:', X.shape)\n",
        "\n",
        "from sklearn import preprocessing\n",
        "labelencoder = preprocessing.LabelEncoder()\n",
        "df_tail['Category'] = labelencoder.fit_transform(df_tail['Category'])\n",
        "Y = df_tail['Category'].values\n",
        "print('Shape of label tensor:', Y.shape)"
      ],
      "metadata": {
        "colab": {
          "base_uri": "https://localhost:8080/"
        },
        "id": "P53nVc6IWaGN",
        "outputId": "a17f20e1-bc05-4916-ae67-397d89cd9017"
      },
      "execution_count": 61,
      "outputs": [
        {
          "output_type": "stream",
          "name": "stdout",
          "text": [
            "Shape of data tensor: (983, 185)\n",
            "Shape of label tensor: (983,)\n"
          ]
        }
      ]
    },
    {
      "cell_type": "code",
      "source": [
        "from sklearn.model_selection import train_test_split\n",
        "X_train, X_test, Y_train, Y_test = train_test_split(X,Y, test_size = 0.25, random_state = 42)\n",
        "print(X_train.shape,Y_train.shape)\n",
        "print(X_test.shape,Y_test.shape)\n",
        "\n",
        "import tensorflow \n",
        "from tensorflow.keras import layers\n",
        "from keras.callbacks import ModelCheckpoint, EarlyStopping\n",
        "\n",
        "\n",
        "model = tensorflow.keras.models.Sequential()\n",
        "model.add(layers.Embedding(MAX_NB_WORDS, EMBEDDING_DIM, input_length=X.shape[1]))\n",
        "model.add(layers.LSTM(32))\n",
        "model.add(layers.Dense(1, activation='sigmoid'))\n",
        "model.compile(loss='binary_crossentropy', optimizer='adam', metrics=['accuracy'])\n",
        "\n",
        "epochs = 10\n",
        "batch_size = 128\n",
        "\n",
        "history = model.fit(X_train, Y_train, epochs=epochs, batch_size=batch_size,validation_split=0.2,callbacks=[EarlyStopping(monitor='val_loss', patience=3, min_delta=0.0001)])\n",
        "\n",
        "print(history.model.summary())"
      ],
      "metadata": {
        "colab": {
          "base_uri": "https://localhost:8080/"
        },
        "id": "2vRZq0OaWl-J",
        "outputId": "36890e2a-8953-4c19-900a-5bb7f554a745"
      },
      "execution_count": 62,
      "outputs": [
        {
          "output_type": "stream",
          "name": "stdout",
          "text": [
            "(737, 185) (737,)\n",
            "(246, 185) (246,)\n",
            "Epoch 1/10\n",
            "5/5 [==============================] - 2s 125ms/step - loss: 0.6890 - accuracy: 0.3277 - val_loss: 0.6841 - val_accuracy: 0.2500\n",
            "Epoch 2/10\n",
            "5/5 [==============================] - 0s 22ms/step - loss: 0.6635 - accuracy: 0.2360 - val_loss: 0.6735 - val_accuracy: 0.2500\n",
            "Epoch 3/10\n",
            "5/5 [==============================] - 0s 22ms/step - loss: 0.6336 - accuracy: 0.2343 - val_loss: 0.6589 - val_accuracy: 0.2500\n",
            "Epoch 4/10\n",
            "5/5 [==============================] - 0s 20ms/step - loss: 0.5889 - accuracy: 0.2343 - val_loss: 0.6470 - val_accuracy: 0.2500\n",
            "Epoch 5/10\n",
            "5/5 [==============================] - 0s 18ms/step - loss: 0.5329 - accuracy: 0.2343 - val_loss: 0.6406 - val_accuracy: 0.2500\n",
            "Epoch 6/10\n",
            "5/5 [==============================] - 0s 18ms/step - loss: 0.4543 - accuracy: 0.2513 - val_loss: 0.5957 - val_accuracy: 0.2568\n",
            "Epoch 7/10\n",
            "5/5 [==============================] - 0s 18ms/step - loss: 0.3363 - accuracy: 0.3396 - val_loss: 0.5396 - val_accuracy: 0.2905\n",
            "Epoch 8/10\n",
            "5/5 [==============================] - 0s 17ms/step - loss: 0.1591 - accuracy: 0.4058 - val_loss: 0.4541 - val_accuracy: 0.3446\n",
            "Epoch 9/10\n",
            "5/5 [==============================] - 0s 19ms/step - loss: -0.0446 - accuracy: 0.5450 - val_loss: 0.3749 - val_accuracy: 0.4527\n",
            "Epoch 10/10\n",
            "5/5 [==============================] - 0s 17ms/step - loss: -0.1838 - accuracy: 0.6672 - val_loss: 0.2946 - val_accuracy: 0.3919\n",
            "Model: \"sequential_5\"\n",
            "_________________________________________________________________\n",
            " Layer (type)                Output Shape              Param #   \n",
            "=================================================================\n",
            " embedding_5 (Embedding)     (None, 185, 100)          247800    \n",
            "                                                                 \n",
            " lstm_5 (LSTM)               (None, 32)                17024     \n",
            "                                                                 \n",
            " dense_5 (Dense)             (None, 1)                 33        \n",
            "                                                                 \n",
            "=================================================================\n",
            "Total params: 264,857\n",
            "Trainable params: 264,857\n",
            "Non-trainable params: 0\n",
            "_________________________________________________________________\n",
            "None\n"
          ]
        }
      ]
    },
    {
      "cell_type": "code",
      "source": [
        "plt.title('Loss')\n",
        "plt.plot(history.history['loss'], label='train')\n",
        "plt.plot(history.history['val_loss'], label='test')\n",
        "plt.legend()\n",
        "plt.show()"
      ],
      "metadata": {
        "colab": {
          "base_uri": "https://localhost:8080/",
          "height": 281
        },
        "id": "41y44NBKWpLy",
        "outputId": "578e2b06-27bf-4b80-e1db-ac5008199c71"
      },
      "execution_count": 63,
      "outputs": [
        {
          "output_type": "display_data",
          "data": {
            "text/plain": [
              "<Figure size 432x288 with 1 Axes>"
            ],
            "image/png": "[encoded data removed]"
          },
          "metadata": {
            "needs_background": "light"
          }
        }
      ]
    },
    {
      "cell_type": "code",
      "source": [
        "plt.title('Accuracy')\n",
        "plt.plot(history.history['accuracy'], label='train')\n",
        "plt.plot(history.history['val_accuracy'], label='test')\n",
        "plt.legend()\n",
        "plt.show()"
      ],
      "metadata": {
        "colab": {
          "base_uri": "https://localhost:8080/",
          "height": 281
        },
        "id": "wdozmTq7WtMn",
        "outputId": "0f4ef79c-ccd9-46b9-e8e8-8ccfc1bf5295"
      },
      "execution_count": 64,
      "outputs": [
        {
          "output_type": "display_data",
          "data": {
            "text/plain": [
              "<Figure size 432x288 with 1 Axes>"
            ],
            "image/png": "[encoded data removed]"
          },
          "metadata": {
            "needs_background": "light"
          }
        }
      ]
    },
    {
      "cell_type": "code",
      "source": [
        "threshold = 0.5\n",
        "\n",
        "result = model.predict(X_test, verbose=2)\n",
        "result = result > threshold\n",
        "result = result.astype(int)\n",
        "\n",
        "from sklearn.metrics import classification_report\n",
        "target_names = ['positive','negative','neutral']\n",
        "print(classification_report(Y_test, result, target_names=target_names))\n",
        "\n",
        "   \n",
        "from sklearn.metrics import confusion_matrix\n",
        "cm = confusion_matrix(Y_test, result)\n",
        "cm_df = pd.DataFrame(cm,\n",
        "                     index = target_names, \n",
        "                     columns = target_names)\n",
        "cm_df"
      ],
      "metadata": {
        "colab": {
          "base_uri": "https://localhost:8080/",
          "height": 459
        },
        "id": "VjxFFyn6WvXO",
        "outputId": "a163d8c3-4a0b-48d9-986a-d1daf9ed3b27"
      },
      "execution_count": 65,
      "outputs": [
        {
          "output_type": "stream",
          "name": "stdout",
          "text": [
            "8/8 - 0s - 380ms/epoch - 48ms/step\n",
            "              precision    recall  f1-score   support\n",
            "\n",
            "    positive       0.98      0.35      0.52       147\n",
            "    negative       0.26      1.00      0.42        51\n",
            "     neutral       0.00      0.00      0.00        48\n",
            "\n",
            "    accuracy                           0.42       246\n",
            "   macro avg       0.42      0.45      0.31       246\n",
            "weighted avg       0.64      0.42      0.40       246\n",
            "\n"
          ]
        },
        {
          "output_type": "stream",
          "name": "stderr",
          "text": [
            "/usr/local/lib/python3.8/dist-packages/sklearn/metrics/_classification.py:1318: UndefinedMetricWarning: Precision and F-score are ill-defined and being set to 0.0 in labels with no predicted samples. Use `zero_division` parameter to control this behavior.\n",
            "  _warn_prf(average, modifier, msg_start, len(result))\n",
            "/usr/local/lib/python3.8/dist-packages/sklearn/metrics/_classification.py:1318: UndefinedMetricWarning: Precision and F-score are ill-defined and being set to 0.0 in labels with no predicted samples. Use `zero_division` parameter to control this behavior.\n",
            "  _warn_prf(average, modifier, msg_start, len(result))\n",
            "/usr/local/lib/python3.8/dist-packages/sklearn/metrics/_classification.py:1318: UndefinedMetricWarning: Precision and F-score are ill-defined and being set to 0.0 in labels with no predicted samples. Use `zero_division` parameter to control this behavior.\n",
            "  _warn_prf(average, modifier, msg_start, len(result))\n"
          ]
        },
        {
          "output_type": "execute_result",
          "data": {
            "text/plain": [
              "          positive  negative  neutral\n",
              "positive        52        95        0\n",
              "negative         0        51        0\n",
              "neutral          1        47        0"
            ],
            "text/html": [
              "\n",
              "  <div id=\"df-414ace8c-a17e-4271-8e4f-04e631754e23\">\n",
              "    <div class=\"colab-df-container\">\n",
              "      <div>\n",
              "<style scoped>\n",
              "    .dataframe tbody tr th:only-of-type {\n",
              "        vertical-align: middle;\n",
              "    }\n",
              "\n",
              "    .dataframe tbody tr th {\n",
              "        vertical-align: top;\n",
              "    }\n",
              "\n",
              "    .dataframe thead th {\n",
              "        text-align: right;\n",
              "    }\n",
              "</style>\n",
              "<table border=\"1\" class=\"dataframe\">\n",
              "  <thead>\n",
              "    <tr style=\"text-align: right;\">\n",
              "      <th></th>\n",
              "      <th>positive</th>\n",
              "      <th>negative</th>\n",
              "      <th>neutral</th>\n",
              "    </tr>\n",
              "  </thead>\n",
              "  <tbody>\n",
              "    <tr>\n",
              "      <th>positive</th>\n",
              "      <td>52</td>\n",
              "      <td>95</td>\n",
              "      <td>0</td>\n",
              "    </tr>\n",
              "    <tr>\n",
              "      <th>negative</th>\n",
              "      <td>0</td>\n",
              "      <td>51</td>\n",
              "      <td>0</td>\n",
              "    </tr>\n",
              "    <tr>\n",
              "      <th>neutral</th>\n",
              "      <td>1</td>\n",
              "      <td>47</td>\n",
              "      <td>0</td>\n",
              "    </tr>\n",
              "  </tbody>\n",
              "</table>\n",
              "</div>\n",
              "      <button class=\"colab-df-convert\" onclick=\"convertToInteractive('df-414ace8c-a17e-4271-8e4f-04e631754e23')\"\n",
              "              title=\"Convert this dataframe to an interactive table.\"\n",
              "              style=\"display:none;\">\n",
              "        \n",
              "  <svg xmlns=\"http://www.w3.org/2000/svg\" height=\"24px\"viewBox=\"0 0 24 24\"\n",
              "       width=\"24px\">\n",
              "    <path d=\"M0 0h24v24H0V0z\" fill=\"none\"/>\n",
              "    <path d=\"M18.56 5.44l.94 2.06.94-2.06 2.06-.94-2.06-.94-.94-2.06-.94 2.06-2.06.94zm-11 1L8.5 8.5l.94-2.06 2.06-.94-2.06-.94L8.5 2.5l-.94 2.06-2.06.94zm10 10l.94 2.06.94-2.06 2.06-.94-2.06-.94-.94-2.06-.94 2.06-2.06.94z\"/><path d=\"M17.41 7.96l-1.37-1.37c-.4-.4-.92-.59-1.43-.59-.52 0-1.04.2-1.43.59L10.3 9.45l-7.72 7.72c-.78.78-.78 2.05 0 2.83L4 21.41c.39.39.9.59 1.41.59.51 0 1.02-.2 1.41-.59l7.78-7.78 2.81-2.81c.8-.78.8-2.07 0-2.86zM5.41 20L4 18.59l7.72-7.72 1.47 1.35L5.41 20z\"/>\n",
              "  </svg>\n",
              "      </button>\n",
              "      \n",
              "  <style>\n",
              "    .colab-df-container {\n",
              "      display:flex;\n",
              "      flex-wrap:wrap;\n",
              "      gap: 12px;\n",
              "    }\n",
              "\n",
              "    .colab-df-convert {\n",
              "      background-color: #E8F0FE;\n",
              "      border: none;\n",
              "      border-radius: 50%;\n",
              "      cursor: pointer;\n",
              "      display: none;\n",
              "      fill: #1967D2;\n",
              "      height: 32px;\n",
              "      padding: 0 0 0 0;\n",
              "      width: 32px;\n",
              "    }\n",
              "\n",
              "    .colab-df-convert:hover {\n",
              "      background-color: #E2EBFA;\n",
              "      box-shadow: 0px 1px 2px rgba(60, 64, 67, 0.3), 0px 1px 3px 1px rgba(60, 64, 67, 0.15);\n",
              "      fill: #174EA6;\n",
              "    }\n",
              "\n",
              "    [theme=dark] .colab-df-convert {\n",
              "      background-color: #3B4455;\n",
              "      fill: #D2E3FC;\n",
              "    }\n",
              "\n",
              "    [theme=dark] .colab-df-convert:hover {\n",
              "      background-color: #434B5C;\n",
              "      box-shadow: 0px 1px 3px 1px rgba(0, 0, 0, 0.15);\n",
              "      filter: drop-shadow(0px 1px 2px rgba(0, 0, 0, 0.3));\n",
              "      fill: #FFFFFF;\n",
              "    }\n",
              "  </style>\n",
              "\n",
              "      <script>\n",
              "        const buttonEl =\n",
              "          document.querySelector('#df-414ace8c-a17e-4271-8e4f-04e631754e23 button.colab-df-convert');\n",
              "        buttonEl.style.display =\n",
              "          google.colab.kernel.accessAllowed ? 'block' : 'none';\n",
              "\n",
              "        async function convertToInteractive(key) {\n",
              "          const element = document.querySelector('#df-414ace8c-a17e-4271-8e4f-04e631754e23');\n",
              "          const dataTable =\n",
              "            await google.colab.kernel.invokeFunction('convertToInteractive',\n",
              "                                                     [key], {});\n",
              "          if (!dataTable) return;\n",
              "\n",
              "          const docLinkHtml = 'Like what you see? Visit the ' +\n",
              "            '<a target=\"_blank\" href=https://colab.research.google.com/notebooks/data_table.ipynb>data table notebook</a>'\n",
              "            + ' to learn more about interactive tables.';\n",
              "          element.innerHTML = '';\n",
              "          dataTable['output_type'] = 'display_data';\n",
              "          await google.colab.output.renderOutput(dataTable, element);\n",
              "          const docLink = document.createElement('div');\n",
              "          docLink.innerHTML = docLinkHtml;\n",
              "          element.appendChild(docLink);\n",
              "        }\n",
              "      </script>\n",
              "    </div>\n",
              "  </div>\n",
              "  "
            ]
          },
          "metadata": {},
          "execution_count": 65
        }
      ]
    },
    {
      "cell_type": "markdown",
      "source": [
        "## Fake News Data"
      ],
      "metadata": {
        "id": "wm1zzyXMXRBH"
      }
    },
    {
      "cell_type": "code",
      "source": [
        "df = pd.read_csv(\"/content/drive/MyDrive/news_v2.csv\")\n",
        "augmented_dataset = pd.read_csv(\"/content/drive/MyDrive/EnsembleLearningProject/pegasus/news_aug_pegasus.csv\")"
      ],
      "metadata": {
        "id": "Ep6rvTGjXUR4"
      },
      "execution_count": 69,
      "outputs": []
    },
    {
      "cell_type": "code",
      "source": [
        "augmented_dataset.columns"
      ],
      "metadata": {
        "colab": {
          "base_uri": "https://localhost:8080/"
        },
        "id": "BMjMqfH_TMIP",
        "outputId": "749f0c92-3a36-4b64-aa7c-147d93fb7211"
      },
      "execution_count": 71,
      "outputs": [
        {
          "output_type": "execute_result",
          "data": {
            "text/plain": [
              "Index(['We have reported many cases of muslim refugees committing fraud and other groups stealing government funds.', 'Real'], dtype='object')"
            ]
          },
          "metadata": {},
          "execution_count": 71
        }
      ]
    },
    {
      "cell_type": "code",
      "source": [
        "df.rename(columns={'print they should pay all the back all the money plus interest the entire family and everyone who came in with them need to be deported asap why did it take two years to bust them  here we go again another group stealing from the government and taxpayers a group of somalis stole over four million in government benefits over just  months  weve reported on numerous cases like this one where the muslim refugeesimmigrants commit fraud by scamming our systemits way out of control more related': 'Message', 'Real': 'Category'}, inplace=True)\n",
        "augmented_dataset.rename(columns={'We have reported many cases of muslim refugees committing fraud and other groups stealing government funds.': 'Message', 'Real': 'Category'}, inplace=True)"
      ],
      "metadata": {
        "id": "-ck85Y-m__l-"
      },
      "execution_count": 72,
      "outputs": []
    },
    {
      "cell_type": "code",
      "source": [
        "#BAŞTA\n",
        "df_top=pd.concat([augmented_dataset,df],ignore_index=True)\n",
        "\n",
        "#ORTADA\n",
        "df_mid = pd.concat([df.iloc[:250], augmented_dataset, df.iloc[250:]]).reset_index(drop=True)\n",
        "\n",
        "#SONDA\n",
        "df_tail =pd.concat([df,augmented_dataset],ignore_index=True)"
      ],
      "metadata": {
        "id": "7V1DrSnMYAeZ"
      },
      "execution_count": 73,
      "outputs": []
    },
    {
      "cell_type": "code",
      "source": [
        "df_top.drop_duplicates(inplace = True)\n",
        "df_mid.drop_duplicates(inplace = True)\n",
        "df_tail.drop_duplicates(inplace = True)"
      ],
      "metadata": {
        "id": "VkHQbgbqYFOu"
      },
      "execution_count": 74,
      "outputs": []
    },
    {
      "cell_type": "markdown",
      "source": [
        "### BAŞTA"
      ],
      "metadata": {
        "id": "xT9qeSLoYJ14"
      }
    },
    {
      "cell_type": "code",
      "source": [
        "df_top[\"Message\"] = df_top[\"Message\"].str.lower()"
      ],
      "metadata": {
        "id": "beoL6nXoapgJ"
      },
      "execution_count": 75,
      "outputs": []
    },
    {
      "cell_type": "code",
      "source": [
        "df_top['Message']= df_top['Message'].str.replace(r'[^A-Za-z0-9 .]+', ' ') \n",
        "\n",
        "maxSeq = len(df_top[\"Message\"][0])\n",
        "for i in range (0,len(df_top[\"Message\"])):\n",
        "    try:\n",
        "        cur = len(df_top[\"Message\"][i])\n",
        "        if (cur > maxSeq):\n",
        "            maxSeq = cur\n",
        "    except:\n",
        "        pass"
      ],
      "metadata": {
        "colab": {
          "base_uri": "https://localhost:8080/"
        },
        "id": "k2hT7JZgaXNP",
        "outputId": "0a6e640d-acfe-4126-f91e-ec39af472f70"
      },
      "execution_count": 76,
      "outputs": [
        {
          "output_type": "stream",
          "name": "stderr",
          "text": [
            "<ipython-input-76-7ca10b9392c7>:1: FutureWarning: The default value of regex will change from True to False in a future version.\n",
            "  df_top['Message']= df_top['Message'].str.replace(r'[^A-Za-z0-9 .]+', ' ')\n"
          ]
        }
      ]
    },
    {
      "cell_type": "code",
      "source": [
        "df_top.dropna(inplace=True)"
      ],
      "metadata": {
        "id": "lIo-TwnpbkXn"
      },
      "execution_count": 77,
      "outputs": []
    },
    {
      "cell_type": "code",
      "source": [
        "from collections import Counter\n",
        "\n",
        "def counter_word(text_col):\n",
        "    count = Counter()\n",
        "    for text in text_col.values:\n",
        "        for word in text.split():\n",
        "            count[word] += 1\n",
        "    return count\n",
        "\n",
        "counter = counter_word(df_top.Message)\n",
        "\n",
        "MAX_NB_WORDS = len(counter)\n",
        "MAX_SEQUENCE_LENGTH = maxSeq\n",
        "\n",
        "EMBEDDING_DIM = 100\n",
        "tokenizer = Tokenizer(num_words=MAX_NB_WORDS)\n",
        "tokenizer.fit_on_texts(df_top['Message'].values)\n",
        "with open(\"tokenizer.pickle\", \"wb\") as handle:\n",
        "    pickle.dump(tokenizer, handle, protocol=pickle.HIGHEST_PROTOCOL)\n",
        "    \n",
        "X = tokenizer.texts_to_sequences(df_top['Message'].values)\n",
        "X = pad_sequences(X, maxlen=MAX_SEQUENCE_LENGTH)\n",
        "print('Shape of data tensor:', X.shape)\n",
        "\n",
        "from sklearn import preprocessing\n",
        "labelencoder = preprocessing.LabelEncoder()\n",
        "df_top['Category'] = labelencoder.fit_transform(df_top['Category'])\n",
        "Y = df_top['Category'].values\n",
        "print('Shape of label tensor:', Y.shape)"
      ],
      "metadata": {
        "colab": {
          "base_uri": "https://localhost:8080/"
        },
        "id": "_2Fim7dCaeCD",
        "outputId": "cf291218-988b-49a2-ce6a-ee673e666e82"
      },
      "execution_count": 78,
      "outputs": [
        {
          "output_type": "stream",
          "name": "stdout",
          "text": [
            "Shape of data tensor: (926, 29508)\n",
            "Shape of label tensor: (926,)\n"
          ]
        }
      ]
    },
    {
      "cell_type": "code",
      "source": [
        "from sklearn.model_selection import train_test_split\n",
        "X_train, X_test, Y_train, Y_test = train_test_split(X,Y, test_size = 0.25, random_state = 42)\n",
        "print(X_train.shape,Y_train.shape)\n",
        "print(X_test.shape,Y_test.shape)"
      ],
      "metadata": {
        "colab": {
          "base_uri": "https://localhost:8080/"
        },
        "id": "W-FuoppibZOl",
        "outputId": "b0351e07-3701-4de7-c4c1-4bf4119ea888"
      },
      "execution_count": 79,
      "outputs": [
        {
          "output_type": "stream",
          "name": "stdout",
          "text": [
            "(694, 29508) (694,)\n",
            "(232, 29508) (232,)\n"
          ]
        }
      ]
    },
    {
      "cell_type": "code",
      "source": [
        "import tensorflow \n",
        "from tensorflow.keras import layers\n",
        "from keras.callbacks import ModelCheckpoint, EarlyStopping\n",
        "\n",
        "model = tensorflow.keras.models.Sequential()\n",
        "model.add(layers.Embedding(MAX_NB_WORDS, EMBEDDING_DIM, input_length=X.shape[1]))\n",
        "model.add(layers.LSTM(32))\n",
        "model.add(layers.Dense(1, activation='sigmoid'))\n",
        "model.compile(loss='binary_crossentropy', optimizer='adam', metrics=['accuracy'])\n",
        "\n",
        "epochs = 10\n",
        "batch_size = 128\n",
        "\n",
        "history = model.fit(X_train, Y_train, epochs=epochs, batch_size=batch_size,validation_split=0.2,callbacks=[EarlyStopping(monitor='val_loss', patience=3, min_delta=0.0001)])\n",
        "\n",
        "\n",
        "print(history.model.summary())"
      ],
      "metadata": {
        "colab": {
          "base_uri": "https://localhost:8080/"
        },
        "id": "d3K1zkRTbwit",
        "outputId": "b821685e-6c40-421c-c8ee-9f496dde6ddf"
      },
      "execution_count": 80,
      "outputs": [
        {
          "output_type": "stream",
          "name": "stdout",
          "text": [
            "Epoch 1/10\n",
            "5/5 [==============================] - 8s 1s/step - loss: 0.6840 - accuracy: 0.7477 - val_loss: 0.6671 - val_accuracy: 0.8417\n",
            "Epoch 2/10\n",
            "5/5 [==============================] - 6s 1s/step - loss: 0.6449 - accuracy: 0.8973 - val_loss: 0.6322 - val_accuracy: 0.8417\n",
            "Epoch 3/10\n",
            "5/5 [==============================] - 6s 1s/step - loss: 0.5867 - accuracy: 0.8955 - val_loss: 0.5741 - val_accuracy: 0.8417\n",
            "Epoch 4/10\n",
            "5/5 [==============================] - 6s 1s/step - loss: 0.4862 - accuracy: 0.8955 - val_loss: 0.4731 - val_accuracy: 0.8417\n",
            "Epoch 5/10\n",
            "5/5 [==============================] - 6s 1s/step - loss: 0.3293 - accuracy: 0.8955 - val_loss: 0.4417 - val_accuracy: 0.8417\n",
            "Epoch 6/10\n",
            "5/5 [==============================] - 6s 1s/step - loss: 0.2874 - accuracy: 0.8955 - val_loss: 0.4978 - val_accuracy: 0.8417\n",
            "Epoch 7/10\n",
            "5/5 [==============================] - 6s 1s/step - loss: 0.2788 - accuracy: 0.8955 - val_loss: 0.4598 - val_accuracy: 0.8417\n",
            "Epoch 8/10\n",
            "5/5 [==============================] - 6s 1s/step - loss: 0.2247 - accuracy: 0.8991 - val_loss: 0.4223 - val_accuracy: 0.8417\n",
            "Epoch 9/10\n",
            "5/5 [==============================] - 6s 1s/step - loss: 0.1914 - accuracy: 0.9081 - val_loss: 0.4076 - val_accuracy: 0.8417\n",
            "Epoch 10/10\n",
            "5/5 [==============================] - 6s 1s/step - loss: 0.1650 - accuracy: 0.9351 - val_loss: 0.4075 - val_accuracy: 0.8489\n",
            "Model: \"sequential_6\"\n",
            "_________________________________________________________________\n",
            " Layer (type)                Output Shape              Param #   \n",
            "=================================================================\n",
            " embedding_6 (Embedding)     (None, 29508, 100)        1885700   \n",
            "                                                                 \n",
            " lstm_6 (LSTM)               (None, 32)                17024     \n",
            "                                                                 \n",
            " dense_6 (Dense)             (None, 1)                 33        \n",
            "                                                                 \n",
            "=================================================================\n",
            "Total params: 1,902,757\n",
            "Trainable params: 1,902,757\n",
            "Non-trainable params: 0\n",
            "_________________________________________________________________\n",
            "None\n"
          ]
        }
      ]
    },
    {
      "cell_type": "code",
      "source": [
        "plt.title('Loss')\n",
        "plt.plot(history.history['loss'], label='train')\n",
        "plt.plot(history.history['val_loss'], label='test')\n",
        "plt.legend()\n",
        "plt.show()"
      ],
      "metadata": {
        "colab": {
          "base_uri": "https://localhost:8080/",
          "height": 281
        },
        "id": "X5oMLX54bzJs",
        "outputId": "8b2590aa-861d-40a5-afc5-6e5a3b9277d2"
      },
      "execution_count": 81,
      "outputs": [
        {
          "output_type": "display_data",
          "data": {
            "text/plain": [
              "<Figure size 432x288 with 1 Axes>"
            ],
            "image/png": "[encoded data removed]"
          },
          "metadata": {
            "needs_background": "light"
          }
        }
      ]
    },
    {
      "cell_type": "code",
      "source": [
        "plt.title('Accuracy')\n",
        "plt.plot(history.history['accuracy'], label='train')\n",
        "plt.plot(history.history['val_accuracy'], label='test')\n",
        "plt.legend()\n",
        "plt.show()"
      ],
      "metadata": {
        "colab": {
          "base_uri": "https://localhost:8080/"
        },
        "id": "UGP5o9P9b1kS",
        "outputId": "3626f249-a457-4a50-a176-3e5a15858255"
      },
      "execution_count": null,
      "outputs": [
        {
          "output_type": "display_data",
          "data": {
            "text/plain": [
              "<Figure size 432x288 with 1 Axes>"
            ],
            "image/png": "[encoded data removed]"
          },
          "metadata": {
            "needs_background": "light"
          }
        }
      ]
    },
    {
      "cell_type": "code",
      "source": [
        "threshold = 0.5\n",
        "\n",
        "result = model.predict(X_test, verbose=2)\n",
        "result = result > threshold\n",
        "result = result.astype(int)\n",
        "\n",
        "from sklearn.metrics import classification_report\n",
        "target_names = ['real','fake']\n",
        "print(classification_report(Y_test, result, target_names=target_names))\n",
        "\n",
        "   \n",
        "from sklearn.metrics import confusion_matrix\n",
        "cm = confusion_matrix(Y_test, result)\n",
        "cm_df = pd.DataFrame(cm,\n",
        "                     index = target_names, \n",
        "                     columns = target_names)\n",
        "cm_df"
      ],
      "metadata": {
        "colab": {
          "base_uri": "https://localhost:8080/",
          "height": 286
        },
        "id": "0rM8FE9jb1-R",
        "outputId": "ef6ca3f6-2445-499d-ff87-f81c4a9c1f3c"
      },
      "execution_count": 82,
      "outputs": [
        {
          "output_type": "stream",
          "name": "stdout",
          "text": [
            "8/8 - 3s - 3s/epoch - 375ms/step\n",
            "              precision    recall  f1-score   support\n",
            "\n",
            "        real       0.92      1.00      0.96       210\n",
            "        fake       1.00      0.14      0.24        22\n",
            "\n",
            "    accuracy                           0.92       232\n",
            "   macro avg       0.96      0.57      0.60       232\n",
            "weighted avg       0.92      0.92      0.89       232\n",
            "\n"
          ]
        },
        {
          "output_type": "execute_result",
          "data": {
            "text/plain": [
              "      real  fake\n",
              "real   210     0\n",
              "fake    19     3"
            ],
            "text/html": [
              "\n",
              "  <div id=\"df-b7879e89-415b-4f12-87a8-da669a11522f\">\n",
              "    <div class=\"colab-df-container\">\n",
              "      <div>\n",
              "<style scoped>\n",
              "    .dataframe tbody tr th:only-of-type {\n",
              "        vertical-align: middle;\n",
              "    }\n",
              "\n",
              "    .dataframe tbody tr th {\n",
              "        vertical-align: top;\n",
              "    }\n",
              "\n",
              "    .dataframe thead th {\n",
              "        text-align: right;\n",
              "    }\n",
              "</style>\n",
              "<table border=\"1\" class=\"dataframe\">\n",
              "  <thead>\n",
              "    <tr style=\"text-align: right;\">\n",
              "      <th></th>\n",
              "      <th>real</th>\n",
              "      <th>fake</th>\n",
              "    </tr>\n",
              "  </thead>\n",
              "  <tbody>\n",
              "    <tr>\n",
              "      <th>real</th>\n",
              "      <td>210</td>\n",
              "      <td>0</td>\n",
              "    </tr>\n",
              "    <tr>\n",
              "      <th>fake</th>\n",
              "      <td>19</td>\n",
              "      <td>3</td>\n",
              "    </tr>\n",
              "  </tbody>\n",
              "</table>\n",
              "</div>\n",
              "      <button class=\"colab-df-convert\" onclick=\"convertToInteractive('df-b7879e89-415b-4f12-87a8-da669a11522f')\"\n",
              "              title=\"Convert this dataframe to an interactive table.\"\n",
              "              style=\"display:none;\">\n",
              "        \n",
              "  <svg xmlns=\"http://www.w3.org/2000/svg\" height=\"24px\"viewBox=\"0 0 24 24\"\n",
              "       width=\"24px\">\n",
              "    <path d=\"M0 0h24v24H0V0z\" fill=\"none\"/>\n",
              "    <path d=\"M18.56 5.44l.94 2.06.94-2.06 2.06-.94-2.06-.94-.94-2.06-.94 2.06-2.06.94zm-11 1L8.5 8.5l.94-2.06 2.06-.94-2.06-.94L8.5 2.5l-.94 2.06-2.06.94zm10 10l.94 2.06.94-2.06 2.06-.94-2.06-.94-.94-2.06-.94 2.06-2.06.94z\"/><path d=\"M17.41 7.96l-1.37-1.37c-.4-.4-.92-.59-1.43-.59-.52 0-1.04.2-1.43.59L10.3 9.45l-7.72 7.72c-.78.78-.78 2.05 0 2.83L4 21.41c.39.39.9.59 1.41.59.51 0 1.02-.2 1.41-.59l7.78-7.78 2.81-2.81c.8-.78.8-2.07 0-2.86zM5.41 20L4 18.59l7.72-7.72 1.47 1.35L5.41 20z\"/>\n",
              "  </svg>\n",
              "      </button>\n",
              "      \n",
              "  <style>\n",
              "    .colab-df-container {\n",
              "      display:flex;\n",
              "      flex-wrap:wrap;\n",
              "      gap: 12px;\n",
              "    }\n",
              "\n",
              "    .colab-df-convert {\n",
              "      background-color: #E8F0FE;\n",
              "      border: none;\n",
              "      border-radius: 50%;\n",
              "      cursor: pointer;\n",
              "      display: none;\n",
              "      fill: #1967D2;\n",
              "      height: 32px;\n",
              "      padding: 0 0 0 0;\n",
              "      width: 32px;\n",
              "    }\n",
              "\n",
              "    .colab-df-convert:hover {\n",
              "      background-color: #E2EBFA;\n",
              "      box-shadow: 0px 1px 2px rgba(60, 64, 67, 0.3), 0px 1px 3px 1px rgba(60, 64, 67, 0.15);\n",
              "      fill: #174EA6;\n",
              "    }\n",
              "\n",
              "    [theme=dark] .colab-df-convert {\n",
              "      background-color: #3B4455;\n",
              "      fill: #D2E3FC;\n",
              "    }\n",
              "\n",
              "    [theme=dark] .colab-df-convert:hover {\n",
              "      background-color: #434B5C;\n",
              "      box-shadow: 0px 1px 3px 1px rgba(0, 0, 0, 0.15);\n",
              "      filter: drop-shadow(0px 1px 2px rgba(0, 0, 0, 0.3));\n",
              "      fill: #FFFFFF;\n",
              "    }\n",
              "  </style>\n",
              "\n",
              "      <script>\n",
              "        const buttonEl =\n",
              "          document.querySelector('#df-b7879e89-415b-4f12-87a8-da669a11522f button.colab-df-convert');\n",
              "        buttonEl.style.display =\n",
              "          google.colab.kernel.accessAllowed ? 'block' : 'none';\n",
              "\n",
              "        async function convertToInteractive(key) {\n",
              "          const element = document.querySelector('#df-b7879e89-415b-4f12-87a8-da669a11522f');\n",
              "          const dataTable =\n",
              "            await google.colab.kernel.invokeFunction('convertToInteractive',\n",
              "                                                     [key], {});\n",
              "          if (!dataTable) return;\n",
              "\n",
              "          const docLinkHtml = 'Like what you see? Visit the ' +\n",
              "            '<a target=\"_blank\" href=https://colab.research.google.com/notebooks/data_table.ipynb>data table notebook</a>'\n",
              "            + ' to learn more about interactive tables.';\n",
              "          element.innerHTML = '';\n",
              "          dataTable['output_type'] = 'display_data';\n",
              "          await google.colab.output.renderOutput(dataTable, element);\n",
              "          const docLink = document.createElement('div');\n",
              "          docLink.innerHTML = docLinkHtml;\n",
              "          element.appendChild(docLink);\n",
              "        }\n",
              "      </script>\n",
              "    </div>\n",
              "  </div>\n",
              "  "
            ]
          },
          "metadata": {},
          "execution_count": 82
        }
      ]
    },
    {
      "cell_type": "markdown",
      "source": [
        "### ORTADA"
      ],
      "metadata": {
        "id": "akG7yJ8t9auk"
      }
    },
    {
      "cell_type": "code",
      "source": [
        "df_mid[\"Message\"] = df_mid[\"Message\"].str.lower()"
      ],
      "metadata": {
        "id": "n_XIJlJR9cUD"
      },
      "execution_count": 83,
      "outputs": []
    },
    {
      "cell_type": "code",
      "source": [
        "df_mid['Message']= df_mid['Message'].str.replace(r'[^A-Za-z0-9 .]+', ' ') \n",
        "\n",
        "maxSeq = len(df_mid[\"Message\"][0])\n",
        "for i in range (0,len(df_mid[\"Message\"])):\n",
        "    try:\n",
        "        cur = len(df_mid[\"Message\"][i])\n",
        "        if (cur > maxSeq):\n",
        "            maxSeq = cur\n",
        "    except:\n",
        "        pass\n",
        "\n",
        "df_mid.dropna(inplace=True)"
      ],
      "metadata": {
        "colab": {
          "base_uri": "https://localhost:8080/"
        },
        "id": "FI676xmg9f06",
        "outputId": "5b4b206c-1e26-4b97-ca6f-eac929c90daa"
      },
      "execution_count": 84,
      "outputs": [
        {
          "output_type": "stream",
          "name": "stderr",
          "text": [
            "<ipython-input-84-ea2990828e20>:1: FutureWarning: The default value of regex will change from True to False in a future version.\n",
            "  df_mid['Message']= df_mid['Message'].str.replace(r'[^A-Za-z0-9 .]+', ' ')\n"
          ]
        }
      ]
    },
    {
      "cell_type": "code",
      "source": [
        "from collections import Counter\n",
        "\n",
        "def counter_word(text_col):\n",
        "    count = Counter()\n",
        "    for text in text_col.values:\n",
        "        for word in text.split():\n",
        "            count[word] += 1\n",
        "    return count\n",
        "\n",
        "counter = counter_word(df_mid.Message)\n",
        "\n",
        "MAX_NB_WORDS = len(counter)\n",
        "MAX_SEQUENCE_LENGTH = maxSeq\n",
        "\n",
        "EMBEDDING_DIM = 100\n",
        "tokenizer = Tokenizer(num_words=MAX_NB_WORDS)\n",
        "tokenizer.fit_on_texts(df_mid['Message'].values)\n",
        "with open(\"tokenizer.pickle\", \"wb\") as handle:\n",
        "    pickle.dump(tokenizer, handle, protocol=pickle.HIGHEST_PROTOCOL)\n",
        "    \n",
        "X = tokenizer.texts_to_sequences(df_mid['Message'].values)\n",
        "X = pad_sequences(X, maxlen=MAX_SEQUENCE_LENGTH)\n",
        "print('Shape of data tensor:', X.shape)\n",
        "\n",
        "from sklearn import preprocessing\n",
        "labelencoder = preprocessing.LabelEncoder()\n",
        "df_mid['Category'] = labelencoder.fit_transform(df_mid['Category'])\n",
        "Y = df_mid['Category'].values\n",
        "print('Shape of label tensor:', Y.shape)"
      ],
      "metadata": {
        "colab": {
          "base_uri": "https://localhost:8080/"
        },
        "id": "8NiWqZsz9wYE",
        "outputId": "e9b7cbf6-400a-4d9b-ce32-953ed1a16dd0"
      },
      "execution_count": 85,
      "outputs": [
        {
          "output_type": "stream",
          "name": "stdout",
          "text": [
            "Shape of data tensor: (926, 29508)\n",
            "Shape of label tensor: (926,)\n"
          ]
        }
      ]
    },
    {
      "cell_type": "code",
      "source": [
        "from sklearn.model_selection import train_test_split\n",
        "X_train, X_test, Y_train, Y_test = train_test_split(X,Y, test_size = 0.25, random_state = 42)\n",
        "print(X_train.shape,Y_train.shape)\n",
        "print(X_test.shape,Y_test.shape)"
      ],
      "metadata": {
        "colab": {
          "base_uri": "https://localhost:8080/"
        },
        "id": "c26UQrv693Rs",
        "outputId": "d2bbf967-a353-42a2-907c-450316fee5af"
      },
      "execution_count": 86,
      "outputs": [
        {
          "output_type": "stream",
          "name": "stdout",
          "text": [
            "(694, 29508) (694,)\n",
            "(232, 29508) (232,)\n"
          ]
        }
      ]
    },
    {
      "cell_type": "code",
      "source": [
        "import tensorflow \n",
        "from tensorflow.keras import layers\n",
        "from keras.callbacks import ModelCheckpoint, EarlyStopping\n",
        "\n",
        "model = tensorflow.keras.models.Sequential()\n",
        "model.add(layers.Embedding(MAX_NB_WORDS, EMBEDDING_DIM, input_length=X.shape[1]))\n",
        "model.add(layers.LSTM(32))\n",
        "model.add(layers.Dense(1, activation='sigmoid'))\n",
        "model.compile(loss='binary_crossentropy', optimizer='adam', metrics=['accuracy'])\n",
        "\n",
        "epochs = 10\n",
        "batch_size = 128\n",
        "\n",
        "history = model.fit(X_train, Y_train, epochs=epochs, batch_size=batch_size,validation_split=0.2,callbacks=[EarlyStopping(monitor='val_loss', patience=3, min_delta=0.0001)])\n",
        "\n",
        "print(history.model.summary())"
      ],
      "metadata": {
        "colab": {
          "base_uri": "https://localhost:8080/"
        },
        "id": "4TLtHhbS94Qu",
        "outputId": "0dcec674-ea8a-4a1b-bdbb-81d8d33c4542"
      },
      "execution_count": 87,
      "outputs": [
        {
          "output_type": "stream",
          "name": "stdout",
          "text": [
            "Epoch 1/10\n",
            "5/5 [==============================] - 9s 1s/step - loss: 0.6826 - accuracy: 0.7712 - val_loss: 0.6620 - val_accuracy: 0.8849\n",
            "Epoch 2/10\n",
            "5/5 [==============================] - 6s 1s/step - loss: 0.6397 - accuracy: 0.8865 - val_loss: 0.6108 - val_accuracy: 0.8777\n",
            "Epoch 3/10\n",
            "5/5 [==============================] - 6s 1s/step - loss: 0.5675 - accuracy: 0.8847 - val_loss: 0.5137 - val_accuracy: 0.8777\n",
            "Epoch 4/10\n",
            "5/5 [==============================] - 6s 1s/step - loss: 0.4415 - accuracy: 0.8847 - val_loss: 0.3867 - val_accuracy: 0.8777\n",
            "Epoch 5/10\n",
            "5/5 [==============================] - 6s 1s/step - loss: 0.3377 - accuracy: 0.8847 - val_loss: 0.3631 - val_accuracy: 0.8777\n",
            "Epoch 6/10\n",
            "5/5 [==============================] - 6s 1s/step - loss: 0.3307 - accuracy: 0.8847 - val_loss: 0.3705 - val_accuracy: 0.8777\n",
            "Epoch 7/10\n",
            "5/5 [==============================] - 6s 1s/step - loss: 0.3183 - accuracy: 0.8847 - val_loss: 0.3571 - val_accuracy: 0.8777\n",
            "Epoch 8/10\n",
            "5/5 [==============================] - 6s 1s/step - loss: 0.2772 - accuracy: 0.8847 - val_loss: 0.3393 - val_accuracy: 0.8777\n",
            "Epoch 9/10\n",
            "5/5 [==============================] - 6s 1s/step - loss: 0.2474 - accuracy: 0.8955 - val_loss: 0.3350 - val_accuracy: 0.8777\n",
            "Epoch 10/10\n",
            "5/5 [==============================] - 6s 1s/step - loss: 0.2208 - accuracy: 0.9117 - val_loss: 0.3223 - val_accuracy: 0.8849\n",
            "Model: \"sequential_7\"\n",
            "_________________________________________________________________\n",
            " Layer (type)                Output Shape              Param #   \n",
            "=================================================================\n",
            " embedding_7 (Embedding)     (None, 29508, 100)        1885700   \n",
            "                                                                 \n",
            " lstm_7 (LSTM)               (None, 32)                17024     \n",
            "                                                                 \n",
            " dense_7 (Dense)             (None, 1)                 33        \n",
            "                                                                 \n",
            "=================================================================\n",
            "Total params: 1,902,757\n",
            "Trainable params: 1,902,757\n",
            "Non-trainable params: 0\n",
            "_________________________________________________________________\n",
            "None\n"
          ]
        }
      ]
    },
    {
      "cell_type": "code",
      "source": [
        "plt.title('Loss')\n",
        "plt.plot(history.history['loss'], label='train')\n",
        "plt.plot(history.history['val_loss'], label='test')\n",
        "plt.legend()\n",
        "plt.show()"
      ],
      "metadata": {
        "colab": {
          "base_uri": "https://localhost:8080/",
          "height": 281
        },
        "id": "gsG25I4d969W",
        "outputId": "31e22e2e-f393-4d24-dfff-6e6c56057aab"
      },
      "execution_count": 88,
      "outputs": [
        {
          "output_type": "display_data",
          "data": {
            "text/plain": [
              "<Figure size 432x288 with 1 Axes>"
            ],
            "image/png": "[encoded data removed]"
          },
          "metadata": {
            "needs_background": "light"
          }
        }
      ]
    },
    {
      "cell_type": "code",
      "source": [
        "plt.title('Accuracy')\n",
        "plt.plot(history.history['accuracy'], label='train')\n",
        "plt.plot(history.history['val_accuracy'], label='test')\n",
        "plt.legend()\n",
        "plt.show()"
      ],
      "metadata": {
        "colab": {
          "base_uri": "https://localhost:8080/",
          "height": 281
        },
        "id": "vSKlpTGe9-00",
        "outputId": "31609d48-7492-4aa1-9559-7661c00b76c0"
      },
      "execution_count": 89,
      "outputs": [
        {
          "output_type": "display_data",
          "data": {
            "text/plain": [
              "<Figure size 432x288 with 1 Axes>"
            ],
            "image/png": "[encoded data removed]"
          },
          "metadata": {
            "needs_background": "light"
          }
        }
      ]
    },
    {
      "cell_type": "code",
      "source": [
        "threshold = 0.5\n",
        "\n",
        "result = model.predict(X_test, verbose=2)\n",
        "result = result > threshold\n",
        "result = result.astype(int)\n",
        "\n",
        "from sklearn.metrics import classification_report\n",
        "target_names = ['real','fake']\n",
        "print(classification_report(Y_test, result, target_names=target_names))\n",
        "\n",
        "   \n",
        "from sklearn.metrics import confusion_matrix\n",
        "cm = confusion_matrix(Y_test, result)\n",
        "cm_df = pd.DataFrame(cm,\n",
        "                     index = target_names, \n",
        "                     columns = target_names)\n",
        "cm_df"
      ],
      "metadata": {
        "colab": {
          "base_uri": "https://localhost:8080/",
          "height": 286
        },
        "id": "Shayo3xP-A7H",
        "outputId": "c4be6b03-4b90-4bdf-ce5c-8b41e254db2d"
      },
      "execution_count": 90,
      "outputs": [
        {
          "output_type": "stream",
          "name": "stdout",
          "text": [
            "8/8 - 3s - 3s/epoch - 359ms/step\n",
            "              precision    recall  f1-score   support\n",
            "\n",
            "        real       0.92      1.00      0.96       211\n",
            "        fake       1.00      0.10      0.17        21\n",
            "\n",
            "    accuracy                           0.92       232\n",
            "   macro avg       0.96      0.55      0.57       232\n",
            "weighted avg       0.92      0.92      0.89       232\n",
            "\n"
          ]
        },
        {
          "output_type": "execute_result",
          "data": {
            "text/plain": [
              "      real  fake\n",
              "real   211     0\n",
              "fake    19     2"
            ],
            "text/html": [
              "\n",
              "  <div id=\"df-9b7e98c4-a6fc-40dc-8a59-79395bbc86e9\">\n",
              "    <div class=\"colab-df-container\">\n",
              "      <div>\n",
              "<style scoped>\n",
              "    .dataframe tbody tr th:only-of-type {\n",
              "        vertical-align: middle;\n",
              "    }\n",
              "\n",
              "    .dataframe tbody tr th {\n",
              "        vertical-align: top;\n",
              "    }\n",
              "\n",
              "    .dataframe thead th {\n",
              "        text-align: right;\n",
              "    }\n",
              "</style>\n",
              "<table border=\"1\" class=\"dataframe\">\n",
              "  <thead>\n",
              "    <tr style=\"text-align: right;\">\n",
              "      <th></th>\n",
              "      <th>real</th>\n",
              "      <th>fake</th>\n",
              "    </tr>\n",
              "  </thead>\n",
              "  <tbody>\n",
              "    <tr>\n",
              "      <th>real</th>\n",
              "      <td>211</td>\n",
              "      <td>0</td>\n",
              "    </tr>\n",
              "    <tr>\n",
              "      <th>fake</th>\n",
              "      <td>19</td>\n",
              "      <td>2</td>\n",
              "    </tr>\n",
              "  </tbody>\n",
              "</table>\n",
              "</div>\n",
              "      <button class=\"colab-df-convert\" onclick=\"convertToInteractive('df-9b7e98c4-a6fc-40dc-8a59-79395bbc86e9')\"\n",
              "              title=\"Convert this dataframe to an interactive table.\"\n",
              "              style=\"display:none;\">\n",
              "        \n",
              "  <svg xmlns=\"http://www.w3.org/2000/svg\" height=\"24px\"viewBox=\"0 0 24 24\"\n",
              "       width=\"24px\">\n",
              "    <path d=\"M0 0h24v24H0V0z\" fill=\"none\"/>\n",
              "    <path d=\"M18.56 5.44l.94 2.06.94-2.06 2.06-.94-2.06-.94-.94-2.06-.94 2.06-2.06.94zm-11 1L8.5 8.5l.94-2.06 2.06-.94-2.06-.94L8.5 2.5l-.94 2.06-2.06.94zm10 10l.94 2.06.94-2.06 2.06-.94-2.06-.94-.94-2.06-.94 2.06-2.06.94z\"/><path d=\"M17.41 7.96l-1.37-1.37c-.4-.4-.92-.59-1.43-.59-.52 0-1.04.2-1.43.59L10.3 9.45l-7.72 7.72c-.78.78-.78 2.05 0 2.83L4 21.41c.39.39.9.59 1.41.59.51 0 1.02-.2 1.41-.59l7.78-7.78 2.81-2.81c.8-.78.8-2.07 0-2.86zM5.41 20L4 18.59l7.72-7.72 1.47 1.35L5.41 20z\"/>\n",
              "  </svg>\n",
              "      </button>\n",
              "      \n",
              "  <style>\n",
              "    .colab-df-container {\n",
              "      display:flex;\n",
              "      flex-wrap:wrap;\n",
              "      gap: 12px;\n",
              "    }\n",
              "\n",
              "    .colab-df-convert {\n",
              "      background-color: #E8F0FE;\n",
              "      border: none;\n",
              "      border-radius: 50%;\n",
              "      cursor: pointer;\n",
              "      display: none;\n",
              "      fill: #1967D2;\n",
              "      height: 32px;\n",
              "      padding: 0 0 0 0;\n",
              "      width: 32px;\n",
              "    }\n",
              "\n",
              "    .colab-df-convert:hover {\n",
              "      background-color: #E2EBFA;\n",
              "      box-shadow: 0px 1px 2px rgba(60, 64, 67, 0.3), 0px 1px 3px 1px rgba(60, 64, 67, 0.15);\n",
              "      fill: #174EA6;\n",
              "    }\n",
              "\n",
              "    [theme=dark] .colab-df-convert {\n",
              "      background-color: #3B4455;\n",
              "      fill: #D2E3FC;\n",
              "    }\n",
              "\n",
              "    [theme=dark] .colab-df-convert:hover {\n",
              "      background-color: #434B5C;\n",
              "      box-shadow: 0px 1px 3px 1px rgba(0, 0, 0, 0.15);\n",
              "      filter: drop-shadow(0px 1px 2px rgba(0, 0, 0, 0.3));\n",
              "      fill: #FFFFFF;\n",
              "    }\n",
              "  </style>\n",
              "\n",
              "      <script>\n",
              "        const buttonEl =\n",
              "          document.querySelector('#df-9b7e98c4-a6fc-40dc-8a59-79395bbc86e9 button.colab-df-convert');\n",
              "        buttonEl.style.display =\n",
              "          google.colab.kernel.accessAllowed ? 'block' : 'none';\n",
              "\n",
              "        async function convertToInteractive(key) {\n",
              "          const element = document.querySelector('#df-9b7e98c4-a6fc-40dc-8a59-79395bbc86e9');\n",
              "          const dataTable =\n",
              "            await google.colab.kernel.invokeFunction('convertToInteractive',\n",
              "                                                     [key], {});\n",
              "          if (!dataTable) return;\n",
              "\n",
              "          const docLinkHtml = 'Like what you see? Visit the ' +\n",
              "            '<a target=\"_blank\" href=https://colab.research.google.com/notebooks/data_table.ipynb>data table notebook</a>'\n",
              "            + ' to learn more about interactive tables.';\n",
              "          element.innerHTML = '';\n",
              "          dataTable['output_type'] = 'display_data';\n",
              "          await google.colab.output.renderOutput(dataTable, element);\n",
              "          const docLink = document.createElement('div');\n",
              "          docLink.innerHTML = docLinkHtml;\n",
              "          element.appendChild(docLink);\n",
              "        }\n",
              "      </script>\n",
              "    </div>\n",
              "  </div>\n",
              "  "
            ]
          },
          "metadata": {},
          "execution_count": 90
        }
      ]
    },
    {
      "cell_type": "markdown",
      "source": [
        "###SONDA"
      ],
      "metadata": {
        "id": "ftOglZ0M-bRL"
      }
    },
    {
      "cell_type": "code",
      "source": [
        "df_tail[\"Message\"] = df_tail[\"Message\"].str.lower()\n",
        "df_tail['Message']= df_tail['Message'].str.replace(r'[^A-Za-z0-9 .]+', ' ') \n",
        "\n",
        "maxSeq = len(df_tail[\"Message\"][0])\n",
        "for i in range (0,len(df_tail[\"Message\"])):\n",
        "    try:\n",
        "        cur = len(df_tail[\"Message\"][i])\n",
        "        if (cur > maxSeq):\n",
        "            maxSeq = cur\n",
        "    except:\n",
        "        pass\n",
        "\n",
        "df_tail.dropna(inplace=True)"
      ],
      "metadata": {
        "colab": {
          "base_uri": "https://localhost:8080/"
        },
        "id": "4ODqgoeu-UQt",
        "outputId": "53d8366f-ad11-4bea-c5ad-b95075191d44"
      },
      "execution_count": 91,
      "outputs": [
        {
          "output_type": "stream",
          "name": "stderr",
          "text": [
            "<ipython-input-91-a006ec4b28a2>:2: FutureWarning: The default value of regex will change from True to False in a future version.\n",
            "  df_tail['Message']= df_tail['Message'].str.replace(r'[^A-Za-z0-9 .]+', ' ')\n"
          ]
        }
      ]
    },
    {
      "cell_type": "code",
      "source": [
        "from collections import Counter\n",
        "\n",
        "def counter_word(text_col):\n",
        "    count = Counter()\n",
        "    for text in text_col.values:\n",
        "        for word in text.split():\n",
        "            count[word] += 1\n",
        "    return count\n",
        "\n",
        "counter = counter_word(df_tail.Message)\n",
        "\n",
        "MAX_NB_WORDS = len(counter)\n",
        "MAX_SEQUENCE_LENGTH = maxSeq\n",
        "\n",
        "EMBEDDING_DIM = 100\n",
        "tokenizer = Tokenizer(num_words=MAX_NB_WORDS)\n",
        "tokenizer.fit_on_texts(df_tail['Message'].values)\n",
        "with open(\"tokenizer.pickle\", \"wb\") as handle:\n",
        "    pickle.dump(tokenizer, handle, protocol=pickle.HIGHEST_PROTOCOL)\n",
        "    \n",
        "X = tokenizer.texts_to_sequences(df_tail['Message'].values)\n",
        "X = pad_sequences(X, maxlen=MAX_SEQUENCE_LENGTH)\n",
        "print('Shape of data tensor:', X.shape)\n",
        "\n",
        "from sklearn import preprocessing\n",
        "labelencoder = preprocessing.LabelEncoder()\n",
        "df_tail['Category'] = labelencoder.fit_transform(df_tail['Category'])\n",
        "Y = df_tail['Category'].values\n",
        "print('Shape of label tensor:', Y.shape)"
      ],
      "metadata": {
        "colab": {
          "base_uri": "https://localhost:8080/"
        },
        "id": "9oyyD3-q-kx_",
        "outputId": "f6862db8-5a58-478b-ae4a-f5eeb07a4959"
      },
      "execution_count": 92,
      "outputs": [
        {
          "output_type": "stream",
          "name": "stdout",
          "text": [
            "Shape of data tensor: (926, 29508)\n",
            "Shape of label tensor: (926,)\n"
          ]
        }
      ]
    },
    {
      "cell_type": "code",
      "source": [
        "from sklearn.model_selection import train_test_split\n",
        "X_train, X_test, Y_train, Y_test = train_test_split(X,Y, test_size = 0.25, random_state = 42)\n",
        "print(X_train.shape,Y_train.shape)\n",
        "print(X_test.shape,Y_test.shape)"
      ],
      "metadata": {
        "colab": {
          "base_uri": "https://localhost:8080/"
        },
        "id": "PVv0Nzmu-sUl",
        "outputId": "8b40dee0-dc7c-48ce-d901-d0e2b3aa7bf8"
      },
      "execution_count": 93,
      "outputs": [
        {
          "output_type": "stream",
          "name": "stdout",
          "text": [
            "(694, 29508) (694,)\n",
            "(232, 29508) (232,)\n"
          ]
        }
      ]
    },
    {
      "cell_type": "code",
      "source": [
        "import tensorflow \n",
        "from tensorflow.keras import layers\n",
        "from keras.callbacks import ModelCheckpoint, EarlyStopping\n",
        "\n",
        "model = tensorflow.keras.models.Sequential()\n",
        "model.add(layers.Embedding(MAX_NB_WORDS, EMBEDDING_DIM, input_length=X.shape[1]))\n",
        "model.add(layers.LSTM(32))\n",
        "model.add(layers.Dense(1, activation='sigmoid'))\n",
        "model.compile(loss='binary_crossentropy', optimizer='adam', metrics=['accuracy'])\n",
        "\n",
        "epochs = 10\n",
        "batch_size = 128\n",
        "\n",
        "history = model.fit(X_train, Y_train, epochs=epochs, batch_size=batch_size,validation_split=0.2,callbacks=[EarlyStopping(monitor='val_loss', patience=3, min_delta=0.0001)])\n",
        "\n",
        "print(history.model.summary())"
      ],
      "metadata": {
        "colab": {
          "base_uri": "https://localhost:8080/"
        },
        "id": "lLkn2ugw-u4d",
        "outputId": "b114e311-fd2c-4538-91b9-0d7d15352206"
      },
      "execution_count": 94,
      "outputs": [
        {
          "output_type": "stream",
          "name": "stdout",
          "text": [
            "Epoch 1/10\n",
            "5/5 [==============================] - 8s 1s/step - loss: 0.6830 - accuracy: 0.7946 - val_loss: 0.6650 - val_accuracy: 0.8417\n",
            "Epoch 2/10\n",
            "5/5 [==============================] - 6s 1s/step - loss: 0.6435 - accuracy: 0.8955 - val_loss: 0.6270 - val_accuracy: 0.8417\n",
            "Epoch 3/10\n",
            "5/5 [==============================] - 6s 1s/step - loss: 0.5825 - accuracy: 0.8937 - val_loss: 0.5590 - val_accuracy: 0.8417\n",
            "Epoch 4/10\n",
            "5/5 [==============================] - 6s 1s/step - loss: 0.4673 - accuracy: 0.8937 - val_loss: 0.4448 - val_accuracy: 0.8417\n",
            "Epoch 5/10\n",
            "5/5 [==============================] - 6s 1s/step - loss: 0.3260 - accuracy: 0.8937 - val_loss: 0.4265 - val_accuracy: 0.8417\n",
            "Epoch 6/10\n",
            "5/5 [==============================] - 6s 1s/step - loss: 0.3025 - accuracy: 0.8937 - val_loss: 0.4513 - val_accuracy: 0.8417\n",
            "Epoch 7/10\n",
            "5/5 [==============================] - 6s 1s/step - loss: 0.2931 - accuracy: 0.8937 - val_loss: 0.4254 - val_accuracy: 0.8417\n",
            "Epoch 8/10\n",
            "5/5 [==============================] - 6s 1s/step - loss: 0.2588 - accuracy: 0.8937 - val_loss: 0.3931 - val_accuracy: 0.8417\n",
            "Epoch 9/10\n",
            "5/5 [==============================] - 6s 1s/step - loss: 0.2288 - accuracy: 0.8991 - val_loss: 0.3681 - val_accuracy: 0.8489\n",
            "Epoch 10/10\n",
            "5/5 [==============================] - 6s 1s/step - loss: 0.1995 - accuracy: 0.9153 - val_loss: 0.3530 - val_accuracy: 0.8561\n",
            "Model: \"sequential_8\"\n",
            "_________________________________________________________________\n",
            " Layer (type)                Output Shape              Param #   \n",
            "=================================================================\n",
            " embedding_8 (Embedding)     (None, 29508, 100)        1885700   \n",
            "                                                                 \n",
            " lstm_8 (LSTM)               (None, 32)                17024     \n",
            "                                                                 \n",
            " dense_8 (Dense)             (None, 1)                 33        \n",
            "                                                                 \n",
            "=================================================================\n",
            "Total params: 1,902,757\n",
            "Trainable params: 1,902,757\n",
            "Non-trainable params: 0\n",
            "_________________________________________________________________\n",
            "None\n"
          ]
        }
      ]
    },
    {
      "cell_type": "code",
      "source": [
        "plt.title('Loss')\n",
        "plt.plot(history.history['loss'], label='train')\n",
        "plt.plot(history.history['val_loss'], label='test')\n",
        "plt.legend()\n",
        "plt.show()"
      ],
      "metadata": {
        "colab": {
          "base_uri": "https://localhost:8080/",
          "height": 281
        },
        "id": "KDnh-1cD-xwr",
        "outputId": "49095bf9-2271-4da4-cc03-9c84db84a31f"
      },
      "execution_count": 95,
      "outputs": [
        {
          "output_type": "display_data",
          "data": {
            "text/plain": [
              "<Figure size 432x288 with 1 Axes>"
            ],
            "image/png": "[encoded data removed]"
          },
          "metadata": {
            "needs_background": "light"
          }
        }
      ]
    },
    {
      "cell_type": "code",
      "source": [
        "plt.title('Accuracy')\n",
        "plt.plot(history.history['accuracy'], label='train')\n",
        "plt.plot(history.history['val_accuracy'], label='test')\n",
        "plt.legend()\n",
        "plt.show()"
      ],
      "metadata": {
        "colab": {
          "base_uri": "https://localhost:8080/",
          "height": 281
        },
        "id": "CsrmGY_i-07e",
        "outputId": "3752cfcc-4cff-4422-9dca-35855a883626"
      },
      "execution_count": 96,
      "outputs": [
        {
          "output_type": "display_data",
          "data": {
            "text/plain": [
              "<Figure size 432x288 with 1 Axes>"
            ],
            "image/png": "[encoded data removed]"
          },
          "metadata": {
            "needs_background": "light"
          }
        }
      ]
    },
    {
      "cell_type": "code",
      "source": [
        "threshold = 0.5\n",
        "\n",
        "result = model.predict(X_test, verbose=2)\n",
        "result = result > threshold\n",
        "result = result.astype(int)\n",
        "\n",
        "from sklearn.metrics import classification_report\n",
        "target_names = ['real','fake']\n",
        "print(classification_report(Y_test, result, target_names=target_names))\n",
        "\n",
        "   \n",
        "from sklearn.metrics import confusion_matrix\n",
        "cm = confusion_matrix(Y_test, result)\n",
        "cm_df = pd.DataFrame(cm,\n",
        "                     index = target_names, \n",
        "                     columns = target_names)\n",
        "cm_df"
      ],
      "metadata": {
        "colab": {
          "base_uri": "https://localhost:8080/",
          "height": 286
        },
        "id": "l6zjoylT-1a-",
        "outputId": "4bf7a10b-b6e9-4ea7-9601-d5fd5038ff12"
      },
      "execution_count": 97,
      "outputs": [
        {
          "output_type": "stream",
          "name": "stdout",
          "text": [
            "8/8 - 3s - 3s/epoch - 381ms/step\n",
            "              precision    recall  f1-score   support\n",
            "\n",
            "        real       0.91      1.00      0.95       211\n",
            "        fake       1.00      0.05      0.09        21\n",
            "\n",
            "    accuracy                           0.91       232\n",
            "   macro avg       0.96      0.52      0.52       232\n",
            "weighted avg       0.92      0.91      0.88       232\n",
            "\n"
          ]
        },
        {
          "output_type": "execute_result",
          "data": {
            "text/plain": [
              "      real  fake\n",
              "real   211     0\n",
              "fake    20     1"
            ],
            "text/html": [
              "\n",
              "  <div id=\"df-0d593828-0ee4-416d-90b1-d417da274ca6\">\n",
              "    <div class=\"colab-df-container\">\n",
              "      <div>\n",
              "<style scoped>\n",
              "    .dataframe tbody tr th:only-of-type {\n",
              "        vertical-align: middle;\n",
              "    }\n",
              "\n",
              "    .dataframe tbody tr th {\n",
              "        vertical-align: top;\n",
              "    }\n",
              "\n",
              "    .dataframe thead th {\n",
              "        text-align: right;\n",
              "    }\n",
              "</style>\n",
              "<table border=\"1\" class=\"dataframe\">\n",
              "  <thead>\n",
              "    <tr style=\"text-align: right;\">\n",
              "      <th></th>\n",
              "      <th>real</th>\n",
              "      <th>fake</th>\n",
              "    </tr>\n",
              "  </thead>\n",
              "  <tbody>\n",
              "    <tr>\n",
              "      <th>real</th>\n",
              "      <td>211</td>\n",
              "      <td>0</td>\n",
              "    </tr>\n",
              "    <tr>\n",
              "      <th>fake</th>\n",
              "      <td>20</td>\n",
              "      <td>1</td>\n",
              "    </tr>\n",
              "  </tbody>\n",
              "</table>\n",
              "</div>\n",
              "      <button class=\"colab-df-convert\" onclick=\"convertToInteractive('df-0d593828-0ee4-416d-90b1-d417da274ca6')\"\n",
              "              title=\"Convert this dataframe to an interactive table.\"\n",
              "              style=\"display:none;\">\n",
              "        \n",
              "  <svg xmlns=\"http://www.w3.org/2000/svg\" height=\"24px\"viewBox=\"0 0 24 24\"\n",
              "       width=\"24px\">\n",
              "    <path d=\"M0 0h24v24H0V0z\" fill=\"none\"/>\n",
              "    <path d=\"M18.56 5.44l.94 2.06.94-2.06 2.06-.94-2.06-.94-.94-2.06-.94 2.06-2.06.94zm-11 1L8.5 8.5l.94-2.06 2.06-.94-2.06-.94L8.5 2.5l-.94 2.06-2.06.94zm10 10l.94 2.06.94-2.06 2.06-.94-2.06-.94-.94-2.06-.94 2.06-2.06.94z\"/><path d=\"M17.41 7.96l-1.37-1.37c-.4-.4-.92-.59-1.43-.59-.52 0-1.04.2-1.43.59L10.3 9.45l-7.72 7.72c-.78.78-.78 2.05 0 2.83L4 21.41c.39.39.9.59 1.41.59.51 0 1.02-.2 1.41-.59l7.78-7.78 2.81-2.81c.8-.78.8-2.07 0-2.86zM5.41 20L4 18.59l7.72-7.72 1.47 1.35L5.41 20z\"/>\n",
              "  </svg>\n",
              "      </button>\n",
              "      \n",
              "  <style>\n",
              "    .colab-df-container {\n",
              "      display:flex;\n",
              "      flex-wrap:wrap;\n",
              "      gap: 12px;\n",
              "    }\n",
              "\n",
              "    .colab-df-convert {\n",
              "      background-color: #E8F0FE;\n",
              "      border: none;\n",
              "      border-radius: 50%;\n",
              "      cursor: pointer;\n",
              "      display: none;\n",
              "      fill: #1967D2;\n",
              "      height: 32px;\n",
              "      padding: 0 0 0 0;\n",
              "      width: 32px;\n",
              "    }\n",
              "\n",
              "    .colab-df-convert:hover {\n",
              "      background-color: #E2EBFA;\n",
              "      box-shadow: 0px 1px 2px rgba(60, 64, 67, 0.3), 0px 1px 3px 1px rgba(60, 64, 67, 0.15);\n",
              "      fill: #174EA6;\n",
              "    }\n",
              "\n",
              "    [theme=dark] .colab-df-convert {\n",
              "      background-color: #3B4455;\n",
              "      fill: #D2E3FC;\n",
              "    }\n",
              "\n",
              "    [theme=dark] .colab-df-convert:hover {\n",
              "      background-color: #434B5C;\n",
              "      box-shadow: 0px 1px 3px 1px rgba(0, 0, 0, 0.15);\n",
              "      filter: drop-shadow(0px 1px 2px rgba(0, 0, 0, 0.3));\n",
              "      fill: #FFFFFF;\n",
              "    }\n",
              "  </style>\n",
              "\n",
              "      <script>\n",
              "        const buttonEl =\n",
              "          document.querySelector('#df-0d593828-0ee4-416d-90b1-d417da274ca6 button.colab-df-convert');\n",
              "        buttonEl.style.display =\n",
              "          google.colab.kernel.accessAllowed ? 'block' : 'none';\n",
              "\n",
              "        async function convertToInteractive(key) {\n",
              "          const element = document.querySelector('#df-0d593828-0ee4-416d-90b1-d417da274ca6');\n",
              "          const dataTable =\n",
              "            await google.colab.kernel.invokeFunction('convertToInteractive',\n",
              "                                                     [key], {});\n",
              "          if (!dataTable) return;\n",
              "\n",
              "          const docLinkHtml = 'Like what you see? Visit the ' +\n",
              "            '<a target=\"_blank\" href=https://colab.research.google.com/notebooks/data_table.ipynb>data table notebook</a>'\n",
              "            + ' to learn more about interactive tables.';\n",
              "          element.innerHTML = '';\n",
              "          dataTable['output_type'] = 'display_data';\n",
              "          await google.colab.output.renderOutput(dataTable, element);\n",
              "          const docLink = document.createElement('div');\n",
              "          docLink.innerHTML = docLinkHtml;\n",
              "          element.appendChild(docLink);\n",
              "        }\n",
              "      </script>\n",
              "    </div>\n",
              "  </div>\n",
              "  "
            ]
          },
          "metadata": {},
          "execution_count": 97
        }
      ]
    },
    {
      "cell_type": "code",
      "source": [],
      "metadata": {
        "id": "nThkog8d_QjO"
      },
      "execution_count": null,
      "outputs": []
    }
  ]
}